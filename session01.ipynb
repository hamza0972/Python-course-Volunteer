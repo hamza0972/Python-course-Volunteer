{
  "nbformat": 4,
  "nbformat_minor": 0,
  "metadata": {
    "colab": {
      "provenance": [],
      "authorship_tag": "ABX9TyMFUFZyZvLjqf/zDuj9RXgL",
      "include_colab_link": true
    },
    "kernelspec": {
      "name": "python3",
      "display_name": "Python 3"
    },
    "language_info": {
      "name": "python"
    }
  },
  "cells": [
    {
      "cell_type": "markdown",
      "metadata": {
        "id": "view-in-github",
        "colab_type": "text"
      },
      "source": [
        "<a href=\"https://colab.research.google.com/github/hamza0972/Python-course-Volunteer/blob/main/session01.ipynb\" target=\"_parent\"><img src=\"https://colab.research.google.com/assets/colab-badge.svg\" alt=\"Open In Colab\"/></a>"
      ]
    },
    {
      "cell_type": "markdown",
      "source": [
        "# ***Our first program***"
      ],
      "metadata": {
        "id": "Yc770A2OoKN4"
      }
    },
    {
      "cell_type": "code",
      "source": [
        "print(\"Hamza\")\n",
        "print(\"Pakistan\")"
      ],
      "metadata": {
        "colab": {
          "base_uri": "https://localhost:8080/"
        },
        "id": "qrjOtN-foPTy",
        "outputId": "57e35e70-4285-43d4-cc7f-e6c8146baea1"
      },
      "execution_count": null,
      "outputs": [
        {
          "output_type": "stream",
          "name": "stdout",
          "text": [
            "Hamza\n",
            "Pakistan\n"
          ]
        }
      ]
    }
  ]
}