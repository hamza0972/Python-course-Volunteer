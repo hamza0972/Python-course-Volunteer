{
  "nbformat": 4,
  "nbformat_minor": 0,
  "metadata": {
    "colab": {
      "provenance": [],
      "authorship_tag": "ABX9TyN5f9FR4CM6l815nhHgUnzR",
      "include_colab_link": true
    },
    "kernelspec": {
      "name": "python3",
      "display_name": "Python 3"
    },
    "language_info": {
      "name": "python"
    }
  },
  "cells": [
    {
      "cell_type": "markdown",
      "metadata": {
        "id": "view-in-github",
        "colab_type": "text"
      },
      "source": [
        "<a href=\"https://colab.research.google.com/github/hamza0972/Python-course-Volunteer/blob/main/session8.ipynb\" target=\"_parent\"><img src=\"https://colab.research.google.com/assets/colab-badge.svg\" alt=\"Open In Colab\"/></a>"
      ]
    },
    {
      "cell_type": "code",
      "execution_count": 90,
      "metadata": {
        "colab": {
          "base_uri": "https://localhost:8080/"
        },
        "id": "X9eFmRwwS6JL",
        "outputId": "c2ee1995-730c-46f7-9cec-f5066ed288ef"
      },
      "outputs": [
        {
          "output_type": "stream",
          "name": "stdout",
          "text": [
            "Hamza\n",
            "Hamza\n",
            "Hamza\n",
            "Hamza\n"
          ]
        }
      ],
      "source": [
        "# Program looks like without using loop\n",
        "print(\"Hamza\")\n",
        "print(\"Hamza\")\n",
        "print(\"Hamza\")\n",
        "print(\"Hamza\")"
      ]
    },
    {
      "cell_type": "markdown",
      "source": [
        "#while loop"
      ],
      "metadata": {
        "id": "RqxR2T_KHzWu"
      }
    },
    {
      "cell_type": "markdown",
      "source": [
        "Print your name 10 times by using while loop"
      ],
      "metadata": {
        "id": "lney89kdH7iU"
      }
    },
    {
      "cell_type": "code",
      "source": [
        "i=0\n",
        "while i<10:\n",
        "  print(\"Hamza\")\n",
        "  i+=1"
      ],
      "metadata": {
        "colab": {
          "base_uri": "https://localhost:8080/"
        },
        "id": "bAGX_5TC0Vy9",
        "outputId": "31c44292-02e7-4a9a-aa3c-00a9823117cf"
      },
      "execution_count": 92,
      "outputs": [
        {
          "output_type": "stream",
          "name": "stdout",
          "text": [
            "Hamza\n",
            "Hamza\n",
            "Hamza\n",
            "Hamza\n",
            "Hamza\n",
            "Hamza\n",
            "Hamza\n",
            "Hamza\n",
            "Hamza\n",
            "Hamza\n"
          ]
        }
      ]
    },
    {
      "cell_type": "markdown",
      "source": [
        "Print numbers from 1 to 10 by using while loop"
      ],
      "metadata": {
        "id": "JItkqtXqIDyc"
      }
    },
    {
      "cell_type": "code",
      "source": [
        "num=1\n",
        "while num<=10:\n",
        "  print(num)\n",
        "  num+=1"
      ],
      "metadata": {
        "colab": {
          "base_uri": "https://localhost:8080/"
        },
        "id": "Qu9LU8JM06PZ",
        "outputId": "dcf68f53-3fb5-4949-de9b-ccde90ec06be"
      },
      "execution_count": 45,
      "outputs": [
        {
          "output_type": "stream",
          "name": "stdout",
          "text": [
            "1\n",
            "2\n",
            "3\n",
            "4\n",
            "5\n",
            "6\n",
            "7\n",
            "8\n",
            "9\n",
            "10\n"
          ]
        }
      ]
    },
    {
      "cell_type": "markdown",
      "source": [
        "use of formatted string in loop"
      ],
      "metadata": {
        "id": "q53td62YIK76"
      }
    },
    {
      "cell_type": "code",
      "source": [
        "num=1\n",
        "# while num<=7:\n",
        "while num<8:\n",
        "  # printing variables by using formatted string\n",
        "  print(f\"{num} times Hamza\")\n",
        "  num+=1"
      ],
      "metadata": {
        "colab": {
          "base_uri": "https://localhost:8080/"
        },
        "id": "1JNJN1U-3K09",
        "outputId": "d3399080-803e-4939-fca9-a0971e3b3919"
      },
      "execution_count": 50,
      "outputs": [
        {
          "output_type": "stream",
          "name": "stdout",
          "text": [
            "1 times Hamza\n",
            "2 times Hamza\n",
            "3 times Hamza\n",
            "4 times Hamza\n",
            "5 times Hamza\n",
            "6 times Hamza\n",
            "7 times Hamza\n"
          ]
        }
      ]
    },
    {
      "cell_type": "markdown",
      "source": [
        " use of end=\" \" in loop"
      ],
      "metadata": {
        "id": "95lDo15DIb_g"
      }
    },
    {
      "cell_type": "code",
      "source": [
        "num=1\n",
        "# while num<=7:\n",
        "while num<8:\n",
        "  # print name 7 times without terminating the line\n",
        "  print(\"Hamza\",end=\" \")\n",
        "  num+=1\n",
        "# we have to use end=\"\" bcz it is the by default behaviour of python that on running a loop it print the statement on a new line"
      ],
      "metadata": {
        "colab": {
          "base_uri": "https://localhost:8080/"
        },
        "id": "zxkSkVIR5FHV",
        "outputId": "394e5568-65ca-47b1-a436-cc0b694099aa"
      },
      "execution_count": 95,
      "outputs": [
        {
          "output_type": "stream",
          "name": "stdout",
          "text": [
            "Hamza Hamza Hamza Hamza Hamza Hamza Hamza "
          ]
        }
      ]
    },
    {
      "cell_type": "markdown",
      "source": [
        "printing the table of a number by using while loop"
      ],
      "metadata": {
        "id": "9QqTdAQrJL8q"
      }
    },
    {
      "cell_type": "code",
      "source": [
        "number=int(input(\"enter a number to display the table \"))\n",
        "\n",
        "i=1\n",
        "while i<=10:\n",
        "  print(f\"{number} x {i} = {number*i}\")\n",
        "  i+=1"
      ],
      "metadata": {
        "colab": {
          "base_uri": "https://localhost:8080/"
        },
        "id": "UgzLvTJK5yjr",
        "outputId": "43df8e7a-12f8-4e47-9ce7-9f64c5b616c7"
      },
      "execution_count": 59,
      "outputs": [
        {
          "output_type": "stream",
          "name": "stdout",
          "text": [
            "enter a number to display the table 8\n",
            "8 x 1 = 8\n",
            "8 x 2 = 16\n",
            "8 x 3 = 24\n",
            "8 x 4 = 32\n",
            "8 x 5 = 40\n",
            "8 x 6 = 48\n",
            "8 x 7 = 56\n",
            "8 x 8 = 64\n",
            "8 x 9 = 72\n",
            "8 x 10 = 80\n"
          ]
        }
      ]
    },
    {
      "cell_type": "markdown",
      "source": [
        "Print odd numbers in reverse from 100 to 1 by using while loop"
      ],
      "metadata": {
        "id": "AonU_x0CJZWN"
      }
    },
    {
      "cell_type": "code",
      "source": [
        "num=100\n",
        "num=num-1\n",
        "# we have to update the variable with 99 bcz our series will start from 99\n",
        "while num>=1:\n",
        "  print(num, end=\", \")\n",
        "  num-=2"
      ],
      "metadata": {
        "colab": {
          "base_uri": "https://localhost:8080/"
        },
        "id": "cJBularq7xf_",
        "outputId": "96b9a755-093a-4d0c-b01b-c7ee2c2e0c75"
      },
      "execution_count": 65,
      "outputs": [
        {
          "output_type": "stream",
          "name": "stdout",
          "text": [
            "99, 97, 95, 93, 91, 89, 87, 85, 83, 81, 79, 77, 75, 73, 71, 69, 67, 65, 63, 61, 59, 57, 55, 53, 51, 49, 47, 45, 43, 41, 39, 37, 35, 33, 31, 29, 27, 25, 23, 21, 19, 17, 15, 13, 11, 9, 7, 5, 3, 1, "
          ]
        }
      ]
    },
    {
      "cell_type": "markdown",
      "source": [
        "concept of for loop"
      ],
      "metadata": {
        "id": "3q9PW69tJjGh"
      }
    },
    {
      "cell_type": "code",
      "source": [
        "start=8\n",
        "stop=20\n",
        "jump=1\n",
        "for value in range(start,stop,jump):\n",
        "  print(value)"
      ],
      "metadata": {
        "colab": {
          "base_uri": "https://localhost:8080/"
        },
        "id": "4f1nWSZz8oka",
        "outputId": "f78fa306-7d2f-40a5-ee95-6fd336744099"
      },
      "execution_count": 68,
      "outputs": [
        {
          "output_type": "stream",
          "name": "stdout",
          "text": [
            "8\n",
            "9\n",
            "10\n",
            "11\n",
            "12\n",
            "13\n",
            "14\n",
            "15\n",
            "16\n",
            "17\n",
            "18\n",
            "19\n"
          ]
        }
      ]
    },
    {
      "cell_type": "code",
      "source": [
        "for i in range(9,2):\n",
        "  print(i)\n",
        "\n",
        "# it will not return any output bcz starting point should always be greater then ending point."
      ],
      "metadata": {
        "id": "pDbqFWqN-BRj"
      },
      "execution_count": 102,
      "outputs": []
    },
    {
      "cell_type": "code",
      "source": [
        "for i in range(4):\n",
        "  print(i)\n",
        "\n",
        "# start=0\n",
        "# stop= 4\n",
        "# jump=1\n",
        "\n",
        "  # here by default starting point is 0 and it apply the increment of 1"
      ],
      "metadata": {
        "colab": {
          "base_uri": "https://localhost:8080/"
        },
        "id": "ELMApziF-qv2",
        "outputId": "f34788de-1f02-49e0-cebe-8defe5d29956"
      },
      "execution_count": 74,
      "outputs": [
        {
          "output_type": "stream",
          "name": "stdout",
          "text": [
            "0\n",
            "1\n",
            "2\n",
            "3\n"
          ]
        }
      ]
    },
    {
      "cell_type": "markdown",
      "source": [
        "Print Even Numbers from 2 to 10 use for loop\n",
        "\n"
      ],
      "metadata": {
        "id": "UEvza3rqKB7y"
      }
    },
    {
      "cell_type": "code",
      "source": [
        "for i in range(2,11,2):\n",
        "  print(i)"
      ],
      "metadata": {
        "colab": {
          "base_uri": "https://localhost:8080/"
        },
        "id": "DsjZ7CJq_b47",
        "outputId": "e577c6c7-2db6-4ee8-dcf3-d8594cb3635f"
      },
      "execution_count": 96,
      "outputs": [
        {
          "output_type": "stream",
          "name": "stdout",
          "text": [
            "2\n",
            "4\n",
            "6\n",
            "8\n",
            "10\n"
          ]
        }
      ]
    },
    {
      "cell_type": "markdown",
      "source": [
        "Calculate the sum of numbers from 1 to n by using for loop\n"
      ],
      "metadata": {
        "id": "FpgEG5YmKU2Y"
      }
    },
    {
      "cell_type": "code",
      "source": [
        "n=int(input(\"Enter a number \"))\n",
        "sum=0\n",
        "for i in range(1,n+1):\n",
        "  # update the variable sum in loop\n",
        "  sum+=i\n",
        "print(f\"sum of numbers from 1 to {n} is: {sum}\")"
      ],
      "metadata": {
        "colab": {
          "base_uri": "https://localhost:8080/"
        },
        "id": "1Fw6aPvuAtph",
        "outputId": "8e9cb677-254e-4921-e921-ed1263811ad2"
      },
      "execution_count": 101,
      "outputs": [
        {
          "output_type": "stream",
          "name": "stdout",
          "text": [
            "Enter a number 9\n",
            "sum of numbers from 1 to 9 is: 45\n"
          ]
        }
      ]
    }
  ]
}