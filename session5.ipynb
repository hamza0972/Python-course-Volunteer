{
  "nbformat": 4,
  "nbformat_minor": 0,
  "metadata": {
    "colab": {
      "provenance": [],
      "authorship_tag": "ABX9TyOnk+/SFvZQLfAWuSJhCmGF",
      "include_colab_link": true
    },
    "kernelspec": {
      "name": "python3",
      "display_name": "Python 3"
    },
    "language_info": {
      "name": "python"
    }
  },
  "cells": [
    {
      "cell_type": "markdown",
      "metadata": {
        "id": "view-in-github",
        "colab_type": "text"
      },
      "source": [
        "<a href=\"https://colab.research.google.com/github/hamza0972/Python-course-Volunteer/blob/main/session5.ipynb\" target=\"_parent\"><img src=\"https://colab.research.google.com/assets/colab-badge.svg\" alt=\"Open In Colab\"/></a>"
      ]
    },
    {
      "cell_type": "markdown",
      "source": [
        "#input from the user"
      ],
      "metadata": {
        "id": "V98XD9GrYzN8"
      }
    },
    {
      "cell_type": "code",
      "source": [
        "age=input(\"Enter your age: \")\n",
        "new=int(age)   #by default input return string so we convert it into integer\n",
        "print(\"You will be\", new+1,\"in next year\")"
      ],
      "metadata": {
        "colab": {
          "base_uri": "https://localhost:8080/"
        },
        "id": "fifL6dOXiEFI",
        "outputId": "084d5390-1d86-4f94-ff3c-971e44e3a171"
      },
      "execution_count": 104,
      "outputs": [
        {
          "output_type": "stream",
          "name": "stdout",
          "text": [
            "Enter your age: 20\n",
            "You will be 21 in next year\n"
          ]
        }
      ]
    },
    {
      "cell_type": "code",
      "source": [
        "# take inputs from the user\n",
        "num1=int(input(\"enter a number \"))\n",
        "num2=int(input(\"enter a number \"))\n",
        "# calculate the sum\n",
        "sum=num1+num2\n",
        "# display the result\n",
        "print(\"Sum of\",num1, \"and\", num2, \"is\", sum)\n",
        "#formatted string\n",
        "print(f\"Sum of {num1} and {num2} is {sum}.\")"
      ],
      "metadata": {
        "colab": {
          "base_uri": "https://localhost:8080/"
        },
        "id": "0jfEQjbrE2uU",
        "outputId": "a6c4818a-c3ef-4edd-eaba-ca25e0f59d39"
      },
      "execution_count": 74,
      "outputs": [
        {
          "output_type": "stream",
          "name": "stdout",
          "text": [
            "enter a number 12\n",
            "enter a number 12\n",
            "Sum of 12 and 12 is 24\n",
            "Sum of 12 and 12 is 24.\n"
          ]
        }
      ]
    },
    {
      "cell_type": "markdown",
      "source": [
        "Write a Python program that calculates the total cost of a shopping item using formatted strings.\n",
        "Prompt the user to enter the name of the item, its price (as a float), and the quantity (as an integer).\n",
        "Calculate the total cost by multiplying the price with the quantity.\n",
        "Use a formatted string (f-string) to display the following output:\n",
        "\n",
        "\n",
        "You bought 4 Notebooks at Rs. 120.5 each.\n",
        "\n",
        "Your total bill is: Rs. 482.0"
      ],
      "metadata": {
        "id": "FePHzYR6j3Pm"
      }
    },
    {
      "cell_type": "code",
      "source": [
        "#declare varaibles and take inputs from the user\n",
        "\n",
        "item_name=input(\"enter the name of the item: \")\n",
        "price=float(input(\"enter the price of the item: \"))\n",
        "quantity=int(input(\"enter the quantity of the item: \"))\n",
        "\n",
        "#finding cost\n",
        "\n",
        "cost=price*quantity\n",
        "\n",
        "#print the result\n",
        "print(f\"You bought {quantity} {item_name} at Rs.{price} each.\")\n",
        "print(f\"Your total bill is Rs.{cost}\")\n",
        "\n",
        "#print with formatted string\n",
        "# print(f\"You bought {quantity} {item_name} at Rs.{price} each.\\nYour total bill is Rs.{cost}\")"
      ],
      "metadata": {
        "colab": {
          "base_uri": "https://localhost:8080/"
        },
        "id": "o4Q5_UITGff3",
        "outputId": "0bf2325f-9f18-4834-9239-b1971713a1cc"
      },
      "execution_count": 80,
      "outputs": [
        {
          "output_type": "stream",
          "name": "stdout",
          "text": [
            "enter the name of the item: b\n",
            "enter the price of the item: 2\n",
            "enter the quantity of the item: 2\n",
            "You bought 2 b at Rs.2.0 each.\n",
            "Your total bill is Rs.4.0\n",
            "You bought 2 b at Rs.2.0 each.\n",
            "Your total bill is Rs.4.0\n"
          ]
        }
      ]
    },
    {
      "cell_type": "markdown",
      "source": [
        "#arithmetic operators"
      ],
      "metadata": {
        "id": "Imi6GFB5fpV-"
      }
    },
    {
      "cell_type": "code",
      "source": [
        "#arithmetic operators\n",
        "a=9\n",
        "b=3\n",
        "print(a+b)  #addition\n",
        "print(a-b)  #subtraction\n",
        "print(a*b)  #multiplication\n",
        "print(a/b)  #division\n",
        "print(a//b)  #floor division\n",
        "print(a%b)  #modulus\n",
        "print(a**b)  #power\n",
        "\n",
        "#  +-  operators  a,b operands"
      ],
      "metadata": {
        "colab": {
          "base_uri": "https://localhost:8080/"
        },
        "id": "rAekqUXFI2OQ",
        "outputId": "9b661766-1fea-4d66-dac2-bc7421417ca1"
      },
      "execution_count": 79,
      "outputs": [
        {
          "output_type": "stream",
          "name": "stdout",
          "text": [
            "12\n",
            "6\n",
            "27\n",
            "3.0\n",
            "3\n",
            "0\n",
            "729\n"
          ]
        }
      ]
    },
    {
      "cell_type": "markdown",
      "source": [
        "#comparison operators"
      ],
      "metadata": {
        "id": "OYt0apf0gLjQ"
      }
    },
    {
      "cell_type": "code",
      "source": [
        "#comparison operators\n",
        "\n",
        "print(5==6)       #False (is equal to)\n",
        "print(5<6)        #True (less then)\n",
        "print(12>90)      #False (greater then)\n",
        "print(5<=2)       #False (less then equal to)\n",
        "print(78>=109)    #False (greater then equal to)\n",
        "print(5!=5)       #False  (not equal to)\n",
        "print(1==True)    #True   (is equal to)\n",
        "print(1==\"a\")     #False  bcz int and string are not comparable.\n",
        "print(\"True\"==True)#False  bcz boolean and string are not comparable."
      ],
      "metadata": {
        "colab": {
          "base_uri": "https://localhost:8080/"
        },
        "id": "LbphD-chL1c8",
        "outputId": "d80f4b40-e2a0-489f-e0d8-e8689f73dad9"
      },
      "execution_count": 84,
      "outputs": [
        {
          "output_type": "stream",
          "name": "stdout",
          "text": [
            "False\n",
            "True\n",
            "False\n",
            "False\n",
            "False\n",
            "False\n",
            "True\n",
            "False\n",
            "False\n"
          ]
        }
      ]
    },
    {
      "cell_type": "markdown",
      "source": [
        "#logical operators"
      ],
      "metadata": {
        "id": "JlLSp1r3gVuB"
      }
    },
    {
      "cell_type": "code",
      "source": [
        "#logical operators\n",
        "\n",
        "print(25<6 and 18<9)         #if all conditions are True then return True\n",
        "print(123<89 or 78<10)       #if any one condition is True then return True\n",
        "print(not(True))             #not return opposite\n",
        "print(not(15<9))             #not return opposite"
      ],
      "metadata": {
        "colab": {
          "base_uri": "https://localhost:8080/"
        },
        "id": "Dxoh7XoVOFe6",
        "outputId": "4e9ea60c-5ebe-4df2-8fdf-fae82319736b"
      },
      "execution_count": 85,
      "outputs": [
        {
          "output_type": "stream",
          "name": "stdout",
          "text": [
            "False\n",
            "False\n",
            "False\n",
            "True\n"
          ]
        }
      ]
    },
    {
      "cell_type": "code",
      "source": [
        "num=90\n",
        "print(not(num))   #bcz here num has the data, so while applying not it returns False"
      ],
      "metadata": {
        "colab": {
          "base_uri": "https://localhost:8080/"
        },
        "id": "N9o8uzfFPcvZ",
        "outputId": "63ea7f5f-665b-4e73-ba32-530a4274f3e3"
      },
      "execution_count": 49,
      "outputs": [
        {
          "output_type": "stream",
          "name": "stdout",
          "text": [
            "False\n"
          ]
        }
      ]
    },
    {
      "cell_type": "code",
      "source": [
        "a=None\n",
        "print(not(a))\n",
        "\n",
        "#bcz here a has not any data, so while applying not returns False"
      ],
      "metadata": {
        "colab": {
          "base_uri": "https://localhost:8080/"
        },
        "id": "JzEfeNW6P45C",
        "outputId": "75fef6d5-756a-44ec-924f-a81a0bac2103"
      },
      "execution_count": 50,
      "outputs": [
        {
          "output_type": "stream",
          "name": "stdout",
          "text": [
            "True\n"
          ]
        }
      ]
    },
    {
      "cell_type": "markdown",
      "source": [
        "#assignment operators"
      ],
      "metadata": {
        "id": "PQCVQpYxI1_6"
      }
    },
    {
      "cell_type": "code",
      "source": [
        "#assignment operators\n",
        "\n",
        "a=4\n",
        "a+=2  #a=a+2   add and assign\n",
        "print(a)"
      ],
      "metadata": {
        "colab": {
          "base_uri": "https://localhost:8080/"
        },
        "id": "Pqm0zyYsQfL7",
        "outputId": "5c2ef0d0-7d52-4c77-9dc5-fa835c41c56a"
      },
      "execution_count": 86,
      "outputs": [
        {
          "output_type": "stream",
          "name": "stdout",
          "text": [
            "6\n"
          ]
        }
      ]
    },
    {
      "cell_type": "code",
      "source": [
        "a=4\n",
        "a-=1  #a=a-1   subtract and assign\n",
        "print(a)\n"
      ],
      "metadata": {
        "colab": {
          "base_uri": "https://localhost:8080/"
        },
        "id": "y9WLOvbXiMKP",
        "outputId": "f821e153-2339-4c7a-8c80-3a007063d9cd"
      },
      "execution_count": 90,
      "outputs": [
        {
          "output_type": "stream",
          "name": "stdout",
          "text": [
            "3\n"
          ]
        }
      ]
    },
    {
      "cell_type": "code",
      "source": [
        "a=9\n",
        "a*=2     #a=a*2     multiply and assign\n",
        "print(a)"
      ],
      "metadata": {
        "colab": {
          "base_uri": "https://localhost:8080/"
        },
        "id": "vpV9yPXzi90Z",
        "outputId": "6e7c4d1b-fd91-40c1-da10-742cf934ba9e"
      },
      "execution_count": 92,
      "outputs": [
        {
          "output_type": "stream",
          "name": "stdout",
          "text": [
            "18\n"
          ]
        }
      ]
    },
    {
      "cell_type": "code",
      "source": [
        "a=20\n",
        "a**=2     #a=a**2     power and assign\n",
        "print(a)"
      ],
      "metadata": {
        "colab": {
          "base_uri": "https://localhost:8080/"
        },
        "id": "gZvflMEcjKY9",
        "outputId": "4d634d31-28f0-4de3-e354-748039ac18f9"
      },
      "execution_count": 95,
      "outputs": [
        {
          "output_type": "stream",
          "name": "stdout",
          "text": [
            "400\n"
          ]
        }
      ]
    },
    {
      "cell_type": "code",
      "source": [
        "a=8\n",
        "a/=12     #a=a/12     divide and assign\n",
        "print(a)"
      ],
      "metadata": {
        "colab": {
          "base_uri": "https://localhost:8080/"
        },
        "id": "IOWFM1bOjRKa",
        "outputId": "4b30439f-53b5-4fe2-d4f5-f380c5668877"
      },
      "execution_count": 96,
      "outputs": [
        {
          "output_type": "stream",
          "name": "stdout",
          "text": [
            "0.6666666666666666\n"
          ]
        }
      ]
    },
    {
      "cell_type": "code",
      "source": [
        "a=19\n",
        "a%=2     #a=a%2     modulus and assign\n",
        "print(a)"
      ],
      "metadata": {
        "colab": {
          "base_uri": "https://localhost:8080/"
        },
        "id": "qNYYWaE6jcdO",
        "outputId": "e47edc71-bd29-4b4d-efac-9bc4c443b4ee"
      },
      "execution_count": 97,
      "outputs": [
        {
          "output_type": "stream",
          "name": "stdout",
          "text": [
            "1\n"
          ]
        }
      ]
    },
    {
      "cell_type": "code",
      "source": [
        "a=9\n",
        "a//=2     #a=a*2     floor divide and assign\n",
        "print(a)"
      ],
      "metadata": {
        "colab": {
          "base_uri": "https://localhost:8080/"
        },
        "id": "wIar0Y6ijk06",
        "outputId": "29a7eb6b-e07d-48c6-9006-afe8e44ff836"
      },
      "execution_count": 98,
      "outputs": [
        {
          "output_type": "stream",
          "name": "stdout",
          "text": [
            "4\n"
          ]
        }
      ]
    },
    {
      "cell_type": "markdown",
      "source": [
        "Question: Movie Night Group Discount at cinema charges Rs. 850 per ticket.\n",
        "\n",
        "A group gets a 15% discount if:\n",
        "\n",
        "The group has 4 or more people AND The total price is more than 3000\n",
        "\n",
        "Write a program that: Takes number of people as input Calculates total cost Applies discount automatically using formulas Displays all details"
      ],
      "metadata": {
        "id": "Huy5UfCA3ScF"
      }
    },
    {
      "cell_type": "code",
      "source": [
        "# declare variables\n",
        "num_ppl=int(input(\"enter the number of people: \"))\n",
        "charges=850\n",
        "# calculate total price\n",
        "total=charges*num_ppl\n",
        "print(f\"Total price is {total}\")\n",
        "\n",
        "# check whether the user is eligible for discount\n",
        "is_dis=num_ppl>=4 and total>3000\n",
        "# print(is_dis)  it return True or False\n",
        "# Find discount\n",
        "dis=total*0.15*is_dis  #is_dis may have the value 1 or 0\n",
        "print(f\"Discount is {dis}\")\n",
        "new_price=total-dis\n",
        "print(f\"Total Price after discount is: {new_price}\")"
      ],
      "metadata": {
        "colab": {
          "base_uri": "https://localhost:8080/"
        },
        "id": "3jBHHiwyQic1",
        "outputId": "a14ea982-d6fa-4c5f-d4f7-2623a481cc11"
      },
      "execution_count": 103,
      "outputs": [
        {
          "output_type": "stream",
          "name": "stdout",
          "text": [
            "enter the number of people: 4\n",
            "Total price is 3400\n",
            "Discount is 510.0\n",
            "Total Price after discount is: 2890.0\n"
          ]
        }
      ]
    },
    {
      "cell_type": "code",
      "source": [],
      "metadata": {
        "id": "NaCbgYufZzpi"
      },
      "execution_count": null,
      "outputs": []
    }
  ]
}