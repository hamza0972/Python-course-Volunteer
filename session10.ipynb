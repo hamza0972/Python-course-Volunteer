{
  "nbformat": 4,
  "nbformat_minor": 0,
  "metadata": {
    "colab": {
      "provenance": [],
      "authorship_tag": "ABX9TyMebXsD/7+wDtGm1SfUf1MR",
      "include_colab_link": true
    },
    "kernelspec": {
      "name": "python3",
      "display_name": "Python 3"
    },
    "language_info": {
      "name": "python"
    }
  },
  "cells": [
    {
      "cell_type": "markdown",
      "metadata": {
        "id": "view-in-github",
        "colab_type": "text"
      },
      "source": [
        "<a href=\"https://colab.research.google.com/github/hamza0972/Python-course-Volunteer/blob/main/session10.ipynb\" target=\"_parent\"><img src=\"https://colab.research.google.com/assets/colab-badge.svg\" alt=\"Open In Colab\"/></a>"
      ]
    },
    {
      "cell_type": "markdown",
      "source": [
        "#break"
      ],
      "metadata": {
        "id": "FmtRPdsc2PD8"
      }
    },
    {
      "cell_type": "code",
      "execution_count": null,
      "metadata": {
        "colab": {
          "base_uri": "https://localhost:8080/"
        },
        "id": "DtqAdEPzFTvf",
        "outputId": "57f92089-8fb3-43cc-fca8-1e1066582dd3"
      },
      "outputs": [
        {
          "output_type": "stream",
          "name": "stdout",
          "text": [
            "1\n",
            "2\n",
            "3\n",
            "4\n"
          ]
        }
      ],
      "source": [
        "# break in while loop\n",
        "i=1\n",
        "while i<=10:  #while i<5:\n",
        "  if i==5:\n",
        "    break\n",
        "  print(i)\n",
        "  i+=1\n",
        "# on reaching to the break, loop will terminate"
      ]
    },
    {
      "cell_type": "code",
      "source": [
        "# break in for loop\n",
        "\n",
        "for i in range(1,6):\n",
        "  if i==3:\n",
        "    break\n",
        "  print(i)\n",
        "\n"
      ],
      "metadata": {
        "colab": {
          "base_uri": "https://localhost:8080/"
        },
        "id": "MQ28hgFJFhRo",
        "outputId": "8ac63c81-9236-4ff7-aea3-290baf0052cf"
      },
      "execution_count": null,
      "outputs": [
        {
          "output_type": "stream",
          "name": "stdout",
          "text": [
            "1\n",
            "2\n"
          ]
        }
      ]
    },
    {
      "cell_type": "markdown",
      "source": [
        "#continue"
      ],
      "metadata": {
        "id": "sNX-h-I-20XE"
      }
    },
    {
      "cell_type": "code",
      "source": [
        "# continue in while loop\n",
        "i=1\n",
        "while i<=10:\n",
        "  i+=1\n",
        "  if i==5:\n",
        "    continue\n",
        "  print(i)\n",
        "\n",
        "  # continue will skip the condition\n",
        "\n",
        "  # on reaching to the continue, program will automatically move to the while keyword and donot run the program written\n",
        "  # below the continue so that the program will run to the infinity\n",
        "\n",
        "  # To handle this situation we have to update the variable before the continue."
      ],
      "metadata": {
        "colab": {
          "base_uri": "https://localhost:8080/"
        },
        "id": "aibsPLu0JLEj",
        "outputId": "d6a1d12a-d98b-4eef-d0dc-371aba7fc01f"
      },
      "execution_count": null,
      "outputs": [
        {
          "output_type": "stream",
          "name": "stdout",
          "text": [
            "2\n",
            "3\n",
            "4\n",
            "6\n",
            "7\n",
            "8\n",
            "9\n",
            "10\n",
            "11\n"
          ]
        }
      ]
    },
    {
      "cell_type": "code",
      "source": [
        "for i in range(1,11):\n",
        "  if i==5:\n",
        "    continue\n",
        "  print(i)"
      ],
      "metadata": {
        "colab": {
          "base_uri": "https://localhost:8080/"
        },
        "id": "VpfYIajJKDGN",
        "outputId": "74216563-819e-42c3-cc4d-d825b3553926"
      },
      "execution_count": null,
      "outputs": [
        {
          "output_type": "stream",
          "name": "stdout",
          "text": [
            "1\n",
            "2\n",
            "3\n",
            "4\n",
            "6\n",
            "7\n",
            "8\n",
            "9\n",
            "10\n"
          ]
        }
      ]
    },
    {
      "cell_type": "markdown",
      "source": [
        "#pass"
      ],
      "metadata": {
        "id": "zKLmhtZz36kF"
      }
    },
    {
      "cell_type": "code",
      "source": [
        "var=5\n",
        "stop=10\n",
        "while var<=stop:\n",
        "  if var==7:\n",
        "    pass\n",
        "  # when executed perform null operation\n",
        "  print(var)\n",
        "  var+=1"
      ],
      "metadata": {
        "colab": {
          "base_uri": "https://localhost:8080/"
        },
        "id": "06s0NlXJKPC1",
        "outputId": "94ee22b6-e33e-4cea-837f-72bb9fd373bd"
      },
      "execution_count": null,
      "outputs": [
        {
          "output_type": "stream",
          "name": "stdout",
          "text": [
            "5\n",
            "6\n",
            "7\n",
            "8\n",
            "9\n",
            "10\n"
          ]
        }
      ]
    },
    {
      "cell_type": "code",
      "source": [
        "name=\"Hamz\"\n",
        "\n",
        "if name==\"Hamza\":\n",
        "  pass\n",
        "else:\n",
        "  print(\"what is your name\")"
      ],
      "metadata": {
        "colab": {
          "base_uri": "https://localhost:8080/"
        },
        "id": "1zGaD1FJL2Kg",
        "outputId": "2a9eae46-d202-41e9-e31b-e5ffcea6150e"
      },
      "execution_count": null,
      "outputs": [
        {
          "output_type": "stream",
          "name": "stdout",
          "text": [
            "what is your name\n"
          ]
        }
      ]
    },
    {
      "cell_type": "markdown",
      "source": [
        "Ask the user for a number.\n",
        "\n",
        "Print its multiplication table but skip the 5th multiple.\n"
      ],
      "metadata": {
        "id": "V0tdvqHM4gRL"
      }
    },
    {
      "cell_type": "code",
      "source": [
        "num=int(input(\"Enter a number \"))\n",
        "start=0\n",
        "end=9\n",
        "while start<=end:\n",
        "  start+=1\n",
        "  if start==5:\n",
        "    continue\n",
        "  # it will skip the 5th multiple\n",
        "  print(f\"{num} x {start} = {num*start}\")\n",
        "\n"
      ],
      "metadata": {
        "colab": {
          "base_uri": "https://localhost:8080/"
        },
        "id": "r5b1tf96NfmA",
        "outputId": "79696cba-6f7b-4c70-bb64-392c6e0f34e3"
      },
      "execution_count": null,
      "outputs": [
        {
          "output_type": "stream",
          "name": "stdout",
          "text": [
            "enter a number 10\n",
            "10 x 1 = 10\n",
            "10 x 2 = 20\n",
            "10 x 3 = 30\n",
            "10 x 4 = 40\n",
            "10 x 6 = 60\n",
            "10 x 7 = 70\n",
            "10 x 8 = 80\n",
            "10 x 9 = 90\n",
            "10 x 10 = 100\n"
          ]
        }
      ]
    },
    {
      "cell_type": "markdown",
      "source": [
        "Take a number from the user.\n",
        "\n",
        "check whether the number is Prime or composite."
      ],
      "metadata": {
        "id": "FOd1jHBZ4yYZ"
      }
    },
    {
      "cell_type": "code",
      "source": [
        "number=int(input('Enter a number '))\n",
        "if number<=0: #check for 0 and negative integers\n",
        "  print(\"The number is neither composite nor prime. Enter a value greater then 0\")\n",
        "elif number==1: #separately check for 1\n",
        "  print(\"The number is composite\")\n",
        "else:  # check from 1 to number-1\n",
        "  for i in range(2,number):\n",
        "    if number%i==0:\n",
        "      print(\"the number is composite\")\n",
        "      break\n",
        "    # if loop donot reach the break and print nothing, then print:\n",
        "  else:\n",
        "    print(\"the number is prime\")"
      ],
      "metadata": {
        "colab": {
          "base_uri": "https://localhost:8080/"
        },
        "id": "4mXtLjTlOXhK",
        "outputId": "c8440376-3374-4be3-fb65-4a0d9403bc62"
      },
      "execution_count": null,
      "outputs": [
        {
          "output_type": "stream",
          "name": "stdout",
          "text": [
            "Enter a number -23\n",
            "the number is neither composite nor prime\n"
          ]
        }
      ]
    },
    {
      "cell_type": "markdown",
      "source": [
        "Take two numbers from the user start and stop.\n",
        "\n",
        "print the series start to stop\n"
      ],
      "metadata": {
        "id": "RgSBW1iu5ph1"
      }
    },
    {
      "cell_type": "code",
      "source": [
        "while True:\n",
        "\n",
        "  # start>=stop then repeat the same process!\n",
        "  start=int(input(\"enter a number to start the series \"))\n",
        "  stop=int(input(\"enter a number to stop the series \"))\n",
        "\n",
        "  # stop the loop when:\n",
        "  if start<stop:\n",
        "    break\n",
        "\n",
        "# print the series\n",
        "while start<=stop:\n",
        "  print(start)\n",
        "  start+=1\n"
      ],
      "metadata": {
        "colab": {
          "base_uri": "https://localhost:8080/"
        },
        "id": "_i6IEMkFRQNt",
        "outputId": "cf027078-0ba1-400e-cb09-eebca39f599a"
      },
      "execution_count": null,
      "outputs": [
        {
          "output_type": "stream",
          "name": "stdout",
          "text": [
            "enter a number to start the series 6\n",
            "enter a number to start the stop 2\n",
            "enter a number to start the series 3\n",
            "enter a number to start the stop 3\n",
            "enter a number to start the series 9\n",
            "enter a number to start the stop 15\n",
            "9\n",
            "10\n",
            "11\n",
            "12\n",
            "13\n",
            "14\n",
            "15\n"
          ]
        }
      ]
    },
    {
      "cell_type": "code",
      "source": [],
      "metadata": {
        "id": "ncqA5uxjW1w9"
      },
      "execution_count": null,
      "outputs": []
    }
  ]
}