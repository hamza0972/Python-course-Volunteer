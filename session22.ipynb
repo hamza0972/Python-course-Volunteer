{
  "nbformat": 4,
  "nbformat_minor": 0,
  "metadata": {
    "colab": {
      "provenance": [],
      "authorship_tag": "ABX9TyNd3cEqHF9BPcqZR8dkUCGV",
      "include_colab_link": true
    },
    "kernelspec": {
      "name": "python3",
      "display_name": "Python 3"
    },
    "language_info": {
      "name": "python"
    }
  },
  "cells": [
    {
      "cell_type": "markdown",
      "metadata": {
        "id": "view-in-github",
        "colab_type": "text"
      },
      "source": [
        "<a href=\"https://colab.research.google.com/github/hamza0972/Python-course-Volunteer/blob/main/session22.ipynb\" target=\"_parent\"><img src=\"https://colab.research.google.com/assets/colab-badge.svg\" alt=\"Open In Colab\"/></a>"
      ]
    },
    {
      "cell_type": "markdown",
      "source": [
        "Dictionary built-in functions"
      ],
      "metadata": {
        "id": "2DVGNKC6txAb"
      }
    },
    {
      "cell_type": "code",
      "source": [
        "# Creating a dictionary using the dict() function\n",
        "\n",
        "# Keys: \"first\" and \"last\" ; Values: \"Muhammad\" and \"Hamza\"\n",
        "a = dict(first=\"Muhammad\", last=\"Hamza\")\n",
        "\n",
        "# Printing the dictionary\n",
        "# Output: {'first': 'Muhammad', 'last': 'Hamza'}\n",
        "print(a)\n",
        "\n",
        "# Printing the type of the variable 'a'\n",
        "# Output: <class 'dict'> because 'a' is a dictionary\n",
        "print(type(a))\n"
      ],
      "metadata": {
        "colab": {
          "base_uri": "https://localhost:8080/"
        },
        "id": "lfNzmVUfyXGI",
        "outputId": "33a24ef3-df43-4130-c820-7ee08c30f340"
      },
      "execution_count": 1,
      "outputs": [
        {
          "output_type": "stream",
          "name": "stdout",
          "text": [
            "{'first': 'Muhammad', 'last': 'Hamza'}\n",
            "<class 'dict'>\n"
          ]
        }
      ]
    },
    {
      "cell_type": "markdown",
      "source": [
        "access the values\n",
        "\n",
        "keys()\n",
        "\n",
        "values()\n",
        "\n",
        "items()\n",
        "\n",
        "type()"
      ],
      "metadata": {
        "id": "qMqS8FnzubiA"
      }
    },
    {
      "cell_type": "code",
      "source": [
        "# Creating a dictionary with two key-value pairs\n",
        "new = {\"Ali\": 45, \"Ahmad\": 48}\n",
        "\n",
        "# Accessing the value of a key directly using dictionary indexing\n",
        "# Output: 45 (because the value of \"Ali\" is 45)\n",
        "print(new[\"Ali\"])\n",
        "\n",
        "# Getting all the values from the dictionary\n",
        "# dict.values() returns a special view object\n",
        "value = new.values()\n",
        "print(value)   # Output: dict_values([45, 48])\n",
        "\n",
        "# Printing the type of 'value'\n",
        "# Output: <class 'dict_values'> (a view object, not a list)\n",
        "print(type(value))\n",
        "\n",
        "# Converting dict_values to a list\n",
        "# Output: [45, 48]\n",
        "print(list(value))\n",
        "\n",
        "# Another way to directly get values as a list\n",
        "# Output: [45, 48]\n",
        "print(list(new.values()))\n",
        "\n",
        "# Getting all keys of the dictionary as a list\n",
        "# Output: ['Ali', 'Ahmad']\n",
        "print(list(new.keys()))\n",
        "\n",
        "# Getting all key-value pairs of the dictionary as a list of tuples\n",
        "# Output: [('Ali', 45), ('Ahmad', 48)]\n",
        "new_list = list(new.items())\n",
        "print(new_list)\n",
        "\n",
        "# Checking the type of 'new_list'\n",
        "# Output: <class 'list'> because items() was converted to a list\n",
        "print(type(new_list))\n",
        "\n",
        "# Checking the type of the first element inside new_list\n",
        "# Output: <class 'tuple'> because each key-value pair is stored as a tuple\n",
        "print(type(new_list[0]))\n"
      ],
      "metadata": {
        "colab": {
          "base_uri": "https://localhost:8080/"
        },
        "id": "Dxsmmc1N0jgD",
        "outputId": "abcdedf5-c852-43f1-ec4e-8aee76d46be6"
      },
      "execution_count": 3,
      "outputs": [
        {
          "output_type": "stream",
          "name": "stdout",
          "text": [
            "45\n",
            "dict_values([45, 48])\n",
            "<class 'dict_values'>\n",
            "[45, 48]\n",
            "[45, 48]\n",
            "['Ali', 'Ahmad']\n",
            "[('Ali', 45), ('Ahmad', 48)]\n",
            "<class 'list'>\n",
            "<class 'tuple'>\n"
          ]
        }
      ]
    },
    {
      "cell_type": "code",
      "source": [
        "# Creating a dictionary using the dict() constructor with a list of tuples\n",
        "# Each tuple contains a key and its corresponding value\n",
        "# [('Ali', 45), ('Ahmad', 48)] → \"Ali\":45 , \"Ahmad\":48\n",
        "data = dict([('Ali', 45), ('Ahmad', 48)])\n",
        "\n",
        "# Printing the dictionary\n",
        "# Output: {'Ali': 45, 'Ahmad': 48}\n",
        "print(data)\n"
      ],
      "metadata": {
        "colab": {
          "base_uri": "https://localhost:8080/"
        },
        "id": "LmhjTFhn1mmG",
        "outputId": "b79edb4d-9c0b-4c22-c57e-fcd637aa8cbe"
      },
      "execution_count": 4,
      "outputs": [
        {
          "output_type": "stream",
          "name": "stdout",
          "text": [
            "{'Ali': 45, 'Ahmad': 48}\n"
          ]
        }
      ]
    },
    {
      "cell_type": "markdown",
      "source": [
        "copy()\n",
        "\n",
        "clear()\n",
        "\n"
      ],
      "metadata": {
        "id": "3vHhznxyu6BB"
      }
    },
    {
      "cell_type": "code",
      "source": [
        "# Creating a dictionary with two key-value pairs\n",
        "new = {'Ali': 45, 'Ahmad': 48}\n",
        "\n",
        "# Creating a shallow copy of the dictionary\n",
        "# 'a' now holds a separate copy of 'new'\n",
        "a = new.copy()\n",
        "\n",
        "# Adding a new key-value pair to the original dictionary 'new'\n",
        "new['Bilal'] = 48\n",
        "\n",
        "# Printing 'new'\n",
        "# Output: {'Ali': 45, 'Ahmad': 48, 'Bilal': 48}\n",
        "print(new)\n",
        "\n",
        "# Printing 'a' (the copy made earlier)\n",
        "# Output: {'Ali': 45, 'Ahmad': 48}\n",
        "# Notice that 'Bilal' is not included because 'a' was copied before modification\n",
        "print(a)\n",
        "\n",
        "# Clearing all items from dictionary 'a'\n",
        "a.clear()\n",
        "\n",
        "# Printing 'a'\n",
        "# Output: {}\n",
        "# 'a' becomes an empty dictionary, but 'new' is unaffected\n",
        "print(a)\n"
      ],
      "metadata": {
        "colab": {
          "base_uri": "https://localhost:8080/"
        },
        "id": "58QmL8t446sz",
        "outputId": "a989d298-5ecc-477a-8a26-9b3097bfa2b9"
      },
      "execution_count": 6,
      "outputs": [
        {
          "output_type": "stream",
          "name": "stdout",
          "text": [
            "{'Ali': 45, 'Ahmad': 48, 'Bilal': 48}\n",
            "{'Ali': 45, 'Ahmad': 48}\n",
            "{}\n"
          ]
        }
      ]
    },
    {
      "cell_type": "code",
      "source": [
        "# Creating a dictionary\n",
        "new = {'Ali': 45, 'Ahmad': 48}\n",
        "\n",
        "# Assigning 'new' to 'b' (both variables point to the SAME dictionary in memory)\n",
        "b = new\n",
        "\n",
        "# Adding a new key-value pair to 'new'\n",
        "new['Bilal'] = 48\n",
        "\n",
        "# Printing 'new'\n",
        "# Output: {'Ali': 45, 'Ahmad': 48, 'Bilal': 48}\n",
        "print(new)\n",
        "\n",
        "# Printing 'b'\n",
        "# Output: {'Ali': 45, 'Ahmad': 48, 'Bilal': 48}\n",
        "# Notice 'b' also shows the new entry, because 'b' and 'new' refer to the SAME dictionary object\n",
        "print(b)\n"
      ],
      "metadata": {
        "colab": {
          "base_uri": "https://localhost:8080/"
        },
        "id": "gR6LpWaa5aIb",
        "outputId": "47e31061-53a2-4e8c-b1e4-21a1d7a5e240"
      },
      "execution_count": 8,
      "outputs": [
        {
          "output_type": "stream",
          "name": "stdout",
          "text": [
            "{'Ali': 45, 'Ahmad': 48, 'Bilal': 48}\n",
            "{'Ali': 45, 'Ahmad': 48, 'Bilal': 48}\n"
          ]
        }
      ]
    },
    {
      "cell_type": "markdown",
      "source": [
        "fromkeys()"
      ],
      "metadata": {
        "id": "tc0ew1l1vJfW"
      }
    },
    {
      "cell_type": "code",
      "source": [
        "# Creating a list\n",
        "a = [1, 2, 3, 4]\n",
        "\n",
        "# Using dict.fromkeys(iterable, value)\n",
        "# Here, keys are taken from list 'a', and all values are set to 0\n",
        "new = dict.fromkeys(a, 0)\n",
        "print(new)\n",
        "# Output: {1: 0, 2: 0, 3: 0, 4: 0}\n",
        "\n",
        "# Using dict.fromkeys(iterable) without specifying a value\n",
        "# Default value is None for all keys\n",
        "new = dict.fromkeys(a)\n",
        "print(new)\n",
        "# Output: {1: None, 2: None, 3: None, 4: None}\n"
      ],
      "metadata": {
        "colab": {
          "base_uri": "https://localhost:8080/"
        },
        "id": "M0S5ibpJ6HjI",
        "outputId": "37927f3d-a498-47f0-dab1-0e3c94d9f58b"
      },
      "execution_count": 10,
      "outputs": [
        {
          "output_type": "stream",
          "name": "stdout",
          "text": [
            "{1: 0, 2: 0, 3: 0, 4: 0}\n",
            "{1: None, 2: None, 3: None, 4: None}\n"
          ]
        }
      ]
    },
    {
      "cell_type": "markdown",
      "source": [
        "setdefault()"
      ],
      "metadata": {
        "id": "Kb_dfAUgv5v5"
      }
    },
    {
      "cell_type": "code",
      "source": [
        "# Creating a dictionary\n",
        "new = {'Ali': 45, 'Ahmad': 48, 'Bilal': 48}\n",
        "\n",
        "# setdefault('Ali', 42)\n",
        "# If 'Ali' already exists, it returns the existing value (45)\n",
        "# and does NOT update it with 42\n",
        "print(new.setdefault('Ali', 42))   # Output: 45\n",
        "print(new)                         # Dictionary remains unchanged: {'Ali': 45, 'Ahmad': 48, 'Bilal': 48}\n",
        "\n",
        "\n",
        "# setdefault('Abdullah', 42)\n",
        "# Since 'Abdullah' does NOT exist, it creates a new key with value 42\n",
        "# and returns 42\n",
        "print(new.setdefault('Abdullah', 42))  # Output: 42\n",
        "print(new)   # Now dictionary becomes: {'Ali': 45, 'Ahmad': 48, 'Bilal': 48, 'Abdullah': 42}\n"
      ],
      "metadata": {
        "colab": {
          "base_uri": "https://localhost:8080/"
        },
        "id": "irJtkbHu7dXI",
        "outputId": "43581acc-5ab4-4a9e-8377-ceb99d4e2b4d"
      },
      "execution_count": 12,
      "outputs": [
        {
          "output_type": "stream",
          "name": "stdout",
          "text": [
            "45\n",
            "{'Ali': 45, 'Ahmad': 48, 'Bilal': 48}\n",
            "42\n",
            "{'Ali': 45, 'Ahmad': 48, 'Bilal': 48, 'Abdullah': 42}\n"
          ]
        }
      ]
    },
    {
      "cell_type": "markdown",
      "source": [
        "update()"
      ],
      "metadata": {
        "id": "DiWZQSCAwRZD"
      }
    },
    {
      "cell_type": "code",
      "source": [
        "# Original dictionary\n",
        "new = {'Ali': 45, 'Ahmad': 48, 'Bilal': 48}\n",
        "\n",
        "# Using update() with a new key 'bilal'\n",
        "# Important: 'Bilal' ≠ 'bilal' (Python dictionary keys are case-sensitive)\n",
        "# So instead of updating the old key, it creates a new one\n",
        "new.update({'bilal': 43})\n",
        "\n",
        "print(new)\n",
        "# Output: {'Ali': 45, 'Ahmad': 48, 'Bilal': 48, 'bilal': 43}\n"
      ],
      "metadata": {
        "colab": {
          "base_uri": "https://localhost:8080/"
        },
        "id": "BNIdZFDn8ngI",
        "outputId": "84689b6a-1acb-4023-a2ee-288607f7e754"
      },
      "execution_count": 13,
      "outputs": [
        {
          "output_type": "stream",
          "name": "stdout",
          "text": [
            "{'Ali': 45, 'Ahmad': 48, 'Bilal': 48, 'bilal': 43}\n"
          ]
        }
      ]
    },
    {
      "cell_type": "code",
      "source": [
        "new = {'Ali': 45, 'Ahmad': 48, 'Bilal': 48}\n",
        "\n",
        "# Updating the dictionary with TWO new key-value pairs at the same time\n",
        "# 'bilal': 43 → This is a new key (different from 'Bilal' because keys are case-sensitive)\n",
        "# 'Aslam': 38 → Also a new key\n",
        "new.update({'bilal': 43, \"Aslam\": 38})\n",
        "\n",
        "print(new)\n",
        "# Output: {'Ali': 45, 'Ahmad': 48, 'Bilal': 48, 'bilal': 43, 'Aslam': 38}\n"
      ],
      "metadata": {
        "colab": {
          "base_uri": "https://localhost:8080/"
        },
        "id": "TnGQj_0g8_kz",
        "outputId": "d1aad695-927a-4f64-dea0-1f5a6ee93250"
      },
      "execution_count": 15,
      "outputs": [
        {
          "output_type": "stream",
          "name": "stdout",
          "text": [
            "{'Ali': 45, 'Ahmad': 48, 'Bilal': 48, 'bilal': 43, 'Aslam': 38}\n"
          ]
        }
      ]
    },
    {
      "cell_type": "markdown",
      "source": [
        "iteration:"
      ],
      "metadata": {
        "id": "Yt_t8jWyw2Zk"
      }
    },
    {
      "cell_type": "markdown",
      "source": [
        "Iterating directly over the dictionary gives you the KEYS by default"
      ],
      "metadata": {
        "id": "rGneFOVhx1l_"
      }
    },
    {
      "cell_type": "code",
      "source": [
        "new = {'Ali': 45, 'Ahmad': 48, 'Bilal': 48}\n",
        "\n",
        "for i in new:\n",
        "    # i is the key, new[i] is the value\n",
        "    print(i, new[i])\n",
        "# Output:\n",
        "# Ali 45\n",
        "# Ahmad 48\n",
        "# Bilal 48\n",
        "\n"
      ],
      "metadata": {
        "colab": {
          "base_uri": "https://localhost:8080/"
        },
        "id": "nCWO32im-DoN",
        "outputId": "1c7f1caf-5398-4966-b45d-56bb46524085"
      },
      "execution_count": 20,
      "outputs": [
        {
          "output_type": "stream",
          "name": "stdout",
          "text": [
            "Ali 45\n",
            "Ahmad 48\n",
            "Bilal 48\n"
          ]
        }
      ]
    },
    {
      "cell_type": "markdown",
      "source": [
        "Getting just the KEYS using new.keys()"
      ],
      "metadata": {
        "id": "I_Ixi2QBxvS2"
      }
    },
    {
      "cell_type": "code",
      "source": [
        "print(new.keys())   # dict_keys(['Ali', 'Ahmad', 'Bilal'])"
      ],
      "metadata": {
        "colab": {
          "base_uri": "https://localhost:8080/"
        },
        "id": "n6nO3jNvxLAF",
        "outputId": "b989700e-33f5-4c48-9855-206d055be7b8"
      },
      "execution_count": 27,
      "outputs": [
        {
          "output_type": "stream",
          "name": "stdout",
          "text": [
            "dict_keys(['Ali', 'Ahmad', 'Bilal'])\n"
          ]
        }
      ]
    },
    {
      "cell_type": "markdown",
      "source": [
        "Looping through KEYS explicitly"
      ],
      "metadata": {
        "id": "1FLGHxuExqAD"
      }
    },
    {
      "cell_type": "code",
      "source": [
        "for i in new.keys():\n",
        "    print(i)\n",
        "# Output:\n",
        "# Ali\n",
        "# Ahmad\n",
        "# Bilal\n",
        "\n"
      ],
      "metadata": {
        "colab": {
          "base_uri": "https://localhost:8080/"
        },
        "id": "L2biYLbxxYIi",
        "outputId": "5291566f-8b54-45f0-b0a7-9a5b1a10704d"
      },
      "execution_count": 22,
      "outputs": [
        {
          "output_type": "stream",
          "name": "stdout",
          "text": [
            "Ali\n",
            "Ahmad\n",
            "Bilal\n"
          ]
        }
      ]
    },
    {
      "cell_type": "markdown",
      "source": [
        "Looping through VALUES only"
      ],
      "metadata": {
        "id": "XLFUlGH6xk88"
      }
    },
    {
      "cell_type": "code",
      "source": [
        "for i in new.values():\n",
        "    print(i)\n",
        "# Output:\n",
        "# 45\n",
        "# 48\n",
        "# 48\n",
        "\n",
        "\n"
      ],
      "metadata": {
        "colab": {
          "base_uri": "https://localhost:8080/"
        },
        "id": "fwhSZpXUxbDd",
        "outputId": "a8f4cdea-0732-4623-c30c-cc5c6673a5e8"
      },
      "execution_count": 25,
      "outputs": [
        {
          "output_type": "stream",
          "name": "stdout",
          "text": [
            "45\n",
            "48\n",
            "48\n"
          ]
        }
      ]
    },
    {
      "cell_type": "markdown",
      "source": [
        "Looping through KEY-VALUE pairs using items()"
      ],
      "metadata": {
        "id": "WJ9BBPapxgNp"
      }
    },
    {
      "cell_type": "code",
      "source": [
        "\n",
        "for i, j in new.items():\n",
        "    print(i, j)\n",
        "\n",
        "# Output:\n",
        "# Ali 45\n",
        "# Ahmad 48\n",
        "# Bilal 48"
      ],
      "metadata": {
        "colab": {
          "base_uri": "https://localhost:8080/"
        },
        "id": "zyDa74e7xdXR",
        "outputId": "a369b3c6-e337-45c9-c16c-4d343875b5d5"
      },
      "execution_count": 24,
      "outputs": [
        {
          "output_type": "stream",
          "name": "stdout",
          "text": [
            "Ali 45\n",
            "Ahmad 48\n",
            "Bilal 48\n"
          ]
        }
      ]
    },
    {
      "cell_type": "markdown",
      "source": [
        "len()\n",
        "\n",
        "sorted()"
      ],
      "metadata": {
        "id": "95D_81Xax8-T"
      }
    },
    {
      "cell_type": "code",
      "source": [
        "students = {\n",
        "    1: {'Programing': 50, 'Math': 70},\n",
        "    2: {'Programing': 70, 'Math': 80}\n",
        "}\n",
        "\n",
        "# Accessing Math marks of student 2\n",
        "print(students[2]['Math'])\n",
        "# Output: 80\n",
        "\n",
        "\n",
        "# Getting the number of students (top-level keys in dictionary)\n",
        "print(len(students))\n",
        "# Output: 2   (because keys are 1 and 2 → two students)\n",
        "\n",
        "\n",
        "# Sorting the keys of the inner dictionary students[2]\n",
        "print(sorted(students[2]))\n",
        "# Output: ['Math', 'Programing']\n",
        "# Note: sorted() sorts KEYS of the dictionary alphabetically\n"
      ],
      "metadata": {
        "colab": {
          "base_uri": "https://localhost:8080/"
        },
        "id": "P3H0xI7V-lfX",
        "outputId": "c1b10a30-becd-4b3a-e50f-357136646ef3"
      },
      "execution_count": 29,
      "outputs": [
        {
          "output_type": "stream",
          "name": "stdout",
          "text": [
            "80\n",
            "2\n",
            "['Math', 'Programing']\n"
          ]
        }
      ]
    },
    {
      "cell_type": "markdown",
      "source": [
        "is operator"
      ],
      "metadata": {
        "id": "2iW-2seYyJ4w"
      }
    },
    {
      "cell_type": "code",
      "source": [
        "students = {\n",
        "    1: {'Programing': 50, 'Math': 70},\n",
        "    2: {'Programing': 70, 'Math': 80}\n",
        "}\n",
        "\n",
        "student = {\n",
        "    1: {'Programing': 50, 'Math': 70},\n",
        "    2: {'Programing': 70, 'Math': 80}\n",
        "}\n",
        "\n",
        "# Comparing values of both dictionaries\n",
        "# print(students == student)  # Would return True (same keys & values)\n",
        "\n",
        "# Checking if both variables point to the SAME object in memory\n",
        "print(student is students)   # Output: False\n"
      ],
      "metadata": {
        "colab": {
          "base_uri": "https://localhost:8080/"
        },
        "id": "DvvDZLFKBoH2",
        "outputId": "304faa2f-318f-448b-ab2d-3040a27d2d4e"
      },
      "execution_count": 30,
      "outputs": [
        {
          "output_type": "stream",
          "name": "stdout",
          "text": [
            "False\n"
          ]
        }
      ]
    },
    {
      "cell_type": "code",
      "source": [],
      "metadata": {
        "id": "Zk54R3sFDbx5"
      },
      "execution_count": 30,
      "outputs": []
    },
    {
      "cell_type": "code",
      "source": [],
      "metadata": {
        "id": "4NJBP2l5Dw1X"
      },
      "execution_count": null,
      "outputs": []
    }
  ]
}