{
  "cells": [
    {
      "cell_type": "markdown",
      "metadata": {
        "id": "view-in-github",
        "colab_type": "text"
      },
      "source": [
        "<a href=\"https://colab.research.google.com/github/hamza0972/Python-course-Volunteer/blob/main/session7.ipynb\" target=\"_parent\"><img src=\"https://colab.research.google.com/assets/colab-badge.svg\" alt=\"Open In Colab\"/></a>"
      ]
    },
    {
      "cell_type": "markdown",
      "source": [
        "#and between integers"
      ],
      "metadata": {
        "id": "0YLQnwJTXHiT"
      }
    },
    {
      "cell_type": "code",
      "execution_count": null,
      "metadata": {
        "colab": {
          "base_uri": "https://localhost:8080/"
        },
        "id": "K2CdSyD4UPTU",
        "outputId": "cb24cf8d-5b4e-4685-ea28-6d1620be1074"
      },
      "outputs": [
        {
          "output_type": "stream",
          "name": "stdout",
          "text": [
            "0\n"
          ]
        }
      ],
      "source": [
        "num1=5     # 5-> True\n",
        "num2=0     # 0-> False\n",
        "print(num1 and num2)  #False -> 0"
      ]
    },
    {
      "cell_type": "code",
      "execution_count": null,
      "metadata": {
        "colab": {
          "base_uri": "https://localhost:8080/"
        },
        "id": "iDsQ2DJhURy0",
        "outputId": "f7f3a3f1-b9ae-4eae-ff84-8c61e00a13f6"
      },
      "outputs": [
        {
          "output_type": "stream",
          "name": "stdout",
          "text": [
            "3\n"
          ]
        }
      ],
      "source": [
        "num1=9   #True\n",
        "num2=3    #True\n",
        "print(num1 and num2)  #True\n",
        "# because it will return the last true"
      ]
    },
    {
      "cell_type": "code",
      "source": [
        "num1=9   #True\n",
        "num2=3    #True\n",
        "num3=89   #True\n",
        "print(num1 and num2 and num3)  #True\n",
        "# because it will return the last true"
      ],
      "metadata": {
        "colab": {
          "base_uri": "https://localhost:8080/"
        },
        "id": "sEZeysKRXRwC",
        "outputId": "1e9d7914-a0b9-4490-dd55-13407f5613e3"
      },
      "execution_count": null,
      "outputs": [
        {
          "output_type": "stream",
          "name": "stdout",
          "text": [
            "89\n"
          ]
        }
      ]
    },
    {
      "cell_type": "code",
      "execution_count": null,
      "metadata": {
        "colab": {
          "base_uri": "https://localhost:8080/"
        },
        "id": "3ChM0o_zs4nL",
        "outputId": "deac882a-e8a7-4b62-8c88-2312864f628a"
      },
      "outputs": [
        {
          "name": "stdout",
          "output_type": "stream",
          "text": [
            "0\n"
          ]
        }
      ],
      "source": [
        "num1=0  #False\n",
        "num2=-3  #False\n",
        "print(num1 and num2)  #False ->0"
      ]
    },
    {
      "cell_type": "markdown",
      "source": [
        "#Or between integers"
      ],
      "metadata": {
        "id": "OMcBSuI9XkMF"
      }
    },
    {
      "cell_type": "code",
      "execution_count": null,
      "metadata": {
        "colab": {
          "base_uri": "https://localhost:8080/"
        },
        "id": "_x4gEPCctW9I",
        "outputId": "763deb4b-6d34-4404-e132-a46a87716b31"
      },
      "outputs": [
        {
          "output_type": "stream",
          "name": "stdout",
          "text": [
            "9\n"
          ]
        }
      ],
      "source": [
        "num1=9  #True\n",
        "num2=0   #False\n",
        "print(num1 or num2)  #True"
      ]
    },
    {
      "cell_type": "code",
      "source": [
        "num1=9  #True\n",
        "num2=0   #False\n",
        "num3=7   #True\n",
        "print(num1 or num2 or True)  #True\n",
        "\n",
        "#bcz it will return the first true"
      ],
      "metadata": {
        "colab": {
          "base_uri": "https://localhost:8080/"
        },
        "id": "1pyeXB5_X1rZ",
        "outputId": "7f64d014-a201-4264-c713-9b4dbe1c685b"
      },
      "execution_count": null,
      "outputs": [
        {
          "output_type": "stream",
          "name": "stdout",
          "text": [
            "9\n"
          ]
        }
      ]
    },
    {
      "cell_type": "code",
      "execution_count": null,
      "metadata": {
        "colab": {
          "base_uri": "https://localhost:8080/"
        },
        "id": "OJwNWj1EuR8K",
        "outputId": "b0275d2c-ef9f-4db5-a6c6-c5bd1eec9979"
      },
      "outputs": [
        {
          "output_type": "stream",
          "name": "stdout",
          "text": [
            "-9\n"
          ]
        }
      ],
      "source": [
        "num1=-9  #True\n",
        "num2=0   #False\n",
        "print(num1 or num2)  #True"
      ]
    },
    {
      "cell_type": "markdown",
      "source": [
        "#Nested conditions"
      ],
      "metadata": {
        "id": "YuMtEuuYYTRt"
      }
    },
    {
      "cell_type": "markdown",
      "source": [
        "Problem Statement: Online Shopping Discount Checker\n",
        "\n",
        "You are writing a Python program for an online shopping app.\n",
        "\n",
        "The program should:\n",
        "\n",
        "Ask the user for the total amount of their shopping.\n",
        "\n",
        "If the amount is greater than or equal to 1000, they qualify for a discount.\n",
        "\n",
        "Then ask if they are a first-time customer (yes or no).\n",
        "If they are a first-time customer, they get 20% discount.\n",
        "If not, they get 10% discount.\n",
        "\n",
        "If the amount is less than 1000, print: \"No discount. Spend at least 1000 to get a discount.“\n",
        "\n"
      ],
      "metadata": {
        "id": "tWvS7dwCdqfs"
      }
    },
    {
      "cell_type": "code",
      "source": [
        "#Take the amount from the user\n",
        "amount=int(input(\"Enter the amount \"))\n",
        "#check whether is eligible for discount or not\n",
        "if amount>=1000:\n",
        "  print(\"You qualified for the discount\")\n",
        "  customer_type=input(\"Enter (y/n) if you are a regular customer \")\n",
        "# check whether the customer is regular or not\n",
        "  if customer_type=='y':\n",
        "    print(\"You will get 20% discount\")\n",
        "#Calculating the amount after discount (extra part)\n",
        "    discount=amount*0.2\n",
        "    new_amount=amount-discount\n",
        "    print(f\"Your new amount is {new_amount}\")\n",
        "  else:\n",
        "    print(\"You will get 10% discount\")\n",
        "else:\n",
        "  print(\"You are not qualified for the discount\")"
      ],
      "metadata": {
        "colab": {
          "base_uri": "https://localhost:8080/"
        },
        "id": "PCbYuDkgdqJ6",
        "outputId": "c6b121c4-1c54-471f-ab58-4d29c53df1f7"
      },
      "execution_count": null,
      "outputs": [
        {
          "output_type": "stream",
          "name": "stdout",
          "text": [
            "Enter the amount 10000\n",
            "You qualified for the discount\n",
            "Enter (y/n) if you are a regular customer y\n",
            "You will get 20% discount\n",
            "Your new amount is 8000.0\n"
          ]
        }
      ]
    },
    {
      "cell_type": "markdown",
      "source": [
        "Write a Python program to simulate an ATM Machine:\n",
        "1. Ask the user for PIN\n",
        "2. If PIN is correct → Show menu (1. Withdraw, 2. Balance Inquiry)\n",
        "3. If Withdraw → Check sufficient balance\n",
        "4. If enough balance → Deduct amount\n",
        "5. If not enough → Show error message\n",
        "6. Else if Balance Inquiry → Show current balance\n"
      ],
      "metadata": {
        "id": "k8BuHQMifuxA"
      }
    },
    {
      "cell_type": "code",
      "source": [
        "\n",
        "# NESTED IF-ELSE\n",
        "\n",
        "\n",
        "print(\"Welcome to ATM \")\n",
        "\n",
        "pin=1234\n",
        "\n",
        "balance=5000\n",
        "\n",
        "# Take the user code as input\n",
        "\n",
        "code=int(input(\"Enter your pin code: \"))\n",
        "\n",
        "# check whether the user's  code is equal to pin\n",
        "if pin == code:\n",
        "  print(\"Login Successfully\")\n",
        "  print(\"1 withdraw \")\n",
        "  print(\"2 Balance Inquiry\")\n",
        "\n",
        "  choice= int(input(\"Enter your choice\"))\n",
        "\n",
        "\n",
        "# nested if else\n",
        "\n",
        "# check for withdraw\n",
        "  if choice == 1:\n",
        "    amount = int(input(\"Enter your amount \"))\n",
        "# check whether the amount is lesser or equal to balance\n",
        "\n",
        "    if amount <= balance :\n",
        "\n",
        "      balance = balance - amount\n",
        "      print(\"Transaction done \")\n",
        "      print(\"Remaning Balance \", balance )\n",
        "# if the amount is greater then balance then we cannot withdraw\n",
        "\n",
        "    else:\n",
        "      print(\"Insufficenet Balance\")\n",
        "# check for the balance\n",
        "  elif  choice == 2:\n",
        "    print(\"Ypur Balance is: \", balance )\n",
        "# check for the wrong input\n",
        "  else:\n",
        "    print(\"Please choose from menu \")\n",
        "# check for the wrong pin code\n",
        "else:\n",
        "  print (\"Wrong pin code \")\n",
        "\n",
        "\n"
      ],
      "metadata": {
        "id": "3_lh4VcgYGGY",
        "colab": {
          "base_uri": "https://localhost:8080/"
        },
        "outputId": "570167b9-806a-4a35-da18-428b5dbb3b2d"
      },
      "execution_count": null,
      "outputs": [
        {
          "output_type": "stream",
          "name": "stdout",
          "text": [
            "Welcome to ATM \n",
            "Enter your pin code: 1\n",
            "Wrong pin code \n"
          ]
        }
      ]
    },
    {
      "cell_type": "code",
      "source": [],
      "metadata": {
        "id": "4rNi5BCFDM7s"
      },
      "execution_count": null,
      "outputs": []
    }
  ],
  "metadata": {
    "colab": {
      "provenance": [],
      "authorship_tag": "ABX9TyPqtkk5sG9z7J5WxzJxbNEv",
      "include_colab_link": true
    },
    "kernelspec": {
      "display_name": "Python 3",
      "name": "python3"
    },
    "language_info": {
      "name": "python"
    }
  },
  "nbformat": 4,
  "nbformat_minor": 0
}