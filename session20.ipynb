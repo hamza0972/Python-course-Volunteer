{
  "nbformat": 4,
  "nbformat_minor": 0,
  "metadata": {
    "colab": {
      "provenance": [],
      "authorship_tag": "ABX9TyPyI98P55BHfEq277pE2PS4",
      "include_colab_link": true
    },
    "kernelspec": {
      "name": "python3",
      "display_name": "Python 3"
    },
    "language_info": {
      "name": "python"
    }
  },
  "cells": [
    {
      "cell_type": "markdown",
      "metadata": {
        "id": "view-in-github",
        "colab_type": "text"
      },
      "source": [
        "<a href=\"https://colab.research.google.com/github/hamza0972/Python-course-Volunteer/blob/main/session20.ipynb\" target=\"_parent\"><img src=\"https://colab.research.google.com/assets/colab-badge.svg\" alt=\"Open In Colab\"/></a>"
      ]
    },
    {
      "cell_type": "markdown",
      "source": [
        "#Bitwise Operators"
      ],
      "metadata": {
        "id": "_fsR-aMESE00"
      }
    },
    {
      "cell_type": "markdown",
      "source": [
        "AND"
      ],
      "metadata": {
        "id": "0y3mkkvqTMtr"
      }
    },
    {
      "cell_type": "code",
      "source": [
        "# Example: Working with bitwise operators in Python\n",
        "\n",
        "# Print decimal number 192 and its binary representation\n",
        "print(192, bin(192))     # Output: 192 0b11000000\n",
        "\n",
        "# Assigning values to a and b for bitwise operations\n",
        "a, b = 1, 3\n",
        "\n",
        "# Let's apply Bitwise AND (&)\n",
        "# -------------------------------------------------\n",
        "# Bitwise AND compares each bit of two numbers.\n",
        "# Rule:\n",
        "#   1 & 1 → 1\n",
        "#   1 & 0 → 0\n",
        "#   0 & 1 → 0\n",
        "#   0 & 0 → 0\n",
        "#\n",
        "# Step 1: Write binary of both numbers\n",
        "#   a = 1 → binary = 01  (in 2-bit form → 0b01)\n",
        "#   b = 3 → binary = 11  (in 2-bit form → 0b11)\n",
        "#\n",
        "# Step 2: Compare each bit position:\n",
        "#       a = 0 1\n",
        "#       b = 1 1\n",
        "#   ----------------\n",
        "#   AND = 0 1   → which is binary for decimal 1\n",
        "#\n",
        "# So, 1 & 3 = 1\n",
        "print(a & b)   # Output: 1\n"
      ],
      "metadata": {
        "colab": {
          "base_uri": "https://localhost:8080/"
        },
        "id": "6ngk5sE6M4xB",
        "outputId": "afc03075-fc25-4f83-caf2-694e6d6f6d4e"
      },
      "execution_count": 8,
      "outputs": [
        {
          "output_type": "stream",
          "name": "stdout",
          "text": [
            "192 0b11000000\n",
            "1\n"
          ]
        }
      ]
    },
    {
      "cell_type": "markdown",
      "source": [
        "OR"
      ],
      "metadata": {
        "id": "8JgGBueOUeQQ"
      }
    },
    {
      "cell_type": "code",
      "source": [
        "a, b = 1, 3\n",
        "\n",
        "# Let's apply Bitwise OR (|)\n",
        "# -------------------------------------------------\n",
        "# Bitwise OR compares each bit of two numbers.\n",
        "# Rule:\n",
        "#   1 | 1 → 1\n",
        "#   1 | 0 → 1\n",
        "#   0 | 1 → 1\n",
        "#   0 | 0 → 0\n",
        "#\n",
        "# Step 1: Write binary of both numbers\n",
        "#   a = 1 → binary = 01  (2-bit form → 0b01)\n",
        "#   b = 3 → binary = 11  (2-bit form → 0b11)\n",
        "#\n",
        "# Step 2: Compare each bit position:\n",
        "#       a = 0 1\n",
        "#       b = 1 1\n",
        "#   ----------------\n",
        "#   OR  = 1 1   → which is binary for decimal 3\n",
        "#\n",
        "# So, 1 | 3 = 3\n",
        "print(a | b)   # Output: 3\n"
      ],
      "metadata": {
        "colab": {
          "base_uri": "https://localhost:8080/"
        },
        "id": "Z_X72dsoTmB9",
        "outputId": "481a57af-4364-478e-8b58-d2c6010199a3"
      },
      "execution_count": 9,
      "outputs": [
        {
          "output_type": "stream",
          "name": "stdout",
          "text": [
            "3\n"
          ]
        }
      ]
    },
    {
      "cell_type": "markdown",
      "source": [
        "XOR"
      ],
      "metadata": {
        "id": "T5oE7siEUqvT"
      }
    },
    {
      "cell_type": "code",
      "source": [
        "a, b = 1, 3\n",
        "\n",
        "# Let's apply Bitwise XOR (^)\n",
        "# -------------------------------------------------\n",
        "# Bitwise XOR (Exclusive OR) compares each bit of two numbers.\n",
        "# Rule:\n",
        "#   1 ^ 1 → 0   (both same, result = 0)\n",
        "#   0 ^ 0 → 0   (both same, result = 0)\n",
        "#   1 ^ 0 → 1   (different, result = 1)\n",
        "#   0 ^ 1 → 1   (different, result = 1)\n",
        "#\n",
        "# Step 1: Write binary of both numbers\n",
        "#   a = 1 → binary = 01  (2-bit form → 0b01)\n",
        "#   b = 3 → binary = 11  (2-bit form → 0b11)\n",
        "#\n",
        "# Step 2: Compare each bit position:\n",
        "#       a = 0 1\n",
        "#       b = 1 1\n",
        "#   ----------------\n",
        "#   XOR = 1 0   → which is binary for decimal 2\n",
        "#\n",
        "# So, 1 ^ 3 = 2\n",
        "print(a ^ b)   # Output: 2\n"
      ],
      "metadata": {
        "colab": {
          "base_uri": "https://localhost:8080/"
        },
        "id": "ob8sn9R2Ug_B",
        "outputId": "9e1240d2-f91d-4441-e797-72a7b98125e4"
      },
      "execution_count": 10,
      "outputs": [
        {
          "output_type": "stream",
          "name": "stdout",
          "text": [
            "2\n"
          ]
        }
      ]
    },
    {
      "cell_type": "markdown",
      "source": [
        "NOT"
      ],
      "metadata": {
        "id": "YiWTLreeU52x"
      }
    },
    {
      "cell_type": "code",
      "source": [
        "a = 1\n",
        "\n",
        "# Let's apply Bitwise NOT (~)\n",
        "# -------------------------------------------------\n",
        "# Bitwise NOT flips (inverts) every bit of the number.\n",
        "# Rule:\n",
        "#   1 → 0\n",
        "#   0 → 1\n",
        "#\n",
        "# But in Python, integers are stored in **signed 2’s complement form**.\n",
        "# This means the NOT (~) operation will return:   ~a = -(a+1)\n",
        "#\n",
        "# Step 1: Binary of a = 1\n",
        "#   a = 1 → binary = 0001 (in 4-bit form)\n",
        "#\n",
        "# Step 2: Flip all bits\n",
        "#   0001  → original\n",
        "#   1110  → after NOT (~)\n",
        "#\n",
        "# Step 3: Interpret result in 2’s complement\n",
        "#   1110 = -2   (in decimal)\n",
        "#\n",
        "# So, ~1 = -2\n",
        "print(~a)   # Output: -2\n"
      ],
      "metadata": {
        "colab": {
          "base_uri": "https://localhost:8080/"
        },
        "id": "--LJwzbFUs7P",
        "outputId": "888e6b56-1b9a-4479-e4c6-fbd0e9e688a8"
      },
      "execution_count": 11,
      "outputs": [
        {
          "output_type": "stream",
          "name": "stdout",
          "text": [
            "-2\n"
          ]
        }
      ]
    },
    {
      "cell_type": "markdown",
      "source": [
        "left shift"
      ],
      "metadata": {
        "id": "ch9swdYAVNOC"
      }
    },
    {
      "cell_type": "code",
      "source": [
        "# Reassigning new values to a and b\n",
        "a, b = 10, 3\n",
        "\n",
        "# Left Shift (a << b)\n",
        "# -------------------------------------------------\n",
        "# Left shift moves all bits of 'a' to the left by 'b' positions.\n",
        "# Each left shift (<< 1) is equivalent to multiplying by 2.\n",
        "# So, (a << b) = a * (2^b)\n",
        "\n",
        "# Step 1: Write binary of a\n",
        "#   a = 10 → binary = 1010 (in 4-bit form)\n",
        "\n",
        "# Step 2: Shift bits of 1010 to the left by 3 positions\n",
        "#   1010 << 3 → 1010000\n",
        "#\n",
        "# Step 3: Convert back to decimal\n",
        "#   1010000 (binary) = 80 (decimal)\n",
        "\n",
        "# Step 4: Verify mathematically\n",
        "#   10 << 3 = 10 * (2^3) = 10 * 8 = 80\n",
        "\n",
        "print(a << b)      # Output: 80\n"
      ],
      "metadata": {
        "colab": {
          "base_uri": "https://localhost:8080/"
        },
        "id": "LQ63ND4tU9hJ",
        "outputId": "d78d8115-82a4-44f9-dedb-e8f89db7a878"
      },
      "execution_count": 12,
      "outputs": [
        {
          "output_type": "stream",
          "name": "stdout",
          "text": [
            "80\n"
          ]
        }
      ]
    },
    {
      "cell_type": "markdown",
      "source": [
        "right shift"
      ],
      "metadata": {
        "id": "RgOnWt-tLRby"
      }
    },
    {
      "cell_type": "code",
      "source": [
        "a, b = 20, 3\n",
        "\n",
        "# Right Shift (a >> b)\n",
        "# -------------------------------------------------\n",
        "# Right shift moves all bits of 'a' to the right by 'b' positions.\n",
        "# Each right shift (>> 1) is equivalent to dividing by 2 (floor division).\n",
        "# So, (a >> b) = a // (2^b)\n",
        "\n",
        "# Step 1: Write binary of a\n",
        "#   a = 20 → binary = 10100 (in 5-bit form)\n",
        "\n",
        "# Step 2: Shift bits of 10100 to the right by 3 positions\n",
        "#   10100 >> 3 → 00010\n",
        "#\n",
        "# Step 3: Convert back to decimal\n",
        "#   00010 (binary) = 2 (decimal)\n",
        "\n",
        "# Step 4: Verify mathematically\n",
        "#   20 >> 3 = 20 // (2^3) = 20 // 8 = 2\n",
        "\n",
        "print(a >> b)   # Output: 2\n"
      ],
      "metadata": {
        "colab": {
          "base_uri": "https://localhost:8080/"
        },
        "id": "AZJRVd39Vv0b",
        "outputId": "322069db-cd15-41f8-e3c3-c48063800515"
      },
      "execution_count": 2,
      "outputs": [
        {
          "output_type": "stream",
          "name": "stdout",
          "text": [
            "2\n"
          ]
        }
      ]
    },
    {
      "cell_type": "markdown",
      "source": [
        "#Tuple"
      ],
      "metadata": {
        "id": "3dVgcyiSLnKN"
      }
    },
    {
      "cell_type": "code",
      "source": [
        "a = 12, 3, 45, 34, 4   # multiple values separated by commas\n",
        "\n",
        "print(a)               # Output: (12, 3, 45, 34, 4)\n",
        "print(type(a))         # Output: <class 'tuple'>\n"
      ],
      "metadata": {
        "colab": {
          "base_uri": "https://localhost:8080/"
        },
        "id": "sxILtolgWPk2",
        "outputId": "a49ad271-76b2-4e92-c8b5-260476cedd1e"
      },
      "execution_count": 3,
      "outputs": [
        {
          "output_type": "stream",
          "name": "stdout",
          "text": [
            "(12, 3, 45, 34, 4)\n",
            "<class 'tuple'>\n"
          ]
        }
      ]
    },
    {
      "cell_type": "markdown",
      "source": [
        "access the elements"
      ],
      "metadata": {
        "id": "pWLax46-L-lt"
      }
    },
    {
      "cell_type": "code",
      "source": [
        "# Creating a tuple with multiple data types\n",
        "a = (23, 435, 234, True, \"apple\", (34))\n",
        "\n",
        "print(a)       # Output: (23, 435, 234, True, 'apple', 34)\n",
        "\n",
        "\n",
        "# a[3] = True   ← this will be printed\n",
        "print(a[3])    # Output: True\n"
      ],
      "metadata": {
        "colab": {
          "base_uri": "https://localhost:8080/"
        },
        "id": "eB1tWlqOXdWF",
        "outputId": "6667a78e-ad23-42cb-eb8d-113b02fcf0b4"
      },
      "execution_count": 4,
      "outputs": [
        {
          "output_type": "stream",
          "name": "stdout",
          "text": [
            "(23, 435, 234, True, 'apple', 34)\n",
            "True\n"
          ]
        }
      ]
    },
    {
      "cell_type": "markdown",
      "source": [
        "create an empty tuple"
      ],
      "metadata": {
        "id": "TyHsrMleMbAh"
      }
    },
    {
      "cell_type": "code",
      "source": [
        "# Creating an empty tuple using parentheses\n",
        "d = ()\n",
        "print(d)          # Output: ()\n",
        "print(type(d))    # Output: <class 'tuple'>\n",
        "\n",
        "# Creating an empty tuple using the tuple() constructor\n",
        "d = tuple()\n",
        "print(d)          # Output: ()\n",
        "print(type(d))    # Output: <class 'tuple'>\n"
      ],
      "metadata": {
        "colab": {
          "base_uri": "https://localhost:8080/"
        },
        "id": "QqYvbcIPX12P",
        "outputId": "e6d6f3f8-e0f6-4357-bc91-9b6b032e9cf3"
      },
      "execution_count": 13,
      "outputs": [
        {
          "output_type": "stream",
          "name": "stdout",
          "text": [
            "()\n",
            "<class 'tuple'>\n",
            "()\n",
            "<class 'tuple'>\n"
          ]
        }
      ]
    },
    {
      "cell_type": "markdown",
      "source": [
        "If I try to change an element of tuple"
      ],
      "metadata": {
        "id": "Dllk4wMeMgl9"
      }
    },
    {
      "cell_type": "code",
      "source": [
        "a = (23, 435, 234, True, 'apple', 34)\n",
        "\n",
        "# Trying to change element at index 1\n",
        "\n",
        "# a[1] = 'B'   # ERROR: 'tuple' object does not support item assignment\n",
        "\n",
        "print(a)\n"
      ],
      "metadata": {
        "colab": {
          "base_uri": "https://localhost:8080/"
        },
        "id": "Pbw0q9AsYJ6D",
        "outputId": "14d93349-d6c0-429c-b05a-d7613f46e7ef"
      },
      "execution_count": 14,
      "outputs": [
        {
          "output_type": "stream",
          "name": "stdout",
          "text": [
            "(23, 435, 234, True, 'apple', 34)\n"
          ]
        }
      ]
    },
    {
      "cell_type": "code",
      "source": [
        "# Convert a list into a tuple\n",
        "a = [1, 2, 3, 2, 3]\n",
        "print(tuple(a))       # Output: (1, 2, 3, 2, 3)"
      ],
      "metadata": {
        "colab": {
          "base_uri": "https://localhost:8080/"
        },
        "id": "2J-a7LZvNA6O",
        "outputId": "1833ac49-2efb-4da2-abab-c52f011d83ca"
      },
      "execution_count": 16,
      "outputs": [
        {
          "output_type": "stream",
          "name": "stdout",
          "text": [
            "(1, 2, 3, 2, 3)\n"
          ]
        }
      ]
    },
    {
      "cell_type": "code",
      "source": [
        "# Start with a tuple\n",
        "a = (1, 2, 3, 2, 3, 23)\n",
        "\n",
        "# Convert tuple into list (so we can modify it)\n",
        "a = list(a)\n",
        "\n",
        "# Modify last element (index -1)\n",
        "a[-1] = 'A'\n",
        "\n",
        "# Convert back into tuple\n",
        "a = tuple(a)\n",
        "\n",
        "print(a)              # Output: (1, 2, 3, 2, 3, 'A')\n"
      ],
      "metadata": {
        "colab": {
          "base_uri": "https://localhost:8080/"
        },
        "id": "cFau2ciLZ4Tt",
        "outputId": "be765d2b-fc90-400a-e073-d35a61c0640b"
      },
      "execution_count": 17,
      "outputs": [
        {
          "output_type": "stream",
          "name": "stdout",
          "text": [
            "(1, 2, 3, 2, 3, 'A')\n"
          ]
        }
      ]
    },
    {
      "cell_type": "markdown",
      "source": [
        "Slice operator"
      ],
      "metadata": {
        "id": "psXARDouNJOb"
      }
    },
    {
      "cell_type": "code",
      "source": [
        "a = (1, 2, 3, 2, 3, 23)\n",
        "\n",
        "# Slicing: a[start:end:step]\n",
        "\n",
        "# 1) a[2:-2:]\n",
        "\n",
        "# Start at index 2, end at index -2 (exclusive), step = default (1)\n",
        "# a = (1, 2, 3, 2, 3, 23)\n",
        "# So, elements at index [2, 3] = (3, 2)\n",
        "print(a[2:-2:])     # Output: (3, 2)\n",
        "\n",
        "\n",
        "# 2) a[-2::-1]\n",
        "# Start at index -2 (second last element = 3), move backwards (step = -1)\n",
        "# a = (1, 2, 3, 2, 3, 23)\n",
        "# Starting from index -2 → 3, then go backward: 2, 3, 2, 1\n",
        "print(a[-2::-1])    # Output: (3, 2, 3, 2, 1)\n",
        "\n",
        "# 3) a[::-1]\n",
        "# Full tuple reversed (no start, no end, step = -1)\n",
        "# a = (1, 2, 3, 2, 3, 23) → (23, 3, 2, 3, 2, 1)\n",
        "print(a[::-1])      # Output: (23, 3, 2, 3, 2, 1)\n",
        "\n",
        "\n"
      ],
      "metadata": {
        "colab": {
          "base_uri": "https://localhost:8080/"
        },
        "id": "XTugyQugaDRw",
        "outputId": "f89c3edd-8f0a-428a-d0ff-ed21142bfb35"
      },
      "execution_count": 20,
      "outputs": [
        {
          "output_type": "stream",
          "name": "stdout",
          "text": [
            "(3, 2)\n",
            "(3, 2, 3, 2, 1)\n",
            "(23, 3, 2, 3, 2, 1)\n"
          ]
        }
      ]
    },
    {
      "cell_type": "code",
      "source": [],
      "metadata": {
        "id": "NDGe0tlza2T5"
      },
      "execution_count": null,
      "outputs": []
    }
  ]
}