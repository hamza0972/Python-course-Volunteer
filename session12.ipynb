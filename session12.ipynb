{
  "nbformat": 4,
  "nbformat_minor": 0,
  "metadata": {
    "colab": {
      "provenance": [],
      "authorship_tag": "ABX9TyOf5W/dkzB8dnOLyKcu32HF",
      "include_colab_link": true
    },
    "kernelspec": {
      "name": "python3",
      "display_name": "Python 3"
    },
    "language_info": {
      "name": "python"
    }
  },
  "cells": [
    {
      "cell_type": "markdown",
      "metadata": {
        "id": "view-in-github",
        "colab_type": "text"
      },
      "source": [
        "<a href=\"https://colab.research.google.com/github/hamza0972/Python-course-Volunteer/blob/main/session12.ipynb\" target=\"_parent\"><img src=\"https://colab.research.google.com/assets/colab-badge.svg\" alt=\"Open In Colab\"/></a>"
      ]
    },
    {
      "cell_type": "markdown",
      "source": [
        "#String"
      ],
      "metadata": {
        "id": "3N3mID7lnzq6"
      }
    },
    {
      "cell_type": "markdown",
      "source": [
        "length of string / number of characters"
      ],
      "metadata": {
        "id": "Fk-PuhFPnxL5"
      }
    },
    {
      "cell_type": "code",
      "source": [
        "name=\"Hamza\"\n",
        "# name='Ali'\n",
        "\n",
        "print(len(name))  # built in function to check the length of the string"
      ],
      "metadata": {
        "colab": {
          "base_uri": "https://localhost:8080/"
        },
        "id": "2jj6BIxhrUHX",
        "outputId": "3b21a8bd-d597-4edf-b9a7-7349d77f02e0"
      },
      "execution_count": null,
      "outputs": [
        {
          "output_type": "stream",
          "name": "stdout",
          "text": [
            "5\n"
          ]
        }
      ]
    },
    {
      "cell_type": "markdown",
      "source": [
        "concatenation"
      ],
      "metadata": {
        "id": "L6vTuWxMoEys"
      }
    },
    {
      "cell_type": "code",
      "source": [
        "first=\"Muhammad\"\n",
        "last=\"Ali\"\n",
        "print(first+\" \"+last)  # use + for concatenation"
      ],
      "metadata": {
        "colab": {
          "base_uri": "https://localhost:8080/"
        },
        "id": "8FCO5goat9Ba",
        "outputId": "832629b7-328d-446a-a937-fb811c828023"
      },
      "execution_count": null,
      "outputs": [
        {
          "output_type": "stream",
          "name": "stdout",
          "text": [
            "Muhammad Ali\n"
          ]
        }
      ]
    },
    {
      "cell_type": "markdown",
      "source": [
        "Membership operator in string"
      ],
      "metadata": {
        "id": "G27N-CVZoMrC"
      }
    },
    {
      "cell_type": "code",
      "source": [
        "print(\"a\" in \"Hamza\") # use in to check the membership\n",
        "print(\"k\" not in \"Hamza\")\n",
        "print(\"am\" in \"Hamza\")"
      ],
      "metadata": {
        "colab": {
          "base_uri": "https://localhost:8080/"
        },
        "id": "bHiVFmCLvV34",
        "outputId": "b7c79c4f-a64b-4b7d-ba98-01c15a80ad12"
      },
      "execution_count": null,
      "outputs": [
        {
          "output_type": "stream",
          "name": "stdout",
          "text": [
            "True\n",
            "True\n",
            "True\n"
          ]
        }
      ]
    },
    {
      "cell_type": "code",
      "source": [
        "print(\"A\" in \"Hamza\") # it return False bcz python is case sensitive language."
      ],
      "metadata": {
        "colab": {
          "base_uri": "https://localhost:8080/"
        },
        "id": "EIuXF8kOolLG",
        "outputId": "14c6f49e-0180-4e81-f695-c7cc9a77779c"
      },
      "execution_count": null,
      "outputs": [
        {
          "output_type": "stream",
          "name": "stdout",
          "text": [
            "False\n"
          ]
        }
      ]
    },
    {
      "cell_type": "markdown",
      "source": [
        "Repetition"
      ],
      "metadata": {
        "id": "rxZWSscPovyP"
      }
    },
    {
      "cell_type": "code",
      "source": [
        "a=\"Hamza\"\n",
        "b=a*5\n",
        "print(a)\n",
        "print(b)"
      ],
      "metadata": {
        "colab": {
          "base_uri": "https://localhost:8080/"
        },
        "id": "6Kj0SKjtvqhM",
        "outputId": "665159fd-c4a9-4308-c709-707c595f1bb1"
      },
      "execution_count": null,
      "outputs": [
        {
          "output_type": "stream",
          "name": "stdout",
          "text": [
            "Hamza\n",
            "HamzaHamzaHamzaHamzaHamza\n"
          ]
        }
      ]
    },
    {
      "cell_type": "markdown",
      "source": [
        "indexing in the string"
      ],
      "metadata": {
        "id": "UMZZ9_Kbozdv"
      }
    },
    {
      "cell_type": "code",
      "source": [
        "country=\"Pakistan\"\n",
        "\n",
        "print(country[0])\n",
        "print(country[1])\n",
        "\n",
        "print(country[-1]) # return the last character"
      ],
      "metadata": {
        "colab": {
          "base_uri": "https://localhost:8080/"
        },
        "id": "Q-ksIEglwMlz",
        "outputId": "9d8282a2-6eb3-4454-b26a-a707a674ff6c"
      },
      "execution_count": null,
      "outputs": [
        {
          "output_type": "stream",
          "name": "stdout",
          "text": [
            "P\n",
            "a\n",
            "n\n"
          ]
        }
      ]
    },
    {
      "cell_type": "markdown",
      "source": [
        "Take name from the user as input and return the first and last character of the name"
      ],
      "metadata": {
        "id": "UOgOFeaLo6Rg"
      }
    },
    {
      "cell_type": "code",
      "source": [
        "name=input(\"Enter your name \")\n",
        "print(name[0])\n",
        "print(name[-1])"
      ],
      "metadata": {
        "colab": {
          "base_uri": "https://localhost:8080/"
        },
        "id": "HsMLsHbZxBJf",
        "outputId": "87a9cb97-5334-47cd-f74c-7b2d9e2eee26"
      },
      "execution_count": null,
      "outputs": [
        {
          "output_type": "stream",
          "name": "stdout",
          "text": [
            "Enter your name Zohaib\n",
            "Z\n",
            "b\n"
          ]
        }
      ]
    },
    {
      "cell_type": "markdown",
      "source": [
        "iteration by using while loop"
      ],
      "metadata": {
        "id": "giGBCB_rpF4k"
      }
    },
    {
      "cell_type": "code",
      "source": [
        "name=\"Ahmad\"\n",
        "start=0      # start from the 0 index\n",
        "while start<=len(name)-1:\n",
        "  print(name[start])\n",
        "  start+=1\n"
      ],
      "metadata": {
        "colab": {
          "base_uri": "https://localhost:8080/"
        },
        "id": "C4BUAdX0x9st",
        "outputId": "947efe47-4eb9-46c5-9996-958f89016f7b"
      },
      "execution_count": null,
      "outputs": [
        {
          "output_type": "stream",
          "name": "stdout",
          "text": [
            "A\n",
            "h\n",
            "m\n",
            "a\n",
            "d\n"
          ]
        }
      ]
    },
    {
      "cell_type": "markdown",
      "source": [
        "use of end=\"\""
      ],
      "metadata": {
        "id": "Dcr-4HgdpRiR"
      }
    },
    {
      "cell_type": "code",
      "source": [
        "name=\"Ahmad\"\n",
        "start=0\n",
        "\n",
        "while start<=len(name)-1:   # using the <= operator\n",
        "  print(name[start],end=\"\")\n",
        "  start+=1"
      ],
      "metadata": {
        "colab": {
          "base_uri": "https://localhost:8080/"
        },
        "id": "wPOyIRDEzhDM",
        "outputId": "882e414a-c8e4-4669-f5e1-cd2e18b7b73d"
      },
      "execution_count": null,
      "outputs": [
        {
          "output_type": "stream",
          "name": "stdout",
          "text": [
            "Ahmad"
          ]
        }
      ]
    },
    {
      "cell_type": "code",
      "source": [
        "name=\"Pakistan\"\n",
        "start=0\n",
        "while start<len(name):    # use of < operator\n",
        "  print(name[start],end=\"\")\n",
        "  start+=1"
      ],
      "metadata": {
        "colab": {
          "base_uri": "https://localhost:8080/"
        },
        "id": "L2uNPh700xZr",
        "outputId": "b25f1a5b-3d67-4af5-9dcd-39efe7265df8"
      },
      "execution_count": null,
      "outputs": [
        {
          "output_type": "stream",
          "name": "stdout",
          "text": [
            "Pakistan"
          ]
        }
      ]
    },
    {
      "cell_type": "code",
      "source": [
        "name=\"Muhammad\"\n",
        "start=0\n",
        "# while start<=len(name)-1:\n",
        "while start<len(name):\n",
        "  print(name[start],end=\"\")\n",
        "  start+=1"
      ],
      "metadata": {
        "colab": {
          "base_uri": "https://localhost:8080/"
        },
        "id": "rAxGPh7R01ft",
        "outputId": "c4dcc36b-2f5f-4dab-ba2e-25facabfd5fe"
      },
      "execution_count": null,
      "outputs": [
        {
          "output_type": "stream",
          "name": "stdout",
          "text": [
            "Muhammad"
          ]
        }
      ]
    },
    {
      "cell_type": "code",
      "source": [
        "print(len(\" $TD8\"))  # each value is consider as character in string"
      ],
      "metadata": {
        "colab": {
          "base_uri": "https://localhost:8080/"
        },
        "id": "Q7621tKv11R1",
        "outputId": "cc68b59d-9086-4fe3-f112-cae308cbd754"
      },
      "execution_count": null,
      "outputs": [
        {
          "output_type": "stream",
          "name": "stdout",
          "text": [
            "5\n"
          ]
        }
      ]
    },
    {
      "cell_type": "code",
      "source": [
        "# iteration by using for loop\n",
        "name=\"Zohaib\"\n",
        "for i in range(len(name)):\n",
        "  print(name[i])"
      ],
      "metadata": {
        "colab": {
          "base_uri": "https://localhost:8080/"
        },
        "id": "fGkGrtbN146-",
        "outputId": "bd29f845-a7c8-4a31-81ff-8331f46dac41"
      },
      "execution_count": null,
      "outputs": [
        {
          "output_type": "stream",
          "name": "stdout",
          "text": [
            "Z\n",
            "o\n",
            "h\n",
            "a\n",
            "i\n",
            "b\n"
          ]
        }
      ]
    },
    {
      "cell_type": "code",
      "source": [
        "# iteration by using while loop\n",
        "\n",
        "\n",
        "name=input(\"enter \")\n",
        "start=len(name)*-1        #start from the first character but use its negative index like -3 in \"Ali\"\n",
        "\n",
        "while start <=-1:\n",
        "  print(name[start])\n",
        "  start+=1"
      ],
      "metadata": {
        "colab": {
          "base_uri": "https://localhost:8080/"
        },
        "id": "iea5sRMv3KDh",
        "outputId": "e4957cdd-01a3-4920-8ca6-2108a3a9b3ee"
      },
      "execution_count": null,
      "outputs": [
        {
          "output_type": "stream",
          "name": "stdout",
          "text": [
            "enter Ali\n",
            "A\n",
            "l\n",
            "i\n"
          ]
        }
      ]
    },
    {
      "cell_type": "code",
      "source": [
        "# iteration by using for loop without range function\n",
        "country=\"Pakistan\"\n",
        "\n",
        "for i in country:\n",
        "  print(i)"
      ],
      "metadata": {
        "colab": {
          "base_uri": "https://localhost:8080/"
        },
        "id": "8j_Ab_4Q4wHJ",
        "outputId": "344ade4b-3153-4bb7-e6a8-79b3c092fc06"
      },
      "execution_count": null,
      "outputs": [
        {
          "output_type": "stream",
          "name": "stdout",
          "text": [
            "P\n",
            "a\n",
            "k\n",
            "i\n",
            "s\n",
            "t\n",
            "a\n",
            "n\n"
          ]
        }
      ]
    },
    {
      "cell_type": "markdown",
      "source": [
        "enumerate"
      ],
      "metadata": {
        "id": "tq6BrdzaqVjU"
      }
    },
    {
      "cell_type": "code",
      "source": [
        "country=\"Pakistan\"\n",
        "\n",
        "for index,value in enumerate(country):\n",
        "  print(f\"on index {index} the character is {value}\")"
      ],
      "metadata": {
        "colab": {
          "base_uri": "https://localhost:8080/"
        },
        "id": "frWGhVaO5zV9",
        "outputId": "136ba2ca-3d19-4006-8dce-470726523d11"
      },
      "execution_count": null,
      "outputs": [
        {
          "output_type": "stream",
          "name": "stdout",
          "text": [
            "on index 0 the character is P\n",
            "on index 1 the character is a\n",
            "on index 2 the character is k\n",
            "on index 3 the character is i\n",
            "on index 4 the character is s\n",
            "on index 5 the character is t\n",
            "on index 6 the character is a\n",
            "on index 7 the character is n\n"
          ]
        }
      ]
    },
    {
      "cell_type": "markdown",
      "source": [
        "Take name from the user as input and display the characters from start to mid like Mah in Maham"
      ],
      "metadata": {
        "id": "hb6NQ4EpqYBp"
      }
    },
    {
      "cell_type": "code",
      "source": [
        "name=input(\"enter \")\n",
        "start=0\n",
        "end=len(name)-1\n",
        "\n",
        "mid=(start+end)//2   #find mid\n",
        "\n",
        "for i in range(len(name)):\n",
        "  if name[i]==name[mid]:    # if loop reach the mid character then stop the loop\n",
        "    print(name[i])\n",
        "    break\n",
        "  print(name[i],end=\"\")\n"
      ],
      "metadata": {
        "colab": {
          "base_uri": "https://localhost:8080/"
        },
        "id": "qF-tcvli6Vxs",
        "outputId": "1989cab7-68e9-44ef-f3fe-5519fa786bff"
      },
      "execution_count": null,
      "outputs": [
        {
          "output_type": "stream",
          "name": "stdout",
          "text": [
            "enter ALi\n",
            "AL\n"
          ]
        }
      ]
    },
    {
      "cell_type": "code",
      "source": [],
      "metadata": {
        "id": "QkS441O76-0G"
      },
      "execution_count": null,
      "outputs": []
    }
  ]
}