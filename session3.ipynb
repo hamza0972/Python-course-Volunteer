{
  "nbformat": 4,
  "nbformat_minor": 0,
  "metadata": {
    "colab": {
      "provenance": [],
      "authorship_tag": "ABX9TyMTTi760Cd1x/91fUJhqQyG",
      "include_colab_link": true
    },
    "kernelspec": {
      "name": "python3",
      "display_name": "Python 3"
    },
    "language_info": {
      "name": "python"
    }
  },
  "cells": [
    {
      "cell_type": "markdown",
      "metadata": {
        "id": "view-in-github",
        "colab_type": "text"
      },
      "source": [
        "<a href=\"https://colab.research.google.com/github/hamza0972/Python-course-Volunteer/blob/main/session3.ipynb\" target=\"_parent\"><img src=\"https://colab.research.google.com/assets/colab-badge.svg\" alt=\"Open In Colab\"/></a>"
      ]
    },
    {
      "cell_type": "markdown",
      "source": [
        "add multiline comment"
      ],
      "metadata": {
        "id": "CIyOaFNxaeLF"
      }
    },
    {
      "cell_type": "code",
      "source": [
        "print(\"Hamza\")\n",
        "# print(\"Ahmad\")\n",
        "# print(\"Book\")\n",
        "# you can select the text and press ctrl + ? from the keyboard"
      ],
      "metadata": {
        "id": "F8obDzGLahy1",
        "colab": {
          "base_uri": "https://localhost:8080/"
        },
        "outputId": "3831fa18-06f6-49db-e79d-ad71ba5d7ed4"
      },
      "execution_count": 27,
      "outputs": [
        {
          "output_type": "stream",
          "name": "stdout",
          "text": [
            "Hamza\n"
          ]
        }
      ]
    },
    {
      "cell_type": "markdown",
      "source": [
        "declare variables"
      ],
      "metadata": {
        "id": "0uAN4Bu3a0F8"
      }
    },
    {
      "cell_type": "code",
      "source": [
        "sentence=\"I am Hamza. I am learning Python and Python is very easy\"\n",
        "print(sentence)\n",
        "print(sentence)\n",
        "#we declare variables to avoid repition and make our code more reusable, readable and clean"
      ],
      "metadata": {
        "colab": {
          "base_uri": "https://localhost:8080/"
        },
        "id": "2HTJ2zD_a3MQ",
        "outputId": "9b72a6e8-2f72-43e9-9f46-c629ae36cc6a"
      },
      "execution_count": 28,
      "outputs": [
        {
          "output_type": "stream",
          "name": "stdout",
          "text": [
            "I am Hamza. I am learning Python and Python is very easy\n",
            "I am Hamza. I am learning Python and Python is very easy\n"
          ]
        }
      ]
    },
    {
      "cell_type": "code",
      "source": [
        "# my name=\"Hamza\"    it give error\n",
        "# 12name=\"Ali\"       it give error\n",
        "# name_$=\"Ahmad\"     it give error\n",
        "# print=\"Ahmad\"      it give error\n",
        "name_of_book1=\"English\"\n",
        "print(name_of_book1)"
      ],
      "metadata": {
        "colab": {
          "base_uri": "https://localhost:8080/"
        },
        "id": "Du38EAW2bMg8",
        "outputId": "19fd4258-06d1-42eb-d462-314552f97c17"
      },
      "execution_count": 29,
      "outputs": [
        {
          "output_type": "stream",
          "name": "stdout",
          "text": [
            "English\n"
          ]
        }
      ]
    },
    {
      "cell_type": "code",
      "execution_count": null,
      "metadata": {
        "colab": {
          "base_uri": "https://localhost:8080/"
        },
        "id": "PKTGT-bv4NIN",
        "outputId": "3a904c06-a873-434f-ef18-32bc93d958aa"
      },
      "outputs": [
        {
          "output_type": "stream",
          "name": "stdout",
          "text": [
            "Name of the user is: Ahmad\n",
            "CGPA of the Ahmad is: 3.3\n"
          ]
        }
      ],
      "source": [
        "#variables declared\n",
        "name=\"Ahmad\"\n",
        "cgpa=3.3\n",
        "#call the variables\n",
        "print(\"Name of the user is:\",name)\n",
        "print(\"CGPA of the\",name,\"is:\",cgpa)"
      ]
    },
    {
      "cell_type": "code",
      "source": [
        "id1=\"Hamza\"\n",
        "print(id1)\n",
        "# not a good approach -> declare variable name according to the data."
      ],
      "metadata": {
        "colab": {
          "base_uri": "https://localhost:8080/"
        },
        "id": "4lKLsyk54QY0",
        "outputId": "bb6c6eda-1d76-4566-b5f3-329836852827"
      },
      "execution_count": null,
      "outputs": [
        {
          "output_type": "stream",
          "name": "stdout",
          "text": [
            "Hamza\n"
          ]
        }
      ]
    },
    {
      "cell_type": "markdown",
      "source": [
        "variable update"
      ],
      "metadata": {
        "id": "fF04b9WQcOsj"
      }
    },
    {
      "cell_type": "code",
      "source": [
        "fruit=\"apple\"\n",
        "print(\"before\",fruit)\n",
        "fruit=\"banana\"\n",
        "print(\"after\",fruit,\"apple\")"
      ],
      "metadata": {
        "colab": {
          "base_uri": "https://localhost:8080/"
        },
        "id": "vthLZ3BK5_Mv",
        "outputId": "b5b2e3e5-5e9c-4ce2-de1d-11cc078b6353"
      },
      "execution_count": null,
      "outputs": [
        {
          "output_type": "stream",
          "name": "stdout",
          "text": [
            "before apple\n",
            "after banana apple\n"
          ]
        }
      ]
    },
    {
      "cell_type": "markdown",
      "source": [
        "data types"
      ],
      "metadata": {
        "id": "pZ7gSIFqcbG1"
      }
    },
    {
      "cell_type": "code",
      "source": [
        "value=67   #integer\n",
        "print(type(value))\n",
        "\n",
        "new_value=0.987  #float\n",
        "print(type(new_value))\n",
        "\n",
        "new_value2=-9.786  #float\n",
        "print(type(new_value2))"
      ],
      "metadata": {
        "colab": {
          "base_uri": "https://localhost:8080/"
        },
        "id": "BWgV34q68gfo",
        "outputId": "d6554e37-c1fc-48eb-fff5-0f83f348977c"
      },
      "execution_count": 35,
      "outputs": [
        {
          "output_type": "stream",
          "name": "stdout",
          "text": [
            "<class 'int'>\n",
            "<class 'float'>\n",
            "<class 'float'>\n"
          ]
        }
      ]
    },
    {
      "cell_type": "code",
      "source": [
        "com=23+43j\n",
        "print(type(com))\n",
        "print(com.real)\n",
        "print(com.imag)\n"
      ],
      "metadata": {
        "id": "KEX58hKj-6If",
        "colab": {
          "base_uri": "https://localhost:8080/"
        },
        "outputId": "e1e5bb1f-8a16-43f1-b7df-37fefa658f0e"
      },
      "execution_count": 30,
      "outputs": [
        {
          "output_type": "stream",
          "name": "stdout",
          "text": [
            "<class 'complex'>\n",
            "23.0\n",
            "43.0\n"
          ]
        }
      ]
    },
    {
      "cell_type": "code",
      "source": [],
      "metadata": {
        "id": "zZHH9cMDcV8x"
      },
      "execution_count": null,
      "outputs": []
    }
  ]
}
