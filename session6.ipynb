{
  "nbformat": 4,
  "nbformat_minor": 0,
  "metadata": {
    "colab": {
      "provenance": [],
      "authorship_tag": "ABX9TyMujVXDOL6Yz/EoCNgcp/l3",
      "include_colab_link": true
    },
    "kernelspec": {
      "name": "python3",
      "display_name": "Python 3"
    },
    "language_info": {
      "name": "python"
    }
  },
  "cells": [
    {
      "cell_type": "markdown",
      "metadata": {
        "id": "view-in-github",
        "colab_type": "text"
      },
      "source": [
        "<a href=\"https://colab.research.google.com/github/hamza0972/Python-course-Volunteer/blob/main/session6.ipynb\" target=\"_parent\"><img src=\"https://colab.research.google.com/assets/colab-badge.svg\" alt=\"Open In Colab\"/></a>"
      ]
    },
    {
      "cell_type": "code",
      "execution_count": 1,
      "metadata": {
        "colab": {
          "base_uri": "https://localhost:8080/"
        },
        "id": "N-ZOjy7yhvQ_",
        "outputId": "e0e8d3ed-f201-4653-8d17-3ffd5bc3292b"
      },
      "outputs": [
        {
          "output_type": "stream",
          "name": "stdout",
          "text": [
            "Write your age:2\n",
            "You are not eligible to vote \n"
          ]
        }
      ],
      "source": [
        "# IF-ELSE\n",
        "Age=int(input(\"Write your age:\"))\n",
        "\n",
        "if Age >= 18  :\n",
        " print(\"You are eligible to vote \")\n",
        "if Age < 0:\n",
        "  print(\"Invalid age\")\n",
        "else:\n",
        "  print(\"You are not eligible to vote \")\n",
        "\n"
      ]
    },
    {
      "cell_type": "code",
      "source": [
        "# even or odd\n",
        "num = int(input(\"Write a number: \"))\n",
        "\n",
        "if num % 2 == 0:\n",
        "  print(\"Number is even\")\n",
        "else:\n",
        "  print(\"Number is odd\")\n",
        "\n"
      ],
      "metadata": {
        "id": "-huzJ4NLh2xF"
      },
      "execution_count": null,
      "outputs": []
    },
    {
      "cell_type": "code",
      "source": [
        "# Grading System\n",
        "\n",
        "marks=int(input(\"Enter your Marks: \"))\n",
        "\n",
        "if marks < 0 or marks > 100:\n",
        "  print(\"Please enter correct number\")\n",
        "elif marks >= 90 and marks <= 100 :\n",
        "  print(\"Grade A+\")\n",
        "elif   marks >= 80 and marks < 90:\n",
        "  print(\"Grade A\")\n",
        "elif marks >= 70 and marks < 80:\n",
        "  print(\"Grade B\")\n",
        "elif marks >= 60 and marks < 70:\n",
        "  print(\"Grade c\")\n",
        "elif marks >= 50 and marks < 60:\n",
        "  print(\"Grade D\")\n",
        "else:\n",
        "  print(\"You're Fail \")\n",
        "\n"
      ],
      "metadata": {
        "id": "kp4puqjNh5nw"
      },
      "execution_count": null,
      "outputs": []
    },
    {
      "cell_type": "code",
      "source": [
        "# largest of three number\n",
        "\n",
        "num1=int(input(\"Enter number 1: \"))\n",
        "num2=int(input(\"Enter number 2: \"))\n",
        "num3=int(input(\"Enter number 3: \"))\n",
        "\n",
        "if num1 > num2 and num1 > num3:\n",
        "  print(\"Number 1 is greater\")\n",
        "elif num2 > num1 and num2 > num3:\n",
        "  print(\"Number 2 is greater\")\n",
        "else:\n",
        "  print(\"Number 3 is greater\")\n",
        "\n"
      ],
      "metadata": {
        "id": "C0BMdA2NiGiG"
      },
      "execution_count": null,
      "outputs": []
    },
    {
      "cell_type": "code",
      "source": [
        "# sceret Number\n",
        "\n",
        "sceret = 1\n",
        "\n",
        "print(\"Welcome to the game \")\n",
        "guess=int(input(\"Enter a number: \"))\n",
        "\n",
        "if guess == sceret :\n",
        "  print(\"You guessed right !!\")\n",
        "else:\n",
        "  print(\"You loss !\")\n",
        "\n",
        "\n"
      ],
      "metadata": {
        "id": "oq4rZnpUiHSY"
      },
      "execution_count": null,
      "outputs": []
    }
  ]
}