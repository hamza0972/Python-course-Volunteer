{
  "nbformat": 4,
  "nbformat_minor": 0,
  "metadata": {
    "colab": {
      "provenance": [],
      "authorship_tag": "ABX9TyPBN36tt3ET7zGTeWa+R7Ck",
      "include_colab_link": true
    },
    "kernelspec": {
      "name": "python3",
      "display_name": "Python 3"
    },
    "language_info": {
      "name": "python"
    }
  },
  "cells": [
    {
      "cell_type": "markdown",
      "metadata": {
        "id": "view-in-github",
        "colab_type": "text"
      },
      "source": [
        "<a href=\"https://colab.research.google.com/github/hamza0972/Python-course-Volunteer/blob/main/session25.ipynb\" target=\"_parent\"><img src=\"https://colab.research.google.com/assets/colab-badge.svg\" alt=\"Open In Colab\"/></a>"
      ]
    },
    {
      "cell_type": "markdown",
      "source": [
        "Function"
      ],
      "metadata": {
        "id": "q7hjnC6mN_ia"
      }
    },
    {
      "cell_type": "code",
      "source": [
        "# Define a function named 'add' that takes two parameters: a and b\n",
        "def add(a, b):\n",
        "    # Return the sum of a and b\n",
        "    return a + b\n",
        "\n",
        "# Call the function 'add' with arguments 3 and 4\n",
        "# The result (7) is stored in the variable 'new'\n",
        "new = add(3, 4)\n",
        "\n",
        "# Print the value of 'new' (which is 7)\n",
        "print(new)\n",
        "\n",
        "# Print the value of 'new' again\n",
        "print(new)\n",
        "\n",
        "# Add 2 to the value stored in 'new' and print the result (7 + 2 = 9)\n",
        "print(new + 2)\n"
      ],
      "metadata": {
        "colab": {
          "base_uri": "https://localhost:8080/"
        },
        "id": "sgGpol3lRt0c",
        "outputId": "41f6edf2-4165-4794-b4f2-ae45cd3e51ad"
      },
      "execution_count": 1,
      "outputs": [
        {
          "output_type": "stream",
          "name": "stdout",
          "text": [
            "7\n",
            "7\n",
            "9\n"
          ]
        }
      ]
    },
    {
      "cell_type": "code",
      "source": [
        "# Define a function named 'add' that takes two parameters: a and b\n",
        "def add(a, b):\n",
        "    # Print the sum of a and b (but does NOT return it)\n",
        "    print(a + b)\n",
        "\n",
        "# Call the function 'add' with arguments 5 and 6\n",
        "# This will print 11, but since there is no return statement,\n",
        "# the function will return None by default\n",
        "new = add(5, 6)\n",
        "\n",
        "# Print the value stored in 'new'\n",
        "print(new)\n"
      ],
      "metadata": {
        "colab": {
          "base_uri": "https://localhost:8080/"
        },
        "id": "Py4yFA-pSdwg",
        "outputId": "967dfd84-ee0a-4625-db7c-32705feab6e4"
      },
      "execution_count": 2,
      "outputs": [
        {
          "output_type": "stream",
          "name": "stdout",
          "text": [
            "11\n",
            "None\n"
          ]
        }
      ]
    },
    {
      "cell_type": "code",
      "source": [
        "# Define a function named 'add' that takes two parameters: a and b\n",
        "def add(a, b):\n",
        "    # Return both values 'a' and 'b'\n",
        "    # Note: returning multiple values like this automatically creates a tuple (a, b)\n",
        "    return a, b\n",
        "\n",
        "# Call the function with arguments 3 and 4, and store the result in variable 'new'\n",
        "# The function returns (3, 4), which is a tuple\n",
        "new = add(3, 4)\n",
        "\n",
        "# Print the value stored in 'new'\n",
        "# This will print the tuple (3, 4)\n",
        "print(new)\n"
      ],
      "metadata": {
        "colab": {
          "base_uri": "https://localhost:8080/"
        },
        "id": "jCXvzjbrSjDq",
        "outputId": "1fe2c998-4ba4-4410-c8e4-42094fba7e0a"
      },
      "execution_count": 3,
      "outputs": [
        {
          "output_type": "stream",
          "name": "stdout",
          "text": [
            "(3, 4)\n"
          ]
        }
      ]
    },
    {
      "cell_type": "code",
      "source": [
        "# Define a function named 'add' that takes two parameters: a and b\n",
        "def add(a, b):\n",
        "    # Print the sum of a and b inside the function\n",
        "    # The print() function displays the result but returns None\n",
        "    return (print('sum is', a + b))  # The 'return' here just returns whatever print() returns — which is None\n",
        "\n",
        "# Call the function with arguments 3 and 4, and store the returned value in 'new'\n",
        "# 'add(3, 4)' prints \"sum is 7\" but returns None, so 'new' will be None\n",
        "new = add(3, 4)\n",
        "\n",
        "# Print the value of 'new'\n",
        "# Since the function returns None, this line will print \"None\"\n",
        "print(new)\n"
      ],
      "metadata": {
        "colab": {
          "base_uri": "https://localhost:8080/"
        },
        "id": "QaBeqZ88U0wk",
        "outputId": "dcc16ec8-a34f-4a44-f77b-845e60f8dd7d"
      },
      "execution_count": 4,
      "outputs": [
        {
          "output_type": "stream",
          "name": "stdout",
          "text": [
            "sum is 7\n",
            "None\n"
          ]
        }
      ]
    },
    {
      "cell_type": "code",
      "source": [
        "# Define a function named 'add' that takes two parameters: a and b\n",
        "def add(a, b):\n",
        "    # Print the sum using an f-string (formatted string)\n",
        "    # The f-string allows you to directly insert variables into the string\n",
        "    print(f\"sum of a and b is {a + b}\")\n",
        "\n",
        "# Call the function with arguments 3 and 4\n",
        "# This will execute the print statement inside the function\n",
        "add(3, 4)\n"
      ],
      "metadata": {
        "colab": {
          "base_uri": "https://localhost:8080/"
        },
        "id": "XP2_kM-1VMD1",
        "outputId": "bb96309b-cc46-4171-a5ba-70fc5da12fd3"
      },
      "execution_count": 5,
      "outputs": [
        {
          "output_type": "stream",
          "name": "stdout",
          "text": [
            "sum of a and b is 7\n"
          ]
        }
      ]
    },
    {
      "cell_type": "code",
      "source": [
        "# Define a function named 'add' that takes two parameters: a and b\n",
        "def add(a, b):\n",
        "    # Return the sum of a and b to the place where the function is called\n",
        "    return a + b\n",
        "\n",
        "# Call the function with arguments 3 and 4, and print the result\n",
        "# The function returns 7, which gets printed along with the message\n",
        "print('sum is', (add(3, 4)))\n"
      ],
      "metadata": {
        "colab": {
          "base_uri": "https://localhost:8080/"
        },
        "id": "Y5x-Udn1VRRU",
        "outputId": "ed2ced8f-dcc8-450d-e07e-41b1d8dc0696"
      },
      "execution_count": 6,
      "outputs": [
        {
          "output_type": "stream",
          "name": "stdout",
          "text": [
            "sum is 7\n"
          ]
        }
      ]
    },
    {
      "cell_type": "markdown",
      "source": [
        "Scope of varible"
      ],
      "metadata": {
        "id": "q6rFYEGwLzEo"
      }
    },
    {
      "cell_type": "code",
      "source": [
        "# A global variable — accessible anywhere in the file (inside or outside functions)\n",
        "y = 90\n",
        "\n",
        "# Define a function named 'value' that takes one parameter: x\n",
        "def value(x):\n",
        "    # A local variable 'z' — it exists only inside this function\n",
        "    z = 20\n",
        "    # Print the value of z (which is 20)\n",
        "    print(z)\n",
        "\n",
        "# Call the function with argument 34\n",
        "# The function prints the local variable z\n",
        "value(34)\n",
        "\n",
        "# Trying to print 'z' here would cause an error because 'z' is defined only inside the function\n",
        "# print(z)  # ❌ NameError: name 'z' is not defined\n"
      ],
      "metadata": {
        "colab": {
          "base_uri": "https://localhost:8080/"
        },
        "id": "3KjuL9jnWLLi",
        "outputId": "14fbcc7d-7df5-454d-cd79-685785d1c992"
      },
      "execution_count": 7,
      "outputs": [
        {
          "output_type": "stream",
          "name": "stdout",
          "text": [
            "20\n"
          ]
        }
      ]
    },
    {
      "cell_type": "code",
      "source": [
        "# A global variable 'y' — accessible throughout the program\n",
        "y = 90\n",
        "\n",
        "# Define a function named 'value' that takes one parameter 'x'\n",
        "def value(x):\n",
        "    # Declare 'y' as global so we can modify the global variable inside the function\n",
        "    global y\n",
        "    # Add 10 to the global variable 'y'\n",
        "    y = y + 10\n",
        "    # Print the values of x and y\n",
        "    print(x, y)\n",
        "\n",
        "# Call the function with argument 34\n",
        "value(34)\n"
      ],
      "metadata": {
        "colab": {
          "base_uri": "https://localhost:8080/"
        },
        "id": "b80ZeGrLWkDz",
        "outputId": "68279d31-d702-4e50-c087-e94ccd46692e"
      },
      "execution_count": null,
      "outputs": [
        {
          "output_type": "stream",
          "name": "stdout",
          "text": [
            "34 100\n"
          ]
        }
      ]
    },
    {
      "cell_type": "markdown",
      "source": [
        "multiple positional (*args)"
      ],
      "metadata": {
        "id": "Skw3gO8lN3sm"
      }
    },
    {
      "cell_type": "code",
      "source": [
        "# Define a function named 'arguments' that accepts any number of positional arguments\n",
        "def arguments(*args):\n",
        "    # 'args' is a tuple that stores all the values passed into the function\n",
        "    print(args)\n",
        "\n",
        "# Call the function with multiple arguments\n",
        "arguments(2, 3, 2, 10, 3)\n"
      ],
      "metadata": {
        "colab": {
          "base_uri": "https://localhost:8080/"
        },
        "id": "Ne8IbdrnYZX8",
        "outputId": "c2531c04-060a-4978-80b9-1c66eb4f18dc"
      },
      "execution_count": 8,
      "outputs": [
        {
          "output_type": "stream",
          "name": "stdout",
          "text": [
            "(2, 3, 2, 10, 3)\n"
          ]
        }
      ]
    },
    {
      "cell_type": "markdown",
      "source": [
        "multiple positional (**args)"
      ],
      "metadata": {
        "id": "uuLfd1Z_N7_l"
      }
    },
    {
      "cell_type": "code",
      "source": [
        "# Define a function named 'arguments' that accepts any number of keyword arguments\n",
        "def arguments(**args):\n",
        "    # '**args' collects all keyword arguments into a dictionary\n",
        "    print(args)\n",
        "\n",
        "# Call the function with keyword arguments\n",
        "arguments(a=34, b=90)\n"
      ],
      "metadata": {
        "colab": {
          "base_uri": "https://localhost:8080/"
        },
        "id": "8fxQ0dYoa1sf",
        "outputId": "3f8d14e8-0a12-4441-8909-4da53f4cf8ce"
      },
      "execution_count": 9,
      "outputs": [
        {
          "output_type": "stream",
          "name": "stdout",
          "text": [
            "{'a': 34, 'b': 90}\n"
          ]
        }
      ]
    },
    {
      "cell_type": "markdown",
      "source": [
        "join in list (it was skipped)"
      ],
      "metadata": {
        "id": "BHxCk2xgM8jT"
      }
    },
    {
      "cell_type": "code",
      "source": [
        "# Define a list containing both letters and a string number\n",
        "a = ['a', 'b', 'c', '1']\n",
        "\n",
        "# Use the join() method to combine all elements of the list into one string\n",
        "# Each element is separated by a single space (' ')\n",
        "print(' '.join(a))\n"
      ],
      "metadata": {
        "colab": {
          "base_uri": "https://localhost:8080/"
        },
        "id": "a_kTbur0bNLt",
        "outputId": "6380e894-99eb-48af-fdec-8e861235bee7"
      },
      "execution_count": 10,
      "outputs": [
        {
          "output_type": "stream",
          "name": "stdout",
          "text": [
            "a b c 1\n"
          ]
        }
      ]
    },
    {
      "cell_type": "code",
      "source": [],
      "metadata": {
        "id": "baXU6tklc6Us"
      },
      "execution_count": null,
      "outputs": []
    }
  ]
}