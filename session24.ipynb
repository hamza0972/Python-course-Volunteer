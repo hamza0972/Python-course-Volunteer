{
  "nbformat": 4,
  "nbformat_minor": 0,
  "metadata": {
    "colab": {
      "provenance": [],
      "authorship_tag": "ABX9TyNMdJXwo8J1cIN0aL324XTs",
      "include_colab_link": true
    },
    "kernelspec": {
      "name": "python3",
      "display_name": "Python 3"
    },
    "language_info": {
      "name": "python"
    }
  },
  "cells": [
    {
      "cell_type": "markdown",
      "metadata": {
        "id": "view-in-github",
        "colab_type": "text"
      },
      "source": [
        "<a href=\"https://colab.research.google.com/github/hamza0972/Python-course-Volunteer/blob/main/session24.ipynb\" target=\"_parent\"><img src=\"https://colab.research.google.com/assets/colab-badge.svg\" alt=\"Open In Colab\"/></a>"
      ]
    },
    {
      "cell_type": "code",
      "source": [
        "# Assign the value 3 to variable 'a'\n",
        "a = 3\n",
        "\n",
        "# Assign the value 8 to variable 'b'\n",
        "b = 8\n",
        "\n",
        "# Calculate the sum of 'a' and 'b', and store it in variable 'sum'\n",
        "sum = a + b\n",
        "\n",
        "# Print the result of the first sum\n",
        "print(sum)\n",
        "\n",
        "# Assign the value 13 to variable 'c'\n",
        "c = 13\n",
        "\n",
        "# Assign the value 28 to variable 'd'\n",
        "d = 28\n",
        "\n",
        "# Calculate the sum of 'c' and 'd', and store it in variable 'sum1'\n",
        "sum1 = c + d\n",
        "\n",
        "# Print the result of the second sum\n",
        "print(sum1)\n"
      ],
      "metadata": {
        "colab": {
          "base_uri": "https://localhost:8080/"
        },
        "id": "e1hf1dMoGQa2",
        "outputId": "9937faf7-7bd1-40da-c5be-0d79133d5ae8"
      },
      "execution_count": 2,
      "outputs": [
        {
          "output_type": "stream",
          "name": "stdout",
          "text": [
            "11\n",
            "41\n"
          ]
        }
      ]
    },
    {
      "cell_type": "markdown",
      "source": [
        "#Functions"
      ],
      "metadata": {
        "id": "SzRBCkopJnyW"
      }
    },
    {
      "cell_type": "code",
      "source": [
        "# Define a function named 'sum' that takes two parameters: a and b\n",
        "def sum(a, b):\n",
        "    # The function returns the sum of a and b\n",
        "    return a + b\n",
        "\n",
        "# Call the function with arguments 3 and 4, then print the result (3 + 4 = 7)\n",
        "print(sum(3, 4))\n",
        "\n",
        "# Call the function with arguments 2 and 10, then print the result (2 + 10 = 12)\n",
        "print(sum(2, 10))\n",
        "\n",
        "# Call the function with arguments 4 and -9, then print the result (4 + (-9) = -5)\n",
        "print(sum(4, -9))\n"
      ],
      "metadata": {
        "colab": {
          "base_uri": "https://localhost:8080/"
        },
        "id": "QSa15OHbHe00",
        "outputId": "e0d9c7cf-4e3c-416f-816d-df92d0f795aa"
      },
      "execution_count": 3,
      "outputs": [
        {
          "output_type": "stream",
          "name": "stdout",
          "text": [
            "7\n",
            "12\n",
            "-5\n"
          ]
        }
      ]
    },
    {
      "cell_type": "markdown",
      "source": [
        "user define functions\n"
      ],
      "metadata": {
        "id": "codQCxtYmVJo"
      }
    },
    {
      "cell_type": "code",
      "source": [
        "# Define a function named 'greet' that takes no parameters\n",
        "def greet():\n",
        "    # This statement prints the word 'hello' to the screen\n",
        "    print('hello')\n",
        "\n",
        "# Call (execute) the 'greet' function for the first time\n",
        "greet()\n",
        "\n",
        "# Call the 'greet' function for the second time\n",
        "greet()\n",
        "\n",
        "# Call the 'greet' function for the third time\n",
        "greet()\n"
      ],
      "metadata": {
        "colab": {
          "base_uri": "https://localhost:8080/"
        },
        "id": "qtdwBesXH8ol",
        "outputId": "6f8056bc-0755-460b-d43e-47f60397755b"
      },
      "execution_count": 4,
      "outputs": [
        {
          "output_type": "stream",
          "name": "stdout",
          "text": [
            "hello\n",
            "hello\n",
            "hello\n"
          ]
        }
      ]
    },
    {
      "cell_type": "markdown",
      "source": [
        "built-in functions"
      ],
      "metadata": {
        "id": "yWoaPzbDmR4u"
      }
    },
    {
      "cell_type": "code",
      "source": [
        "# a = [1, 2, 3, 2, 3, 2]\n",
        "# print(len(a))\n",
        "# The above two lines (commented out) show how Python's built-in len() function works.\n",
        "\n",
        "# Define a custom function 'length' that calculates the number of elements in a list manually\n",
        "def length(a):\n",
        "    total = 0                 # Initialize a counter variable 'total' to 0\n",
        "    for i in a:               # Loop through each element in the list 'a'\n",
        "        total += 1            # For every element, increase 'total' by 1\n",
        "    return total              # After counting all elements, return the total count\n",
        "\n",
        "# Call the function 'length' with a sample list and get the result\n",
        "length([1, 2, 3, 2, 3, 2])\n"
      ],
      "metadata": {
        "colab": {
          "base_uri": "https://localhost:8080/"
        },
        "id": "XlSxpc4yLYRk",
        "outputId": "fe32aea0-9b21-4c9e-c0e9-4942f9ae66db"
      },
      "execution_count": 6,
      "outputs": [
        {
          "output_type": "execute_result",
          "data": {
            "text/plain": [
              "6"
            ]
          },
          "metadata": {},
          "execution_count": 6
        }
      ]
    },
    {
      "cell_type": "markdown",
      "source": [
        "Positional arguments"
      ],
      "metadata": {
        "id": "4TJ1juBBmwCX"
      }
    },
    {
      "cell_type": "code",
      "source": [
        "# Define a function named 'subtract' that takes two parameters: a and b\n",
        "def subtract(a, b):\n",
        "    # This line is commented out — it would print the value of 'a' if uncommented\n",
        "    # print(a)\n",
        "\n",
        "    # The function returns the result of subtracting b from a\n",
        "    return a - b\n",
        "\n",
        "# Call the function 'subtract' with arguments 10 and 4\n",
        "# Then print the result returned by the function\n",
        "print(subtract(10, 4))\n"
      ],
      "metadata": {
        "colab": {
          "base_uri": "https://localhost:8080/"
        },
        "id": "L0eNsZaRM3R5",
        "outputId": "04514620-1458-419d-e55d-4bb87a8b37a5"
      },
      "execution_count": 7,
      "outputs": [
        {
          "output_type": "stream",
          "name": "stdout",
          "text": [
            "6\n"
          ]
        }
      ]
    },
    {
      "cell_type": "markdown",
      "source": [
        "keyword argrments"
      ],
      "metadata": {
        "id": "sw5GIrymm6-M"
      }
    },
    {
      "cell_type": "code",
      "source": [
        "# Define a function named 'subtract' that takes two parameters: a and b\n",
        "def subtract(a, b):\n",
        "    # Print the value of 'a' (just to show what was passed as the first argument)\n",
        "    print(a)\n",
        "\n",
        "    # Return the result of subtracting b from a\n",
        "    return a - b\n",
        "\n",
        "# Call the function using keyword arguments\n",
        "# Here 'b=10' and 'a=4' — order doesn’t matter when using keywords\n",
        "print(subtract(b=10, a=4))\n"
      ],
      "metadata": {
        "colab": {
          "base_uri": "https://localhost:8080/"
        },
        "id": "_o8oVustPPjE",
        "outputId": "1a99abc0-c5c9-4ef4-94dc-102e8755546c"
      },
      "execution_count": 8,
      "outputs": [
        {
          "output_type": "stream",
          "name": "stdout",
          "text": [
            "4\n",
            "-6\n"
          ]
        }
      ]
    },
    {
      "cell_type": "markdown",
      "source": [
        "default argument"
      ],
      "metadata": {
        "id": "-N1EEwEjnIug"
      }
    },
    {
      "cell_type": "code",
      "source": [
        "# Define a function named 'greet' with one parameter 'name'\n",
        "# The parameter 'name' has a *default value* of \"Abdullah\"\n",
        "def greet(name=\"Abdullah\"):\n",
        "    # Print a greeting message using f-string formatting\n",
        "    print(f\"hi, {name}\")\n",
        "\n",
        "# Call the function with an argument 'Ali'\n",
        "# This overrides the default value \"Abdullah\"\n",
        "greet('Ali')\n",
        "\n",
        "# Call the function without providing any argument\n",
        "# This uses the default value \"Abdullah\"\n",
        "greet()\n"
      ],
      "metadata": {
        "colab": {
          "base_uri": "https://localhost:8080/"
        },
        "id": "lsPgNl9KPjPU",
        "outputId": "e87b98bb-28b9-42bb-f31e-d76535ba54d5"
      },
      "execution_count": 10,
      "outputs": [
        {
          "output_type": "stream",
          "name": "stdout",
          "text": [
            "hi, Ali\n",
            "hi, Abdullah\n"
          ]
        }
      ]
    },
    {
      "cell_type": "markdown",
      "source": [
        "multiple length arguments"
      ],
      "metadata": {
        "id": "auC6VVYEnnUc"
      }
    },
    {
      "cell_type": "code",
      "source": [
        "# Define a function named 'new' that can take any number of arguments\n",
        "# The asterisk (*) before 'abc' allows it to accept a variable number of arguments as a tuple\n",
        "def new(*abc):\n",
        "    # Print the entire tuple of arguments\n",
        "    print(abc)\n",
        "\n",
        "    # Print all the arguments separately (unpacked form)\n",
        "    print(*abc)\n",
        "\n",
        "    # Print the sum of the first two elements in the tuple (index 0 and index 1)\n",
        "    print(abc[0] + abc[1])\n",
        "\n",
        "    # Print the tuple repeated 3 times\n",
        "    print(abc * 3)\n",
        "\n",
        "    # Print the data type of 'abc' (it will be a tuple)\n",
        "    print(type(abc))\n",
        "\n",
        "# Call the function with multiple arguments\n",
        "new(2, 3, 4, 2, 43)\n"
      ],
      "metadata": {
        "colab": {
          "base_uri": "https://localhost:8080/"
        },
        "id": "gi0p3ysRP6-H",
        "outputId": "4cbdcbbb-fcea-4440-aaaf-1a5bff6d6e67"
      },
      "execution_count": 15,
      "outputs": [
        {
          "output_type": "stream",
          "name": "stdout",
          "text": [
            "(2, 3, 4, 2, 43)\n",
            "2 3 4 2 43\n",
            "5\n",
            "(2, 3, 4, 2, 43, 2, 3, 4, 2, 43, 2, 3, 4, 2, 43)\n",
            "<class 'tuple'>\n"
          ]
        }
      ]
    },
    {
      "cell_type": "code",
      "source": [
        "# Assign multiple values to variable 'a' separated by commas\n",
        "a = 9, 4, 'a'\n",
        "\n",
        "# Print the value of 'a'\n",
        "print(a)\n",
        "\n",
        "# Print the data type of 'a'\n",
        "print(type(a))\n"
      ],
      "metadata": {
        "colab": {
          "base_uri": "https://localhost:8080/"
        },
        "id": "RnOYDVS7REqN",
        "outputId": "000703b0-509a-489b-96b8-3f19911110a4"
      },
      "execution_count": 18,
      "outputs": [
        {
          "output_type": "stream",
          "name": "stdout",
          "text": [
            "(9, 4, 'a')\n",
            "<class 'tuple'>\n"
          ]
        }
      ]
    },
    {
      "cell_type": "code",
      "source": [
        "# Create a tuple containing a single element 'a'\n",
        "a = ('a',)\n",
        "\n",
        "# Print the data type of 'a'\n",
        "print(type(a))\n"
      ],
      "metadata": {
        "colab": {
          "base_uri": "https://localhost:8080/"
        },
        "id": "dooiQ4IMSBMO",
        "outputId": "9e8c8e02-ef45-48a9-a3c6-02ab62a32192"
      },
      "execution_count": 19,
      "outputs": [
        {
          "output_type": "stream",
          "name": "stdout",
          "text": [
            "<class 'tuple'>\n"
          ]
        }
      ]
    },
    {
      "cell_type": "markdown",
      "source": [
        "lambda funtions"
      ],
      "metadata": {
        "id": "U4bOuBZcoGaI"
      }
    },
    {
      "cell_type": "code",
      "source": [
        "# Define a lambda (anonymous) function that takes one argument 'x'\n",
        "# and returns the square of that number (x**2)\n",
        "square = lambda x: x ** 2\n",
        "\n",
        "# Call the lambda function with argument 5 and print the result\n",
        "print(square(5))\n"
      ],
      "metadata": {
        "colab": {
          "base_uri": "https://localhost:8080/"
        },
        "id": "AG0L6i2NTu2G",
        "outputId": "af886f95-284b-417e-c902-699855f7b455"
      },
      "execution_count": 20,
      "outputs": [
        {
          "output_type": "stream",
          "name": "stdout",
          "text": [
            "25\n"
          ]
        }
      ]
    },
    {
      "cell_type": "code",
      "source": [
        "# Define a function named 'sq' that takes one parameter 'x'\n",
        "def sq(x):\n",
        "    # Return the square of the given number (x raised to the power of 2)\n",
        "    return x ** 2\n",
        "\n",
        "# Call the function with argument 4\n",
        "sq(4)\n"
      ],
      "metadata": {
        "colab": {
          "base_uri": "https://localhost:8080/"
        },
        "id": "mEoNvLXYUtXj",
        "outputId": "c0693292-79e7-465e-dfd3-b2aca3353890"
      },
      "execution_count": 21,
      "outputs": [
        {
          "output_type": "execute_result",
          "data": {
            "text/plain": [
              "16"
            ]
          },
          "metadata": {},
          "execution_count": 21
        }
      ]
    },
    {
      "cell_type": "code",
      "source": [
        "# Define a lambda (anonymous) function that takes two parameters 'a' and 'b'\n",
        "# and returns their sum\n",
        "sum = lambda a, b: a + b\n",
        "\n",
        "# Call the lambda function with arguments 7 and 8, and print the result\n",
        "print(sum(7, 8))\n"
      ],
      "metadata": {
        "colab": {
          "base_uri": "https://localhost:8080/"
        },
        "id": "tXLXp865U1I7",
        "outputId": "1c5b607c-708e-4538-e821-8e234a093595"
      },
      "execution_count": 22,
      "outputs": [
        {
          "output_type": "stream",
          "name": "stdout",
          "text": [
            "15\n"
          ]
        }
      ]
    },
    {
      "cell_type": "code",
      "source": [
        "# Define a lambda function named 'new' that takes any number of arguments (*a)\n",
        "# and returns the sum of all of them using Python's built-in sum() function\n",
        "new = lambda *a: len(a)\n",
        "\n",
        "# Call the lambda function with two numbers (6 and 7) and print the result\n",
        "print(new(6, 7))\n"
      ],
      "metadata": {
        "colab": {
          "base_uri": "https://localhost:8080/"
        },
        "id": "j_lBtPRNVzUN",
        "outputId": "c3507b83-0005-4146-c9d7-11b1db899268"
      },
      "execution_count": 25,
      "outputs": [
        {
          "output_type": "stream",
          "name": "stdout",
          "text": [
            "2\n"
          ]
        }
      ]
    },
    {
      "cell_type": "code",
      "source": [],
      "metadata": {
        "id": "nL5x6UxYXm4T"
      },
      "execution_count": null,
      "outputs": []
    }
  ]
}