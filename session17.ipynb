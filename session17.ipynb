{
  "nbformat": 4,
  "nbformat_minor": 0,
  "metadata": {
    "colab": {
      "provenance": [],
      "authorship_tag": "ABX9TyPqsFYxVNWl/Cw5oIvF1vjz",
      "include_colab_link": true
    },
    "kernelspec": {
      "name": "python3",
      "display_name": "Python 3"
    },
    "language_info": {
      "name": "python"
    }
  },
  "cells": [
    {
      "cell_type": "markdown",
      "metadata": {
        "id": "view-in-github",
        "colab_type": "text"
      },
      "source": [
        "<a href=\"https://colab.research.google.com/github/hamza0972/Python-course-Volunteer/blob/main/session17.ipynb\" target=\"_parent\"><img src=\"https://colab.research.google.com/assets/colab-badge.svg\" alt=\"Open In Colab\"/></a>"
      ]
    },
    {
      "cell_type": "markdown",
      "source": [
        "#Assignment 04"
      ],
      "metadata": {
        "id": "wZjSeQZlhFHO"
      }
    },
    {
      "cell_type": "markdown",
      "source": [
        "Take a string from the user as input and check whether the string is pallindrome or not. Don't use slice operator."
      ],
      "metadata": {
        "id": "Z9nlo4KBhJLg"
      }
    },
    {
      "cell_type": "code",
      "source": [
        "st=input(\"enter a string \")\n",
        "\n",
        "rev=\"\"\n",
        "\n",
        "for i in st:\n",
        "  # print(i)\n",
        "  rev=i+rev\n",
        "# print(rev)\n",
        "\n",
        "if rev==st:\n",
        "  print('the string is pallindrome')\n",
        "else:\n",
        "  print('the string is not pallindrome')"
      ],
      "metadata": {
        "colab": {
          "base_uri": "https://localhost:8080/"
        },
        "id": "6EB-AyeaHTj6",
        "outputId": "d1e60a22-5e27-4731-b369-804537bf698a"
      },
      "execution_count": null,
      "outputs": [
        {
          "output_type": "stream",
          "name": "stdout",
          "text": [
            "enter a string level\n",
            "the string is pallindrome\n"
          ]
        }
      ]
    },
    {
      "cell_type": "markdown",
      "source": [
        "Take a string from the user as input and remove the dublicates characters(e.g: programming -> progamin)"
      ],
      "metadata": {
        "id": "kBGlVay3hUEU"
      }
    },
    {
      "cell_type": "code",
      "source": [
        "st=input('enter a string ')\n",
        "res=\"\"\n",
        "for i in st:\n",
        "  if i not in res:\n",
        "    res=res+i\n",
        "print(res)\n",
        "\n"
      ],
      "metadata": {
        "colab": {
          "base_uri": "https://localhost:8080/"
        },
        "id": "htygzTkly3P2",
        "outputId": "f3f02df4-c062-4d45-cb33-b5425b695141"
      },
      "execution_count": null,
      "outputs": [
        {
          "output_type": "stream",
          "name": "stdout",
          "text": [
            "enter a string programming\n",
            "progamin\n"
          ]
        }
      ]
    },
    {
      "cell_type": "markdown",
      "source": [
        "Take a string from the user as input and count how many times each character appear in a string."
      ],
      "metadata": {
        "id": "S7qVSsQUhYH8"
      }
    },
    {
      "cell_type": "code",
      "source": [
        "st=input('enter a string ')\n",
        "res=\"\"\n",
        "\n",
        "\n",
        "for i in st:\n",
        "  if i not in res:\n",
        "    res=res+i\n",
        "# print(res)\n",
        "\n",
        "for i in res:\n",
        "  print(f\"{i} appears {st.count(i)}\")"
      ],
      "metadata": {
        "colab": {
          "base_uri": "https://localhost:8080/"
        },
        "id": "O329AxOF0i24",
        "outputId": "5a46ac52-ed6c-402c-9702-36028297c061"
      },
      "execution_count": null,
      "outputs": [
        {
          "output_type": "stream",
          "name": "stdout",
          "text": [
            "enter a string programming\n",
            "p appears 1\n",
            "r appears 2\n",
            "o appears 1\n",
            "g appears 2\n",
            "a appears 1\n",
            "m appears 2\n",
            "i appears 1\n",
            "n appears 1\n"
          ]
        }
      ]
    },
    {
      "cell_type": "markdown",
      "source": [
        "Take a string from the user (e.g: 1234#programming 4) and print the first repeated alphabet."
      ],
      "metadata": {
        "id": "-l2kWCbAhb3R"
      }
    },
    {
      "cell_type": "code",
      "source": [
        "st=\"1234#pr3ogramming 4\"\n",
        "\n",
        "new=\"\"\n",
        "\n",
        "for i in st:\n",
        "  if i.isalpha():\n",
        "    new=new+i\n",
        "# print(new)\n",
        "\n",
        "\n",
        "for i in new:\n",
        "  if new.count(i)>1:\n",
        "    print(\"The first repeated alphabet is: \",i)\n",
        "    break\n",
        "\n"
      ],
      "metadata": {
        "colab": {
          "base_uri": "https://localhost:8080/"
        },
        "id": "sTyUh9Qc1LdP",
        "outputId": "1d148271-b464-4110-df04-039acdbfa5a4"
      },
      "execution_count": 2,
      "outputs": [
        {
          "output_type": "stream",
          "name": "stdout",
          "text": [
            "The first repeated alphabet is:  r\n"
          ]
        }
      ]
    },
    {
      "cell_type": "markdown",
      "source": [
        "Take a string from the user as input (e.g: Candle) then print the series like:\n",
        "\n",
        "c\n",
        "\n",
        "ca ca\n",
        "\n",
        "can can can\n",
        "\n",
        "cand cand cand cand\n",
        "\n",
        "candl candl candl candl candl\n",
        "\n",
        "candle candle candle candle candle candle\n"
      ],
      "metadata": {
        "id": "JOAqq4QDhux3"
      }
    },
    {
      "cell_type": "code",
      "source": [
        "st=\"candle\"\n",
        "res=\"\"\n",
        "\n",
        "for i in range(len(st)):\n",
        "  res=res+st[i]\n",
        "  print((res+\" \")*(i+1))"
      ],
      "metadata": {
        "colab": {
          "base_uri": "https://localhost:8080/"
        },
        "id": "0mfsEmzT21Vp",
        "outputId": "778db671-2a37-4241-ac16-232ede8bd77f"
      },
      "execution_count": null,
      "outputs": [
        {
          "output_type": "stream",
          "name": "stdout",
          "text": [
            "c \n",
            "ca ca \n",
            "can can can \n",
            "cand cand cand cand \n",
            "candl candl candl candl candl \n",
            "candle candle candle candle candle candle \n"
          ]
        }
      ]
    },
    {
      "cell_type": "markdown",
      "source": [
        "List Comprehension if/else"
      ],
      "metadata": {
        "id": "_h_6XZdWiF0n"
      }
    },
    {
      "cell_type": "code",
      "source": [
        "l1 = [1,2,3,4,5,6,7,8,9,10]\n",
        "\n",
        "# List comprehension with if/else\n",
        "# For each number x in l1 → check if it is even or odd\n",
        "# If even → store \"even\", otherwise store \"odd\"\n",
        "new = ['even' if x % 2 == 0 else 'odd' for x in l1]\n",
        "\n",
        "# Same logic but directly using range(1,11) instead of predefined list\n",
        "# This generates numbers from 1 to 10 and labels them \"even\"/\"odd\"\n",
        "new = ['even' if x % 2 == 0 else 'odd' for x in range(1, 11)]\n",
        "\n",
        "print(new)   # Final list will be: ['odd', 'even', 'odd', 'even', 'odd', 'even', 'odd', 'even', 'odd', 'even']\n"
      ],
      "metadata": {
        "colab": {
          "base_uri": "https://localhost:8080/"
        },
        "id": "07ZOqbwl3q3W",
        "outputId": "d60be0d5-80bf-4c83-c636-7f3e4fa2fc7d"
      },
      "execution_count": null,
      "outputs": [
        {
          "output_type": "stream",
          "name": "stdout",
          "text": [
            "['odd', 'even', 'odd', 'even', 'odd', 'even', 'odd', 'even', 'odd', 'even']\n"
          ]
        }
      ]
    },
    {
      "cell_type": "markdown",
      "source": [
        "nested list"
      ],
      "metadata": {
        "id": "nC2ipqetiUO_"
      }
    },
    {
      "cell_type": "code",
      "source": [
        "list1 = [[11, 22], [23, 34, 23], [45, 23, 23], [34]]   # A nested list (list of lists)\n",
        "\n",
        "# Outer loop → goes through each sublist in list1\n",
        "for i in list1:\n",
        "    # Inner loop → goes through each element inside the current sublist\n",
        "    for j in i:\n",
        "        print(j)   # Print each element individually\n"
      ],
      "metadata": {
        "colab": {
          "base_uri": "https://localhost:8080/"
        },
        "id": "uPzJZ27M5ort",
        "outputId": "b0ba581a-e4c1-4447-94e9-b1dbfbc7256a"
      },
      "execution_count": 3,
      "outputs": [
        {
          "output_type": "stream",
          "name": "stdout",
          "text": [
            "11\n",
            "22\n",
            "23\n",
            "34\n",
            "23\n",
            "45\n",
            "23\n",
            "23\n",
            "34\n"
          ]
        }
      ]
    },
    {
      "cell_type": "markdown",
      "source": [
        "2D List"
      ],
      "metadata": {
        "id": "f-AjmMkBiXGX"
      }
    },
    {
      "cell_type": "code",
      "source": [
        "new = [\n",
        "    [3, 4, 5],      # Row 0\n",
        "    [8, 34, 3],     # Row 1\n",
        "    [3, 4, 3]       # Row 2\n",
        "]\n",
        "\n",
        "print(new)         # Prints the entire 2D list\n",
        "print(new[2])      # Prints the 3rd row → [3, 4, 3]\n",
        "print(new[2][2])   # Prints element at row 2, column 2 → 3\n",
        "print(new[1][2])   # Prints element at row 1, column 2 → 3\n",
        "\n",
        "print('....................')\n",
        "# Nested loop to print each element\n",
        "for row in new:\n",
        "    for value in row:\n",
        "        print(value)\n",
        "\n",
        "print(len(new))    # Number of rows → 3\n",
        "\n"
      ],
      "metadata": {
        "colab": {
          "base_uri": "https://localhost:8080/"
        },
        "id": "zTQnn7ML7KTv",
        "outputId": "1490e404-32bb-4e04-aea2-a053387cca60"
      },
      "execution_count": 5,
      "outputs": [
        {
          "output_type": "stream",
          "name": "stdout",
          "text": [
            "[[3, 4, 5], [8, 34, 3], [3, 4, 3]]\n",
            "[3, 4, 3]\n",
            "3\n",
            "3\n",
            "....................\n",
            "3\n",
            "4\n",
            "5\n",
            "8\n",
            "34\n",
            "3\n",
            "3\n",
            "4\n",
            "3\n",
            "3\n"
          ]
        }
      ]
    },
    {
      "cell_type": "code",
      "source": [
        "# Updating a value in the 2D list\n",
        "\n",
        "new = [\n",
        "    [17, 34, 50],      # Row 0\n",
        "    [8, 4, 3],         # Row 1\n",
        "    [3, 40, 31]        # Row 2\n",
        "]\n",
        "new[2][0] = \"H\"      # Changes element at row 2, column 0 from 3 → \"H\"\n",
        "print(new)           # [[3, 4, 5], [8, 34, 3], ['H', 4, 3]]\n"
      ],
      "metadata": {
        "colab": {
          "base_uri": "https://localhost:8080/"
        },
        "id": "9Uv8cYkQjDeE",
        "outputId": "a69e66ef-cc9d-4aae-eb36-ccb02ced9fcc"
      },
      "execution_count": 8,
      "outputs": [
        {
          "output_type": "stream",
          "name": "stdout",
          "text": [
            "[[17, 34, 50], [8, 4, 3], ['H', 40, 31]]\n"
          ]
        }
      ]
    },
    {
      "cell_type": "code",
      "source": [
        "new = [\n",
        "    [[51, 22],\n",
        "     [45, 43]],   # Matrix 0\n",
        "\n",
        "\n",
        "    [[243, 45],\n",
        "     [34, 24]]   # Matrix 1\n",
        "]\n",
        "\n",
        "print(new)          # Prints the whole 3D list\n",
        "print(len(new))     # Number of matrices → 2\n",
        "\n",
        "print('......................')\n",
        "\n",
        "print(new[1][0][1])   # Access element:\n",
        "  # new[1]   → 2nd matrix → [[243, 45], [34, 24]]\n",
        "  # new[1][0] → 1st row of 2nd matrix → [243, 45]\n",
        "  # new[1][0][1] → 2nd element of that row → 45\n",
        "\n",
        "# Nested loops to print all values\n",
        "for mat in new:            # Iterates over each matrix\n",
        "    for row in mat:        # Iterates over each row in the matrix\n",
        "        for value in row:  # Iterates over each element in the row\n",
        "            print(value, end=',')  # Print elements separated by commas\n"
      ],
      "metadata": {
        "colab": {
          "base_uri": "https://localhost:8080/"
        },
        "id": "eKsKzzT-9rMa",
        "outputId": "d4ba3acf-7381-41f2-e61f-c1b71d175c62"
      },
      "execution_count": 12,
      "outputs": [
        {
          "output_type": "stream",
          "name": "stdout",
          "text": [
            "[[[51, 22], [45, 43]], [[243, 45], [34, 24]]]\n",
            "2\n",
            "......................\n",
            "45\n",
            "51,22,45,43,243,45,34,24,"
          ]
        }
      ]
    },
    {
      "cell_type": "code",
      "source": [],
      "metadata": {
        "id": "TadJJ7bA_bbM"
      },
      "execution_count": null,
      "outputs": []
    }
  ]
}