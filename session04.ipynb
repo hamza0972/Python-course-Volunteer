{
  "nbformat": 4,
  "nbformat_minor": 0,
  "metadata": {
    "colab": {
      "provenance": [],
      "authorship_tag": "ABX9TyMyrKwcQL/LrS4b1YdOSN3K",
      "include_colab_link": true
    },
    "kernelspec": {
      "name": "python3",
      "display_name": "Python 3"
    },
    "language_info": {
      "name": "python"
    }
  },
  "cells": [
    {
      "cell_type": "markdown",
      "metadata": {
        "id": "view-in-github",
        "colab_type": "text"
      },
      "source": [
        "<a href=\"https://colab.research.google.com/github/hamza0972/Python-course-Volunteer/blob/main/session04.ipynb\" target=\"_parent\"><img src=\"https://colab.research.google.com/assets/colab-badge.svg\" alt=\"Open In Colab\"/></a>"
      ]
    },
    {
      "cell_type": "markdown",
      "source": [
        "string data type"
      ],
      "metadata": {
        "id": "tvhJqK3Ng1Ad"
      }
    },
    {
      "cell_type": "code",
      "execution_count": null,
      "metadata": {
        "colab": {
          "base_uri": "https://localhost:8080/"
        },
        "id": "g010d973jpdo",
        "outputId": "e5409219-5269-4356-ccb5-eecb859aadc1"
      },
      "outputs": [
        {
          "output_type": "stream",
          "name": "stdout",
          "text": [
            "Hamza has the data type <class 'str'>\n"
          ]
        }
      ],
      "source": [
        "name=\"Hamza\"\n",
        "# print(name)\n",
        "print(name, \"has the data type\", type(name))\n"
      ]
    },
    {
      "cell_type": "markdown",
      "source": [
        "for multiple data"
      ],
      "metadata": {
        "id": "4n4kWoeGhKJY"
      }
    },
    {
      "cell_type": "code",
      "source": [
        "students=\"rida\", \"easha\", 'aslam', 23    # automatically create tuple\n",
        "marks=23,45,23                           # automatically create tuple\n",
        "print(students)\n",
        "print(type(students))\n",
        "\n",
        "new=[23,\"ali\"]  # list"
      ],
      "metadata": {
        "colab": {
          "base_uri": "https://localhost:8080/"
        },
        "id": "ub0S3Rw7kzii",
        "outputId": "5817a894-bde3-4201-bf63-4dca373ecb0f"
      },
      "execution_count": null,
      "outputs": [
        {
          "output_type": "stream",
          "name": "stdout",
          "text": [
            "('rida', 'easha', 'aslam', 23)\n",
            "<class 'tuple'>\n"
          ]
        }
      ]
    },
    {
      "cell_type": "code",
      "source": [
        "# for multiple data we can use:\n",
        "# list\n",
        "# tuple\n",
        "# dict\n",
        "# set"
      ],
      "metadata": {
        "id": "dYLPEPMP86f8"
      },
      "execution_count": null,
      "outputs": []
    },
    {
      "cell_type": "markdown",
      "source": [
        "boolean data type"
      ],
      "metadata": {
        "id": "3m6S0PmvhTln"
      }
    },
    {
      "cell_type": "code",
      "source": [
        "print(type(True))     # => 1\n",
        "print(type(False))  # => 0"
      ],
      "metadata": {
        "colab": {
          "base_uri": "https://localhost:8080/"
        },
        "id": "bnPdDVeL_CDz",
        "outputId": "e927ce4c-2452-4113-8393-caed1a378e74"
      },
      "execution_count": null,
      "outputs": [
        {
          "output_type": "stream",
          "name": "stdout",
          "text": [
            "<class 'bool'>\n",
            "<class 'bool'>\n"
          ]
        }
      ]
    },
    {
      "cell_type": "markdown",
      "source": [
        "int + int"
      ],
      "metadata": {
        "id": "pVXxQzsNgcjt"
      }
    },
    {
      "cell_type": "code",
      "source": [
        "num1=90\n",
        "num2=80\n",
        "print(num1+num2)\n",
        "# return the sum"
      ],
      "metadata": {
        "colab": {
          "base_uri": "https://localhost:8080/"
        },
        "id": "3ku-ps8HA69Q",
        "outputId": "97c95d2a-f2d4-411e-99cc-a700044e2578"
      },
      "execution_count": null,
      "outputs": [
        {
          "output_type": "stream",
          "name": "stdout",
          "text": [
            "170\n"
          ]
        }
      ]
    },
    {
      "cell_type": "markdown",
      "source": [
        "string + int"
      ],
      "metadata": {
        "id": "sIlVTYH-gTU2"
      }
    },
    {
      "cell_type": "code",
      "source": [
        "# num=90\n",
        "# st=\"book\"\n",
        "# print(num+st)\n",
        "# it return error bcz we cannot add int and string"
      ],
      "metadata": {
        "id": "6vrSxF_xA_QJ"
      },
      "execution_count": null,
      "outputs": []
    },
    {
      "cell_type": "markdown",
      "source": [
        "type casting explicit"
      ],
      "metadata": {
        "id": "fGLl2-7jf0Ba"
      }
    },
    {
      "cell_type": "code",
      "source": [
        "# declare variables\n",
        "a=\"12\"\n",
        "b=34\n",
        "\n",
        "# print(a+b)   it return error bcz we cannot add int and string\n",
        "\n",
        "# type casting\n",
        "new=int(a)\n",
        "\n",
        "# use + operator\n",
        "print(type(new))\n",
        "\n",
        "print(new+b)"
      ],
      "metadata": {
        "colab": {
          "base_uri": "https://localhost:8080/"
        },
        "id": "DV0THJbZBNiN",
        "outputId": "fc09d018-134f-458e-89bb-44f309d7b382"
      },
      "execution_count": null,
      "outputs": [
        {
          "output_type": "stream",
          "name": "stdout",
          "text": [
            "<class 'int'>\n",
            "46\n"
          ]
        }
      ]
    },
    {
      "cell_type": "markdown",
      "source": [
        "other method"
      ],
      "metadata": {
        "id": "EqkBBl4Jf3o2"
      }
    },
    {
      "cell_type": "code",
      "source": [
        "# declare variables\n",
        "a=\"12\"\n",
        "b=34\n",
        "\n",
        "# print(a+b)   it return error bcz we cannot add int and string\n",
        "\n",
        "# type casting\n",
        "\n",
        "# use + operator\n",
        "res=int(a)+b\n",
        "print(res)\n",
        "print(type(res))"
      ],
      "metadata": {
        "colab": {
          "base_uri": "https://localhost:8080/"
        },
        "id": "VBdNXnUWf6rS",
        "outputId": "e3fb7540-d40c-42d2-d548-fc184d9ebdbc"
      },
      "execution_count": null,
      "outputs": [
        {
          "output_type": "stream",
          "name": "stdout",
          "text": [
            "46\n",
            "<class 'int'>\n"
          ]
        }
      ]
    },
    {
      "cell_type": "markdown",
      "source": [
        "string + string"
      ],
      "metadata": {
        "id": "aMcSODP4fWxF"
      }
    },
    {
      "cell_type": "code",
      "source": [
        "first_name=\"Muhammad\"\n",
        "last_name=\"Hamza\"\n",
        "print(first_name+last_name)\n",
        "\n",
        "# it has combined the both strings"
      ],
      "metadata": {
        "colab": {
          "base_uri": "https://localhost:8080/"
        },
        "id": "0RxniNkCBiUg",
        "outputId": "5b615596-b91c-42ed-fc10-6a43f643543b"
      },
      "execution_count": null,
      "outputs": [
        {
          "output_type": "stream",
          "name": "stdout",
          "text": [
            "MuhammadHamza\n"
          ]
        }
      ]
    },
    {
      "cell_type": "markdown",
      "source": [
        "string + string"
      ],
      "metadata": {
        "id": "1MeKcHeafQzy"
      }
    },
    {
      "cell_type": "code",
      "source": [
        "num1=\"34\"\n",
        "num2=\"0\"\n",
        "print(num1+num2)\n",
        "\n",
        "# it has combined the both strings"
      ],
      "metadata": {
        "colab": {
          "base_uri": "https://localhost:8080/"
        },
        "id": "kKRKDrd2DQaf",
        "outputId": "61366ffb-a69a-499b-a751-d66f15d7a744"
      },
      "execution_count": null,
      "outputs": [
        {
          "output_type": "stream",
          "name": "stdout",
          "text": [
            "340\n"
          ]
        }
      ]
    },
    {
      "cell_type": "markdown",
      "source": [
        "implicit type casting"
      ],
      "metadata": {
        "id": "8HG00-fyfN6T"
      }
    },
    {
      "cell_type": "code",
      "source": [
        "com=7+8j\n",
        "num=90\n",
        "print(com+num)\n",
        "print(type(com+num))\n",
        "\n",
        "# here python automatically add int, complex and return a complex. You not need to change the data type"
      ],
      "metadata": {
        "colab": {
          "base_uri": "https://localhost:8080/"
        },
        "id": "RyNX9__BDW49",
        "outputId": "038b82a8-8bd7-4f30-9c3e-ab7d94f65ecb"
      },
      "execution_count": null,
      "outputs": [
        {
          "output_type": "stream",
          "name": "stdout",
          "text": [
            "(97+8j)\n",
            "<class 'complex'>\n"
          ]
        }
      ]
    },
    {
      "cell_type": "markdown",
      "source": [
        "implicit type casting"
      ],
      "metadata": {
        "id": "pH7SSdstej_y"
      }
    },
    {
      "cell_type": "code",
      "source": [
        "integer=90\n",
        "fl=8.78\n",
        "print(integer+fl)\n",
        "print(type(integer+fl))\n",
        "\n",
        "# here python automatically add int, float and return a float. You not need to change the data type"
      ],
      "metadata": {
        "colab": {
          "base_uri": "https://localhost:8080/"
        },
        "id": "zXbwGY5FD1xK",
        "outputId": "4064f426-7c4e-434c-c95f-c5f3aa047542"
      },
      "execution_count": null,
      "outputs": [
        {
          "output_type": "stream",
          "name": "stdout",
          "text": [
            "98.78\n",
            "<class 'float'>\n"
          ]
        }
      ]
    },
    {
      "cell_type": "code",
      "source": [
        "# boolean consist of 2 keywords:\n",
        "# True  => 1\n",
        "# False  =>0"
      ],
      "metadata": {
        "id": "kEfKQRjDFztS"
      },
      "execution_count": null,
      "outputs": []
    },
    {
      "cell_type": "code",
      "source": [
        "res=False\n",
        "int_res=int(res)\n",
        "print(int_res)\n",
        "print(type(int_res))\n",
        "\n"
      ],
      "metadata": {
        "colab": {
          "base_uri": "https://localhost:8080/"
        },
        "id": "1DzSZ4MvGcyS",
        "outputId": "48931a12-9c84-4558-cbc4-8d0e733abb34"
      },
      "execution_count": null,
      "outputs": [
        {
          "output_type": "stream",
          "name": "stdout",
          "text": [
            "0\n",
            "<class 'int'>\n"
          ]
        }
      ]
    },
    {
      "cell_type": "markdown",
      "source": [
        "int + string"
      ],
      "metadata": {
        "id": "FfAF828qeN0z"
      }
    },
    {
      "cell_type": "code",
      "source": [
        "# res=\"True\"\n",
        "# int_res=int(res)\n",
        "# print(int_res)\n",
        "# print(type(int_res))\n",
        "\n",
        "# It show error bcz we cannot add int and string"
      ],
      "metadata": {
        "id": "tWMReXIreDPX"
      },
      "execution_count": null,
      "outputs": []
    },
    {
      "cell_type": "markdown",
      "source": [
        "boolean + boolean"
      ],
      "metadata": {
        "id": "eaF1KfSOeY9r"
      }
    },
    {
      "cell_type": "code",
      "source": [
        "res=(True+False)\n",
        "print(res)\n",
        "print(type(res))\n",
        "print(bool(res))\n",
        "# print(True + True)"
      ],
      "metadata": {
        "colab": {
          "base_uri": "https://localhost:8080/"
        },
        "id": "iCKXwkfUGegw",
        "outputId": "498d1fdc-eac6-4e81-9d43-15f56abc1057"
      },
      "execution_count": null,
      "outputs": [
        {
          "output_type": "stream",
          "name": "stdout",
          "text": [
            "1\n",
            "<class 'int'>\n",
            "True\n",
            "2\n"
          ]
        }
      ]
    },
    {
      "cell_type": "code",
      "source": [
        "print(True+10)"
      ],
      "metadata": {
        "colab": {
          "base_uri": "https://localhost:8080/"
        },
        "id": "MuUmTFGDG3ir",
        "outputId": "772a76cb-3b0b-4267-ad40-f5f6f0c172f9"
      },
      "execution_count": null,
      "outputs": [
        {
          "output_type": "stream",
          "name": "stdout",
          "text": [
            "11\n"
          ]
        }
      ]
    },
    {
      "cell_type": "markdown",
      "source": [
        "use of id"
      ],
      "metadata": {
        "id": "pNsixkylcSgs"
      }
    },
    {
      "cell_type": "code",
      "source": [
        "name=3847389\n",
        "print(id(name))\n",
        "# id() returns the unique identifier of the object (in CPython, it's the memory address)"
      ],
      "metadata": {
        "colab": {
          "base_uri": "https://localhost:8080/"
        },
        "id": "5Eb_Rv5dHT31",
        "outputId": "e9e0831d-3324-4e70-ae67-306b3270f03a"
      },
      "execution_count": null,
      "outputs": [
        {
          "output_type": "stream",
          "name": "stdout",
          "text": [
            "132260824349360\n"
          ]
        }
      ]
    },
    {
      "cell_type": "markdown",
      "source": [
        "convert boolean to string"
      ],
      "metadata": {
        "id": "Yjc50klHdPme"
      }
    },
    {
      "cell_type": "code",
      "source": [
        "res=True\n",
        "new=(str(res))\n",
        "# print(type(new))\n",
        "print(\"The result is\", new)"
      ],
      "metadata": {
        "colab": {
          "base_uri": "https://localhost:8080/"
        },
        "id": "HBexMgVqHmiY",
        "outputId": "d5ab39d9-b980-4baa-d965-7ff62ee20f0f"
      },
      "execution_count": null,
      "outputs": [
        {
          "output_type": "stream",
          "name": "stdout",
          "text": [
            "The result is True\n"
          ]
        }
      ]
    }
  ]
}