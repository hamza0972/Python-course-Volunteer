{
  "nbformat": 4,
  "nbformat_minor": 0,
  "metadata": {
    "colab": {
      "provenance": [],
      "authorship_tag": "ABX9TyMUY0G6JtX21w+5+iNxqc4O",
      "include_colab_link": true
    },
    "kernelspec": {
      "name": "python3",
      "display_name": "Python 3"
    },
    "language_info": {
      "name": "python"
    }
  },
  "cells": [
    {
      "cell_type": "markdown",
      "metadata": {
        "id": "view-in-github",
        "colab_type": "text"
      },
      "source": [
        "<a href=\"https://colab.research.google.com/github/hamza0972/Python-course-Volunteer/blob/main/session09.ipynb\" target=\"_parent\"><img src=\"https://colab.research.google.com/assets/colab-badge.svg\" alt=\"Open In Colab\"/></a>"
      ]
    },
    {
      "cell_type": "code",
      "execution_count": null,
      "metadata": {
        "colab": {
          "base_uri": "https://localhost:8080/"
        },
        "id": "-zAHX0vnks6n",
        "outputId": "fe99673a-cc65-4264-88ca-fa5beb88ab32"
      },
      "outputs": [
        {
          "output_type": "stream",
          "name": "stdout",
          "text": [
            "Welcome to the world of Python programming!\n",
            "\n",
            "Enter your name: Hamza\n",
            "Enter your math marks: 90\n",
            "Enter your computer marks: 99\n",
            "Enter your physics marks: 89\n",
            "Student is :  Hamza\n",
            "Math marks are:  90\n",
            "Physics marks are:  89\n",
            "Cimputer marks are:  99\n",
            "Average marks are: 92\n",
            "Grade is : A\n"
          ]
        }
      ],
      "source": [
        "print(\"Welcome to the world of Python programming!\\n\")\n",
        "\n",
        "# Take input name and marks from the user\n",
        "student_name = input(\"Enter your name: \")\n",
        "math = int(input(\"Enter your math marks: \"))\n",
        "computer = int(input(\"Enter your computer marks: \"))\n",
        "physics = int(input(\"Enter your physics marks: \"))\n",
        "\n",
        "# display\n",
        "print(\"Student is : \", student_name)\n",
        "print(\"Math marks are: \", math)\n",
        "print(\"Physics marks are: \", physics)\n",
        "print(\"Cimputer marks are: \", computer)\n",
        "\n",
        "# find obtained and average marks\n",
        "obtained_marks = math + physics + computer\n",
        "average_marks = (math + physics + computer) // 3 #float division\n",
        "\n",
        "print(f\"Average marks are: {average_marks}\")\n",
        "\n",
        "# assign grades according to average\n",
        "if (average_marks >= 80):\n",
        "  grade = \"A\"\n",
        "\n",
        "elif (average_marks >= 60 and average_marks < 80):\n",
        "  grade = \"B\"\n",
        "\n",
        "elif (average_marks >= 40 and average_marks < 60):\n",
        "  grade = \"C\"\n",
        "\n",
        "else:\n",
        "  grade=\"F\"\n",
        "\n",
        "#print grade\n",
        "print(f\"Grade is : {grade}\")"
      ]
    },
    {
      "cell_type": "code",
      "source": [],
      "metadata": {
        "id": "1jgFskUolKtk"
      },
      "execution_count": null,
      "outputs": []
    }
  ]
}