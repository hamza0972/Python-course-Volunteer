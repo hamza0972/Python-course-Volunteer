{
  "nbformat": 4,
  "nbformat_minor": 0,
  "metadata": {
    "colab": {
      "provenance": [],
      "authorship_tag": "ABX9TyOzTIGaPfRXCZi1T5WC1mSd",
      "include_colab_link": true
    },
    "kernelspec": {
      "name": "python3",
      "display_name": "Python 3"
    },
    "language_info": {
      "name": "python"
    }
  },
  "cells": [
    {
      "cell_type": "markdown",
      "metadata": {
        "id": "view-in-github",
        "colab_type": "text"
      },
      "source": [
        "<a href=\"https://colab.research.google.com/github/hamza0972/Python-course-Volunteer/blob/main/session15.ipynb\" target=\"_parent\"><img src=\"https://colab.research.google.com/assets/colab-badge.svg\" alt=\"Open In Colab\"/></a>"
      ]
    },
    {
      "cell_type": "markdown",
      "source": [
        "#List"
      ],
      "metadata": {
        "id": "7WGnqTBXcl2S"
      }
    },
    {
      "cell_type": "markdown",
      "source": [
        "elements of list"
      ],
      "metadata": {
        "id": "HtxooGUPcoqm"
      }
    },
    {
      "cell_type": "code",
      "source": [
        "new=[34,\"Hamza\",89.90,78+8j,[89,89],True,None]\n",
        "first=(new[1])\n",
        "print(type(first))      # Prints the data type\n",
        "print(first[1])         # Prints the character on the index 1\n",
        "print(new[1][2])        # Prints the third character of the string at index 1 of the list ('Hamza' → 'm')\n",
        "print(type(new[3]))     # Prints the data type of the element at index 3\n",
        "print(type(new))        # Prints the data type of the entire variable 'new' (which is a list)"
      ],
      "metadata": {
        "colab": {
          "base_uri": "https://localhost:8080/"
        },
        "id": "I7WCWI8jIfpd",
        "outputId": "c2de8a2f-aabf-4193-8528-c629fb5d1701"
      },
      "execution_count": 9,
      "outputs": [
        {
          "output_type": "stream",
          "name": "stdout",
          "text": [
            "<class 'str'>\n",
            "a\n",
            "m\n",
            "<class 'complex'>\n",
            "<class 'list'>\n"
          ]
        }
      ]
    },
    {
      "cell_type": "markdown",
      "source": [
        "empty list"
      ],
      "metadata": {
        "id": "9tNd2duseJ-E"
      }
    },
    {
      "cell_type": "code",
      "source": [
        "a=[]               # declare an empty list\n",
        "print(a)\n",
        "b=list()           # declare an empty list\n",
        "print(b)"
      ],
      "metadata": {
        "colab": {
          "base_uri": "https://localhost:8080/"
        },
        "id": "v6GESUXYIfrP",
        "outputId": "d884269c-024d-4d55-c08c-b2308cfe2e2b"
      },
      "execution_count": 10,
      "outputs": [
        {
          "output_type": "stream",
          "name": "stdout",
          "text": [
            "[]\n",
            "[]\n"
          ]
        }
      ]
    },
    {
      "cell_type": "markdown",
      "source": [
        "list is mutable (changable)"
      ],
      "metadata": {
        "id": "Lpp7S7aXecOC"
      }
    },
    {
      "cell_type": "code",
      "source": [
        "names=[\"Ali\",\"Ahmad\",\"Zain\"]\n",
        "names[1]=\"Bilal\"                 # change the element of list on index 1\n",
        "print(names)"
      ],
      "metadata": {
        "id": "EplLxN5rIfum",
        "colab": {
          "base_uri": "https://localhost:8080/"
        },
        "outputId": "028f56a3-5a76-4897-8489-27208d982a12"
      },
      "execution_count": 12,
      "outputs": [
        {
          "output_type": "stream",
          "name": "stdout",
          "text": [
            "['Ali', 'Bilal', 'Zain']\n"
          ]
        }
      ]
    },
    {
      "cell_type": "code",
      "source": [
        "# names=[\"Ali\",\"Ahmad\",\"Zain\"]\n",
        "# print(names[4])\n",
        "\n",
        "\n",
        "# it will return error 'list index out of range'\n",
        "# as we are calling the element out of range of list"
      ],
      "metadata": {
        "id": "5SNq_QMfenLt"
      },
      "execution_count": 14,
      "outputs": []
    },
    {
      "cell_type": "markdown",
      "source": [
        "concatenation"
      ],
      "metadata": {
        "id": "CfepCE5re4hr"
      }
    },
    {
      "cell_type": "code",
      "source": [
        "l1=[23,343,343,23,\"Ali\"]\n",
        "l2=[78,78,\"Ahmad\"]\n",
        "print(l1+l2)                 # Concatenates l1 and l2, returning a new combined list"
      ],
      "metadata": {
        "colab": {
          "base_uri": "https://localhost:8080/"
        },
        "id": "x9606qOxIfwn",
        "outputId": "4c69d124-69d0-4d3d-f3c4-6036ad82d564"
      },
      "execution_count": 16,
      "outputs": [
        {
          "output_type": "stream",
          "name": "stdout",
          "text": [
            "[23, 343, 343, 23, 'Ali', 78, 78, 'Ahmad']\n"
          ]
        }
      ]
    },
    {
      "cell_type": "markdown",
      "source": [
        "Repetition"
      ],
      "metadata": {
        "id": "dfGm7w3ZfOJL"
      }
    },
    {
      "cell_type": "code",
      "source": [
        "l2=[78,78,\"Ahmad\"]\n",
        "l2=l2*3                  # Repeats the list 3 times and assigns it back to l2\n",
        "print(l2)"
      ],
      "metadata": {
        "colab": {
          "base_uri": "https://localhost:8080/"
        },
        "id": "mRg4mDh0e-ni",
        "outputId": "3077a715-011a-4ed9-ef19-7a8c5557d2bd"
      },
      "execution_count": 20,
      "outputs": [
        {
          "output_type": "stream",
          "name": "stdout",
          "text": [
            "[78, 78, 'Ahmad', 78, 78, 'Ahmad', 78, 78, 'Ahmad']\n"
          ]
        }
      ]
    },
    {
      "cell_type": "markdown",
      "source": [
        "Membership operator"
      ],
      "metadata": {
        "id": "43JH9b0-fhnr"
      }
    },
    {
      "cell_type": "code",
      "source": [
        "print(343 in l1)\n",
        "print(560 not in l1)"
      ],
      "metadata": {
        "colab": {
          "base_uri": "https://localhost:8080/"
        },
        "id": "nr63iiFgfVjq",
        "outputId": "e35cf780-f077-4c53-a6cd-fa1e4b81701d"
      },
      "execution_count": 21,
      "outputs": [
        {
          "output_type": "stream",
          "name": "stdout",
          "text": [
            "True\n",
            "True\n"
          ]
        }
      ]
    },
    {
      "cell_type": "markdown",
      "source": [
        "Slice operator"
      ],
      "metadata": {
        "id": "oBBwUnkoflp1"
      }
    },
    {
      "cell_type": "code",
      "source": [
        "l1=[23,343,343,23,\"Ali\"]\n",
        "new=(l1[2:5:2])                    # print the elements from index 2 to 4 with jump of 2\n",
        "print(new)\n",
        "\n",
        "\n",
        "print(l1[::-1])                   # Print all the elements in reverse order\n",
        "print(l1[-4:-2])                  # print the elements from index -4 to -3\n",
        "print(l1[-2:-5:-1])               # print the elements from index -2 to -4 in reverse order"
      ],
      "metadata": {
        "colab": {
          "base_uri": "https://localhost:8080/"
        },
        "id": "SmmtwKsHPwlq",
        "outputId": "8442e7f4-5286-4483-aa00-0de2d21980dc"
      },
      "execution_count": 26,
      "outputs": [
        {
          "output_type": "stream",
          "name": "stdout",
          "text": [
            "[343, 'Ali']\n",
            "['Ali', 23, 343, 343, 23]\n",
            "[343, 343]\n",
            "[23, 343, 343]\n"
          ]
        }
      ]
    },
    {
      "cell_type": "markdown",
      "source": [
        "change multiple elements of list"
      ],
      "metadata": {
        "id": "Csn8mChGgkwC"
      }
    },
    {
      "cell_type": "code",
      "source": [
        "l1=[23,343,343,23,\"Ali\"]\n",
        "l1[-2:-5:-1]=[\"a\",\"b\",\"c\"]\n",
        "\n",
        "# Replace elements from index -2 to -4 (reverse slice) with [\"a\",\"b\",\"c\"]\n",
        "#   -2 → \"Ali\"  → replaced with \"a\"\n",
        "#   -3 → 23     → replaced with \"b\"\n",
        "#   -4 → 343    → replaced with \"c\"\n",
        "\n",
        "print(l1)\n"
      ],
      "metadata": {
        "colab": {
          "base_uri": "https://localhost:8080/"
        },
        "id": "-nNcTIGYQ0y3",
        "outputId": "89a25298-b529-4541-9ce1-cf960d55aa2c"
      },
      "execution_count": 35,
      "outputs": [
        {
          "output_type": "stream",
          "name": "stdout",
          "text": [
            "[23, 'c', 'b', 'a', 'Ali']\n"
          ]
        }
      ]
    },
    {
      "cell_type": "markdown",
      "source": [
        "iteration on list"
      ],
      "metadata": {
        "id": "N55cbL4AgpUc"
      }
    },
    {
      "cell_type": "markdown",
      "source": [
        "by using for loop with range"
      ],
      "metadata": {
        "id": "OprjXgC9gsRa"
      }
    },
    {
      "cell_type": "code",
      "source": [
        "l1=[23,343,343,23,\"Ali\"]\n",
        "\n",
        "for i in range(len(l1)):\n",
        "  print(l1[i])\n"
      ],
      "metadata": {
        "colab": {
          "base_uri": "https://localhost:8080/"
        },
        "id": "TUluijV8SRUo",
        "outputId": "df8a35c4-b45c-48e0-ff2b-b70bc2cbcd02"
      },
      "execution_count": 28,
      "outputs": [
        {
          "output_type": "stream",
          "name": "stdout",
          "text": [
            "23\n",
            "343\n",
            "343\n",
            "23\n",
            "Ali\n"
          ]
        }
      ]
    },
    {
      "cell_type": "markdown",
      "source": [
        "by using while loop\n",
        "\n",
        "\n"
      ],
      "metadata": {
        "id": "G67rlOZhg356"
      }
    },
    {
      "cell_type": "code",
      "source": [
        "l1=[23,343,343,23,\"Ali\"]\n",
        "\n",
        "start=0\n",
        "end=len(l1)-1\n",
        "\n",
        "while start<=end:\n",
        "  print(l1[start])\n",
        "  start+=1"
      ],
      "metadata": {
        "colab": {
          "base_uri": "https://localhost:8080/"
        },
        "id": "cu9s5C-Wgy1h",
        "outputId": "132d7541-2274-4365-cc0e-0808f75ddbcc"
      },
      "execution_count": 29,
      "outputs": [
        {
          "output_type": "stream",
          "name": "stdout",
          "text": [
            "23\n",
            "343\n",
            "343\n",
            "23\n",
            "Ali\n"
          ]
        }
      ]
    },
    {
      "cell_type": "markdown",
      "source": [
        "by using for loop\n"
      ],
      "metadata": {
        "id": "nVWXrmT6hDdP"
      }
    },
    {
      "cell_type": "code",
      "source": [
        "l1=[23,343,343,23,\"Ali\"]\n",
        "for i in l1:\n",
        "  print(i)\n",
        "\n"
      ],
      "metadata": {
        "colab": {
          "base_uri": "https://localhost:8080/"
        },
        "id": "7DYrPJqyg-iu",
        "outputId": "fb1bbfc0-30b9-4ea5-8664-96d1aa9c0e84"
      },
      "execution_count": 30,
      "outputs": [
        {
          "output_type": "stream",
          "name": "stdout",
          "text": [
            "23\n",
            "343\n",
            "343\n",
            "23\n",
            "Ali\n"
          ]
        }
      ]
    },
    {
      "cell_type": "markdown",
      "source": [
        "enumerate"
      ],
      "metadata": {
        "id": "LYB3Kv6ohLib"
      }
    },
    {
      "cell_type": "code",
      "source": [
        "l1=[23,343,343,23,\"Ali\"]\n",
        "for index, value in enumerate(l1):      # first variable -> index and second variable -> element of the list\n",
        "  print(index, value)"
      ],
      "metadata": {
        "colab": {
          "base_uri": "https://localhost:8080/"
        },
        "id": "V5mrLIFxhGwm",
        "outputId": "24109762-ca6f-4f31-868f-941a9156cfea"
      },
      "execution_count": 31,
      "outputs": [
        {
          "output_type": "stream",
          "name": "stdout",
          "text": [
            "0 23\n",
            "1 343\n",
            "2 343\n",
            "3 23\n",
            "4 Ali\n"
          ]
        }
      ]
    },
    {
      "cell_type": "markdown",
      "source": [
        "built-in functions"
      ],
      "metadata": {
        "id": "XXO8yzntiiD2"
      }
    },
    {
      "cell_type": "code",
      "source": [
        "l1=[23,34,323,34]\n",
        "l2=[23,243,23,\"Ahmad\"]\n",
        "l3=[\"Mango\",\"pineapples\",\"apple\",\"banana\",\"grapes\",\"Orange\",\"mango\"]\n",
        "\n",
        "# max\n",
        "print(max(l1))                  # Returns the maximum numeric value from l1 → 323\n",
        "print(max(l2))                  # error: Python cannot compare numbers with strings\n",
        "print(max(l3))                  # Returns the maximum string (lexicographically, based on ASCII/Unicode)\n",
        "\n",
        "# min\n",
        "print(min(l3))                  # Returns the minimum string (lexicographically)\n",
        "\n",
        "# sum\n",
        "\n",
        "print(sum(l1))                  # Returns the sum of all numeric elements in l1 → 414\n",
        "print(sum(l2))                  # error: l2 has both numbers and a string, so sum() will not work\n",
        "\n",
        "\n",
        "# sorted\n",
        "b=(sorted(l1))\n",
        "print(b)                          # sort elements in ascending order\n",
        "\n",
        "\n",
        "b=(sorted(l1,reverse=True))\n",
        "print(b)                          # sort elements in descending order\n",
        "\n",
        "b=sorted(l3)                      # Sorts alphabetically (capital letters come before lowercase due to ASCII)\n",
        "\n",
        "print(b)\n",
        "\n",
        "b=sorted(l3,key=str.lower)        # Sorts alphabetically, ignoring case\n",
        "print(b)\n",
        "\n",
        "\n",
        "c=sorted(l3,reverse=True,key=str.lower)   # Sorts alphabetically in reverse order, ignoring case\n",
        "print(c)"
      ],
      "metadata": {
        "colab": {
          "base_uri": "https://localhost:8080/"
        },
        "id": "OBEsaNJfTUs-",
        "outputId": "07bb5d36-46f9-43c3-8caa-b6547142108f"
      },
      "execution_count": 39,
      "outputs": [
        {
          "output_type": "stream",
          "name": "stdout",
          "text": [
            "[23, 34, 34, 323]\n",
            "['pineapples', 'Orange', 'Mango', 'mango', 'grapes', 'banana', 'apple']\n"
          ]
        }
      ]
    },
    {
      "cell_type": "code",
      "source": [
        "# any\n",
        "print(any([True,False,1]))           # Print True if atleast one element will be True\n",
        "print(any([]))                       # bcz empty list -> False\n",
        "\n",
        "# all\n",
        "print(all([\" \",0]))                  # print True if all the elements will be True\n",
        "print(all([\"\",-9,\"kl\"]))\n",
        "print(all([\"-\",-9,\"kl\"]))"
      ],
      "metadata": {
        "colab": {
          "base_uri": "https://localhost:8080/"
        },
        "id": "PwmkG_eTUiS-",
        "outputId": "8eb09355-cbab-4ea7-d037-6d932eb88708"
      },
      "execution_count": 44,
      "outputs": [
        {
          "output_type": "stream",
          "name": "stdout",
          "text": [
            "True\n",
            "False\n",
            "False\n",
            "False\n",
            "True\n"
          ]
        }
      ]
    },
    {
      "cell_type": "code",
      "source": [
        "# sort()\n",
        "l3=[\"Mango\",\"pineapples\",\"apple\",\"banana\",\"grapes\",\"Orange\",\"mango\"]\n",
        "print(l3)\n",
        "l3.sort(reverse=True)          # after sorting update l3\n",
        "print(l3)"
      ],
      "metadata": {
        "colab": {
          "base_uri": "https://localhost:8080/"
        },
        "id": "eI9lNfRAaEK2",
        "outputId": "305f32d3-e7a4-4e81-87d8-3c132747c9f6"
      },
      "execution_count": null,
      "outputs": [
        {
          "output_type": "stream",
          "name": "stdout",
          "text": [
            "['Mango', 'pineapples', 'apple', 'banana', 'grapes', 'Orange', 'mango']\n",
            "['pineapples', 'mango', 'grapes', 'banana', 'apple', 'Orange', 'Mango']\n"
          ]
        }
      ]
    },
    {
      "cell_type": "code",
      "source": [],
      "metadata": {
        "id": "pAEwASFQbG1H"
      },
      "execution_count": null,
      "outputs": []
    },
    {
      "cell_type": "code",
      "source": [],
      "metadata": {
        "id": "e2nOSiFcdIKj"
      },
      "execution_count": null,
      "outputs": []
    }
  ]
}