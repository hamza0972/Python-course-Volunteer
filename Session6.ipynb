{
  "nbformat": 4,
  "nbformat_minor": 0,
  "metadata": {
    "colab": {
      "provenance": [],
      "gpuType": "T4",
      "include_colab_link": true
    },
    "kernelspec": {
      "name": "python3",
      "display_name": "Python 3"
    },
    "language_info": {
      "name": "python"
    },
    "accelerator": "GPU"
  },
  "cells": [
    {
      "cell_type": "markdown",
      "metadata": {
        "id": "view-in-github",
        "colab_type": "text"
      },
      "source": [
        "<a href=\"https://colab.research.google.com/github/hamza0972/Python-course-Volunteer/blob/main/Session6.ipynb\" target=\"_parent\"><img src=\"https://colab.research.google.com/assets/colab-badge.svg\" alt=\"Open In Colab\"/></a>"
      ]
    },
    {
      "cell_type": "code",
      "execution_count": null,
      "metadata": {
        "colab": {
          "base_uri": "https://localhost:8080/"
        },
        "id": "LnU3ME4HOHHv",
        "outputId": "29ddcacf-db3d-4064-fd62-2af0f5443acf"
      },
      "outputs": [
        {
          "output_type": "stream",
          "name": "stdout",
          "text": [
            "Write your age:20\n",
            "You are eligible to vote \n",
            "You are not eligible to vote \n"
          ]
        }
      ],
      "source": [
        "# IF-ELSE\n",
        "Age=int(input(\"Write your age:\"))\n",
        "\n",
        "if Age >= 18  :\n",
        " print(\"You are eligible to vote \")\n",
        "if Age < 0:\n",
        "  print(\"Invalid age\")\n",
        "else:\n",
        "  print(\"You are not eligible to vote \")\n",
        "\n"
      ]
    },
    {
      "cell_type": "code",
      "source": [
        "# even or odd\n",
        "num = int(input(\"Write a number: \"))\n",
        "\n",
        "if num % 2 == 0:\n",
        "  print(\"Number is even\")\n",
        "else:\n",
        "  print(\"Number is odd\")\n",
        "\n"
      ],
      "metadata": {
        "colab": {
          "base_uri": "https://localhost:8080/"
        },
        "id": "yqrQHsLZlFwj",
        "outputId": "00542ffa-2d2d-4c45-ed5c-685a3288e75f"
      },
      "execution_count": null,
      "outputs": [
        {
          "output_type": "stream",
          "name": "stdout",
          "text": [
            "Write a number10\n",
            "Number is even\n"
          ]
        }
      ]
    },
    {
      "cell_type": "code",
      "source": [
        "# Grading System\n",
        "\n",
        "marks=int(input(\"Enter your Marks: \"))\n",
        "\n",
        "if marks < 0 or marks > 100:\n",
        "  print(\"Please enter correct number\")\n",
        "elif marks >= 90 and marks <= 100 :\n",
        "  print(\"Grade A+\")\n",
        "elif   marks >= 80 and marks < 90:\n",
        "  print(\"Grade A\")\n",
        "elif marks >= 70 and marks < 80:\n",
        "  print(\"Grade B\")\n",
        "elif marks >= 60 and marks < 70:\n",
        "  print(\"Grade c\")\n",
        "elif marks >= 50 and marks < 60:\n",
        "  print(\"Grade D\")\n",
        "else:\n",
        "  print(\"You're Fail \")\n",
        "\n"
      ],
      "metadata": {
        "colab": {
          "base_uri": "https://localhost:8080/"
        },
        "id": "JcyTGl0FoeiI",
        "outputId": "a7330315-956c-4ebd-a4c8-85cef8a6f3a0"
      },
      "execution_count": null,
      "outputs": [
        {
          "output_type": "stream",
          "name": "stdout",
          "text": [
            "Enter your Marks: -20\n",
            "Please enter correct number\n"
          ]
        }
      ]
    },
    {
      "cell_type": "code",
      "source": [
        "# largest of three number\n",
        "\n",
        "num1=int(input(\"Enter number 1: \"))\n",
        "num2=int(input(\"Enter number 2: \"))\n",
        "num3=int(input(\"Enter number 3: \"))\n",
        "\n",
        "if num1 > num2 and num1 > num3:\n",
        "  print(\"Number 1 is greater\")\n",
        "elif num2 > num1 and num2 > num3:\n",
        "  print(\"Number 2 is greater\")\n",
        "else:\n",
        "  print(\"Number 3 is greater\")\n",
        "\n"
      ],
      "metadata": {
        "colab": {
          "base_uri": "https://localhost:8080/"
        },
        "id": "g78ZWSjlq--S",
        "outputId": "d684f94b-fde1-4289-93a6-5589e5d04a30"
      },
      "execution_count": null,
      "outputs": [
        {
          "output_type": "stream",
          "name": "stdout",
          "text": [
            "Enter number 1: 10\n",
            "Enter number 2: 10\n",
            "Enter number 3: 5\n",
            "Number 3 is greater\n"
          ]
        }
      ]
    },
    {
      "cell_type": "code",
      "source": [
        "# sceret Number\n",
        "\n",
        "sceret = 1\n",
        "\n",
        "print(\"Welcome to the game \")\n",
        "guess=int(input(\"Enter a number: \"))\n",
        "\n",
        "if guess == sceret :\n",
        "  print(\"You guessed right !!\")\n",
        "else:\n",
        "  print(\"You loss !\")\n",
        "\n",
        "\n"
      ],
      "metadata": {
        "colab": {
          "base_uri": "https://localhost:8080/"
        },
        "id": "Em_rOiPTsXiy",
        "outputId": "85e63c10-04a4-4997-ee95-1949a28661e7"
      },
      "execution_count": null,
      "outputs": [
        {
          "output_type": "stream",
          "name": "stdout",
          "text": [
            "Welcome to the game \n",
            "Enter a number: 1\n",
            "You guessed right !!\n"
          ]
        }
      ]
    },
    {
      "cell_type": "code",
      "source": [
        "num=40\n",
        "\n",
        "if num < 50:\n",
        "  print(\"A\")\n",
        "if  num > 50:\n",
        "  print(\"B\")\n",
        "else:\n",
        "  print(\"Negative number\")\n",
        "\n",
        "\n",
        "\n"
      ],
      "metadata": {
        "colab": {
          "base_uri": "https://localhost:8080/"
        },
        "id": "772Be27ru5d4",
        "outputId": "9ad487fe-9ac7-4362-e860-895e6e90f340"
      },
      "execution_count": null,
      "outputs": [
        {
          "output_type": "stream",
          "name": "stdout",
          "text": [
            "A\n",
            "Negative number\n"
          ]
        }
      ]
    }
  ]
}