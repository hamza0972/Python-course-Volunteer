{
  "nbformat": 4,
  "nbformat_minor": 0,
  "metadata": {
    "colab": {
      "provenance": [],
      "authorship_tag": "ABX9TyOvHmpm38YAgyva12jWeR42",
      "include_colab_link": true
    },
    "kernelspec": {
      "name": "python3",
      "display_name": "Python 3"
    },
    "language_info": {
      "name": "python"
    }
  },
  "cells": [
    {
      "cell_type": "markdown",
      "metadata": {
        "id": "view-in-github",
        "colab_type": "text"
      },
      "source": [
        "<a href=\"https://colab.research.google.com/github/hamza0972/Python-course-Volunteer/blob/main/session16.ipynb\" target=\"_parent\"><img src=\"https://colab.research.google.com/assets/colab-badge.svg\" alt=\"Open In Colab\"/></a>"
      ]
    },
    {
      "cell_type": "markdown",
      "source": [
        "built in functions:\n",
        "\n",
        "enumerate()\n",
        "\n",
        "reversed()\n",
        "\n",
        "reverse()"
      ],
      "metadata": {
        "id": "GAZ8sOFGcEav"
      }
    },
    {
      "cell_type": "code",
      "source": [
        "num = 90                     # Integer variable\n",
        "country = \"Pakistan\"         # String variable\n",
        "l1 = [10, 22, 43, \"A,\", 34, 23]   # A list containing integers and a string element\n",
        "\n",
        "# print(enumerate(l1))       # enumerate(l1) returns an enumerate object with (index, value) pairs\n",
        "new = list(enumerate(l1))    # Convert enumerate object to a list of tuples\n",
        "print(new)                   # Print list of (index, value) pairs\n",
        "print(type(new))             # Print type of 'new' (which is <class 'list'>)\n",
        "print(type(new[0]))          # Print type of first element in 'new' (which is <class 'tuple'>)\n",
        "\n",
        "# reversed(l1) returns a reversed iterator, converting it to list\n",
        "new1 = list(reversed(l1))    # Create a new list with elements of l1 in reverse order\n",
        "print(new1)                  # Print reversed list (new list, original remains same)\n",
        "\n",
        "l1.reverse()                 # Reverse l1 in place (original list is modified)\n",
        "print(l1)                    # Print l1 after in-place reversal\n",
        "\n",
        "print(list(country))         # Convert string \"Pakistan\" into a list of characters\n"
      ],
      "metadata": {
        "colab": {
          "base_uri": "https://localhost:8080/"
        },
        "id": "8dSrL9kNmIMk",
        "outputId": "72cc20a4-ec20-4372-e2b7-d85ac52bc3e4"
      },
      "execution_count": 10,
      "outputs": [
        {
          "output_type": "stream",
          "name": "stdout",
          "text": [
            "[(0, 10), (1, 22), (2, 43), (3, 'A,'), (4, 34), (5, 23)]\n",
            "<class 'list'>\n",
            "<class 'tuple'>\n",
            "[23, 34, 'A,', 43, 22, 10]\n",
            "[23, 34, 'A,', 43, 22, 10]\n",
            "['P', 'a', 'k', 'i', 's', 't', 'a', 'n']\n"
          ]
        }
      ]
    },
    {
      "cell_type": "markdown",
      "source": [
        "built in functions:\n",
        "\n",
        "append\n",
        "\n",
        "extend"
      ],
      "metadata": {
        "id": "MYE-sgTzcRVB"
      }
    },
    {
      "cell_type": "code",
      "source": [
        "l1 = [5, 31, 26, 'A', 234, 34, 'B']   # List l1 with integers and strings\n",
        "l2 = [12, 23]                         # Another list l2 with two integers\n",
        "\n",
        "print(len(l1))   # Prints the number of elements in l1 → 7\n",
        "print(l1)        # Prints the entire list l1\n",
        "\n",
        "# append() adds a single element at the end of the list\n",
        "l1.append(90)    # Adds integer 90 at the end\n",
        "l1.append(\"H\")   # Adds string \"H\" at the end\n",
        "l1.append(l2)    # Adds the entire list l2 as ONE element (nested list)\n",
        "print(l1)        # Prints updated l1 → now contains l2 as a single element\n",
        "print(len(l1))   # Prints length of l1 → 10 (because l2 is counted as 1 element)\n",
        "\n",
        "# extend() adds each element of another iterable (like a list) separately\n",
        "l1.extend(l2)    # Adds 12 and 23 individually (not as a nested list)\n",
        "print(l1)        # Prints final l1 with all elements\n"
      ],
      "metadata": {
        "colab": {
          "base_uri": "https://localhost:8080/"
        },
        "id": "Vpmbmc7umIYP",
        "outputId": "3552c09b-ca81-4d37-a5aa-3aaa5d9db38f"
      },
      "execution_count": 9,
      "outputs": [
        {
          "output_type": "stream",
          "name": "stdout",
          "text": [
            "7\n",
            "[5, 31, 26, 'A', 234, 34, 'B']\n",
            "[5, 31, 26, 'A', 234, 34, 'B', 90, 'H', [12, 23]]\n",
            "10\n",
            "[5, 31, 26, 'A', 234, 34, 'B', 90, 'H', [12, 23], 12, 23]\n"
          ]
        }
      ]
    },
    {
      "cell_type": "markdown",
      "source": [
        "built-in functions\n",
        "\n",
        "insert()\n",
        "\n",
        "pop()\n",
        "\n",
        "pop(i)\n",
        "\n",
        "remove()\n",
        "\n",
        "clear()\n",
        "\n",
        "copy()"
      ],
      "metadata": {
        "id": "1ELPT1ChcZuB"
      }
    },
    {
      "cell_type": "code",
      "source": [
        "l1 = [5, 31, 26, 'A', 234, 34, 'B', 'A']   # Initial list\n",
        "l2 = [12, 23]                              # Another list\n",
        "\n",
        "l1.insert(0, 'A')      # Inserts 'A' at index 0 (beginning of the list)\n",
        "print(l1)              # ['A', 5, 31, 26, 'A', 234, 34, 'B', 'A']\n",
        "\n",
        "l1.remove('A')         # Removes the FIRST occurrence of 'A' (from index 0)\n",
        "print(l1)              # [5, 31, 26, 'A', 234, 34, 'B', 'A']\n",
        "\n",
        "l1.pop()               # Removes the LAST element ('A')\n",
        "print(l1)              # [5, 31, 26, 'A', 234, 34, 'B']\n",
        "\n",
        "new = l1.pop(2)        # Removes element at index 2 → 26\n",
        "print(l1)              # [5, 31, 'A', 234, 34, 'B']\n",
        "print(new)             # 26 (the removed element is stored in 'new')\n",
        "\n",
        "l2.clear()             # Removes all elements from l2 → l2 becomes []\n",
        "print(l1.index('A', 0, 6))   # Finds index of 'A' between index 0–5 → 2\n",
        "print(l1.count('A'))         # Counts how many times 'A' appears → 1\n",
        "print(l2)              # [] (since l2 was cleared)\n",
        "\n",
        "new = l1.copy()        # Creates a shallow copy of l1\n",
        "new = l1               # Assigns reference → 'new' and 'l1' point to SAME list\n",
        "print(l1)              # [5, 31, 'A', 234, 34, 'B']\n",
        "print(new)             # [5, 31, 'A', 234, 34, 'B']\n"
      ],
      "metadata": {
        "colab": {
          "base_uri": "https://localhost:8080/"
        },
        "id": "lrgPK4h9mIaC",
        "outputId": "1db3c698-badf-4a6e-ea0c-ad62eba0344d"
      },
      "execution_count": 15,
      "outputs": [
        {
          "output_type": "stream",
          "name": "stdout",
          "text": [
            "['A', 5, 31, 26, 'A', 234, 34, 'B', 'A']\n",
            "[5, 31, 26, 'A', 234, 34, 'B', 'A']\n",
            "[5, 31, 26, 'A', 234, 34, 'B']\n",
            "[5, 31, 'A', 234, 34, 'B']\n",
            "26\n",
            "2\n",
            "1\n",
            "[]\n",
            "[5, 31, 'A', 234, 34, 'B']\n",
            "[5, 31, 'A', 234, 34, 'B']\n"
          ]
        }
      ]
    },
    {
      "cell_type": "markdown",
      "source": [
        "zip()"
      ],
      "metadata": {
        "id": "G-lvpfWMdzrd"
      }
    },
    {
      "cell_type": "code",
      "source": [
        "# zip() pairs elements from multiple iterables (like lists) into list.\n",
        "\n",
        "print(list(zip([1, 12, 89], [30, 14])))\n",
        "\n",
        "# → [(1, 30), (12, 14)]\n",
        "# Explanation:\n",
        "#   First pair: 1 with 30\n",
        "#   Second pair: 12 with 14\n",
        "#   89 has no partner (since the 2nd list ended), so it is ignored.\n",
        "\n",
        "l1 = [\"a\", \"d\", 2, 3, 71]      # List with strings and integers\n",
        "l2 = [2, 3, 3, 4, 3, 78]       # Longer list\n",
        "\n",
        "new = list(zip(l1, l2))        # Pairs elements index by index\n",
        "print(len(new))               # 5 → because l1 has 5 elements (shortest list)\n",
        "\n",
        "print(new)\n",
        "print(new[3])\n"
      ],
      "metadata": {
        "colab": {
          "base_uri": "https://localhost:8080/"
        },
        "id": "gtXM92vrmIeD",
        "outputId": "d32f1b6a-b72e-4b6b-baa3-1bd79273d77f"
      },
      "execution_count": 19,
      "outputs": [
        {
          "output_type": "stream",
          "name": "stdout",
          "text": [
            "[(1, 30), (12, 14)]\n",
            "5\n",
            "[('a', 2), ('d', 3), (2, 3), (3, 4), (71, 3)]\n",
            "(3, 4)\n"
          ]
        }
      ]
    },
    {
      "cell_type": "markdown",
      "source": [
        "nested list"
      ],
      "metadata": {
        "id": "NksbtgGhd4Dt"
      }
    },
    {
      "cell_type": "code",
      "source": [
        "for i in range(4):                                # Outer loop → i goes from 0 to 3\n",
        "    print(f\"this is the value of i {i}\")          # Prints current value of i\n",
        "\n",
        "    for j in range(4):                            # Inner loop → j goes from 0 to 3\n",
        "        print(f\"this is the value of j {j}\")      # Prints current value of j"
      ],
      "metadata": {
        "colab": {
          "base_uri": "https://localhost:8080/"
        },
        "id": "AIv7v5Six1VJ",
        "outputId": "8015b59e-b607-4217-e7fe-a6ff554118fa"
      },
      "execution_count": 21,
      "outputs": [
        {
          "output_type": "stream",
          "name": "stdout",
          "text": [
            "this is the value of i 0\n",
            "this is the value of j 0\n",
            "this is the value of j 1\n",
            "this is the value of j 2\n",
            "this is the value of j 3\n",
            "this is the value of i 1\n",
            "this is the value of j 0\n",
            "this is the value of j 1\n",
            "this is the value of j 2\n",
            "this is the value of j 3\n",
            "this is the value of i 2\n",
            "this is the value of j 0\n",
            "this is the value of j 1\n",
            "this is the value of j 2\n",
            "this is the value of j 3\n",
            "this is the value of i 3\n",
            "this is the value of j 0\n",
            "this is the value of j 1\n",
            "this is the value of j 2\n",
            "this is the value of j 3\n"
          ]
        }
      ]
    },
    {
      "cell_type": "markdown",
      "source": [
        "Print the pattern:\n",
        "\n",
        "A rectangle of stars\n",
        "\n",
        "use the concept of nested list"
      ],
      "metadata": {
        "id": "c5pzDENcd9ts"
      }
    },
    {
      "cell_type": "code",
      "source": [
        "for i in range(5):               # Outer loop → runs 5 times (rows)\n",
        "    for j in range(5):           # Inner loop → runs 5 times for each row (columns)\n",
        "        print('*', end=\"\")       # Prints '*' without moving to the next line\n",
        "    print()                      # Moves to the next line after one row is finished\n"
      ],
      "metadata": {
        "colab": {
          "base_uri": "https://localhost:8080/"
        },
        "id": "XTQX5Y6Ay-o9",
        "outputId": "fcd0950e-ccfc-456e-cd48-3088ac3219c4"
      },
      "execution_count": 20,
      "outputs": [
        {
          "output_type": "stream",
          "name": "stdout",
          "text": [
            "*****\n",
            "*****\n",
            "*****\n",
            "*****\n",
            "*****\n"
          ]
        }
      ]
    },
    {
      "cell_type": "markdown",
      "source": [
        "List Comprehension"
      ],
      "metadata": {
        "id": "ATgR-MdFedYY"
      }
    },
    {
      "cell_type": "code",
      "source": [
        "l1 = []                        # Start with an empty list\n",
        "\n",
        "for i in range(11):            # Loop from 0 to 10 (since range(11) gives 0–10)\n",
        "    if i % 2 == 0:             # Check if i is divisible by 2 (even number)\n",
        "        l1.append(i)           # If even, add it to the list\n",
        "\n",
        "print(l1)                      # Print the final list\n"
      ],
      "metadata": {
        "colab": {
          "base_uri": "https://localhost:8080/"
        },
        "id": "Ks5qt3gc2git",
        "outputId": "617e6577-43f9-44af-91f5-1ef310ef65d8"
      },
      "execution_count": 22,
      "outputs": [
        {
          "output_type": "stream",
          "name": "stdout",
          "text": [
            "[0, 2, 4, 6, 8, 10]\n"
          ]
        }
      ]
    },
    {
      "cell_type": "code",
      "source": [
        "# We can create a new list by using the concept of list comprehension\n",
        "list1 = [x for x in range(5)]\n",
        "print(list1)   # [0, 1, 2, 3, 4]\n"
      ],
      "metadata": {
        "colab": {
          "base_uri": "https://localhost:8080/"
        },
        "id": "iQ4LIlhM3XG1",
        "outputId": "3fc2fb77-41a5-417a-86f5-5d524d30d749"
      },
      "execution_count": 23,
      "outputs": [
        {
          "output_type": "stream",
          "name": "stdout",
          "text": [
            "[0, 1, 2, 3, 4]\n"
          ]
        }
      ]
    },
    {
      "cell_type": "code",
      "source": [
        "l1 = []                  # Start with an empty list\n",
        "\n",
        "for i in range(5):       # Loop through numbers 0, 1, 2, 3, 4\n",
        "    l1.append(i**2)      # Square each number (i**2) and add to list\n",
        "\n",
        "print(l1)                # Print the final list\n"
      ],
      "metadata": {
        "colab": {
          "base_uri": "https://localhost:8080/"
        },
        "id": "irRY6tDV4Glf",
        "outputId": "21fc01d0-7bce-479f-e467-a605e67aa080"
      },
      "execution_count": 24,
      "outputs": [
        {
          "output_type": "stream",
          "name": "stdout",
          "text": [
            "[0, 1, 4, 9, 16]\n"
          ]
        }
      ]
    },
    {
      "cell_type": "code",
      "source": [
        "list1=[y**2 for y in range(5)]\n",
        "print(list1)"
      ],
      "metadata": {
        "colab": {
          "base_uri": "https://localhost:8080/"
        },
        "id": "f33G311g4bQn",
        "outputId": "509e2981-b6fd-4c13-cdeb-1c863f1f48b6"
      },
      "execution_count": null,
      "outputs": [
        {
          "output_type": "stream",
          "name": "stdout",
          "text": [
            "[0, 1, 4, 9, 16]\n"
          ]
        }
      ]
    },
    {
      "cell_type": "markdown",
      "source": [
        "\n",
        "Generate a list of Boolean values using list comprehension to check if numbers from 0 to 10 are even."
      ],
      "metadata": {
        "id": "pGEiTRdmfqf6"
      }
    },
    {
      "cell_type": "code",
      "source": [
        "list1=[x%2==0 for x in range(11)]\n",
        "print(list1)"
      ],
      "metadata": {
        "colab": {
          "base_uri": "https://localhost:8080/"
        },
        "id": "D8_FOyxD4tVN",
        "outputId": "0fcadaab-d236-4047-9821-bdf78ee17384"
      },
      "execution_count": null,
      "outputs": [
        {
          "output_type": "stream",
          "name": "stdout",
          "text": [
            "[True, False, True, False, True, False, True, False, True, False, True]\n"
          ]
        }
      ]
    },
    {
      "cell_type": "markdown",
      "source": [
        "generate a list of even numbers by using the concept of list comprehension"
      ],
      "metadata": {
        "id": "zwmxFHzJf1ZC"
      }
    },
    {
      "cell_type": "code",
      "source": [
        "list1=[x for x in range(0,11,2)]\n",
        "print(list1)"
      ],
      "metadata": {
        "colab": {
          "base_uri": "https://localhost:8080/"
        },
        "id": "FWtr0EQt53Wf",
        "outputId": "3e466d53-704f-4956-d5a6-88736ac1c663"
      },
      "execution_count": null,
      "outputs": [
        {
          "output_type": "stream",
          "name": "stdout",
          "text": [
            "[0, 2, 4, 6, 8, 10]\n"
          ]
        }
      ]
    },
    {
      "cell_type": "markdown",
      "source": [
        "Write a Python program using list comprehension to generate a list by dividing each even number from 0 to 10 by 2 (using integer division //). Finally, display the resulting list."
      ],
      "metadata": {
        "id": "fi5AvdLkgJkB"
      }
    },
    {
      "cell_type": "code",
      "source": [
        "list1=[x//2 for x in range(0,11) if x%2==0]\n",
        "print(list1)"
      ],
      "metadata": {
        "colab": {
          "base_uri": "https://localhost:8080/"
        },
        "id": "nIyLD4-J6O47",
        "outputId": "466cd253-44b3-4a15-d55c-9481095ea676"
      },
      "execution_count": 26,
      "outputs": [
        {
          "output_type": "stream",
          "name": "stdout",
          "text": [
            "[0, 1, 2, 3, 4, 5]\n"
          ]
        }
      ]
    },
    {
      "cell_type": "code",
      "source": [],
      "metadata": {
        "id": "ZgL0upB96__j"
      },
      "execution_count": null,
      "outputs": []
    }
  ]
}