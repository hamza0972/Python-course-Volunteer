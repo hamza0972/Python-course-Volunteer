{
  "nbformat": 4,
  "nbformat_minor": 0,
  "metadata": {
    "colab": {
      "provenance": [],
      "authorship_tag": "ABX9TyOdRqOtmq4n5Kpmys6urQGs",
      "include_colab_link": true
    },
    "kernelspec": {
      "name": "python3",
      "display_name": "Python 3"
    },
    "language_info": {
      "name": "python"
    }
  },
  "cells": [
    {
      "cell_type": "markdown",
      "metadata": {
        "id": "view-in-github",
        "colab_type": "text"
      },
      "source": [
        "<a href=\"https://colab.research.google.com/github/hamza0972/Python-course-Volunteer/blob/main/session23.ipynb\" target=\"_parent\"><img src=\"https://colab.research.google.com/assets/colab-badge.svg\" alt=\"Open In Colab\"/></a>"
      ]
    },
    {
      "cell_type": "markdown",
      "source": [
        "Nested Dictionary"
      ],
      "metadata": {
        "id": "h4DS5OTMoQlx"
      }
    },
    {
      "cell_type": "code",
      "source": [
        "# Dictionary 'a' with integer keys (1, 2).\n",
        "# Each key stores another dictionary with \"name\" and \"grade\".\n",
        "a = {\n",
        "    1: {\"name\": \"Hamza\", \"grade\": \"A\"},\n",
        "    2: {\"name\": \"Ali\", \"grade\": \"B\"}\n",
        "}\n",
        "\n",
        "# Loop through dictionary 'a' using items() method\n",
        "# i → key (like 1, 2)\n",
        "# j → value (which is itself a dictionary like {\"name\":\"Hamza\", \"grade\":\"A\"})\n",
        "for i, j in a.items():\n",
        "    # Print the key, and access \"name\" and \"grade\" from inner dictionary\n",
        "    print(i, j[\"name\"], j[\"grade\"])\n"
      ],
      "metadata": {
        "colab": {
          "base_uri": "https://localhost:8080/"
        },
        "id": "7EQWuX9p-jHZ",
        "outputId": "67c2482a-9b08-448f-d0a3-a86a7977ff43"
      },
      "execution_count": null,
      "outputs": [
        {
          "output_type": "stream",
          "name": "stdout",
          "text": [
            "1 Hamza A\n",
            "2 Ali B\n"
          ]
        }
      ]
    },
    {
      "cell_type": "markdown",
      "source": [
        "Dictionary Comprehension"
      ],
      "metadata": {
        "id": "0C-0YZM2obdP"
      }
    },
    {
      "cell_type": "code",
      "source": [
        "# A list of integers\n",
        "a = [1, 2, 4, 6]\n",
        "\n",
        "# Dictionary comprehension:\n",
        "# For each element 'i' in list 'a', create a key-value pair\n",
        "# Key = i, Value = i**2 (square of i)\n",
        "new = {i: i**2 for i in a}\n",
        "print(new)   # Output: {1: 1, 2: 4, 4: 16, 6: 36}\n",
        "\n",
        "\n",
        "# Another dictionary comprehension:\n",
        "# Loop through numbers from 1 to 5 (range(1,6) gives 1,2,3,4,5)\n",
        "# For each number 'i', create key = i, value = i*5\n",
        "new = {i: i*5 for i in range(1, 6)}\n",
        "print(new)   # Output: {1: 5, 2: 10, 3: 15, 4: 20, 5: 25}\n"
      ],
      "metadata": {
        "colab": {
          "base_uri": "https://localhost:8080/"
        },
        "id": "34USas52-z8-",
        "outputId": "e968d80d-f7a9-4bde-cb23-8089b945a3e8"
      },
      "execution_count": null,
      "outputs": [
        {
          "output_type": "stream",
          "name": "stdout",
          "text": [
            "{1: 1, 2: 4, 4: 16, 6: 36}\n",
            "{1: 5, 2: 10, 3: 15, 4: 20, 5: 25}\n"
          ]
        }
      ]
    },
    {
      "cell_type": "markdown",
      "source": [
        "Merge 2 Dictionaries"
      ],
      "metadata": {
        "id": "hUkXQ1gwofu7"
      }
    },
    {
      "cell_type": "code",
      "source": [
        "a = {1: \"Ahmad\", 2: \"Bilal\"}\n",
        "b = {2: \"Zohaib\", 4: \"Aslam\"}\n",
        "\n",
        "# print(a+b) This will give an ERROR\n",
        "# Because '+' is not defined for dictionaries in Python.\n",
        "\n",
        "# Correct way: Merge two dictionaries using unpacking (**)\n",
        "print({**a, **b})\n"
      ],
      "metadata": {
        "colab": {
          "base_uri": "https://localhost:8080/"
        },
        "id": "OBzormWpAuvw",
        "outputId": "8509f096-558a-490b-a79f-0e0157ef1621"
      },
      "execution_count": null,
      "outputs": [
        {
          "output_type": "stream",
          "name": "stdout",
          "text": [
            "{1: 'Ahmad', 2: 'Zohaib', 4: 'Aslam'}\n"
          ]
        }
      ]
    },
    {
      "cell_type": "markdown",
      "source": [
        "Create a Student Management System in Python using a dictionary. Each student has a roll number, name, and marks. The program should allow the user to:\n",
        "\n",
        "Add a student\n",
        "\n",
        "Display all students\n",
        "\n",
        "Update a student\n",
        "\n",
        "Search a student\n",
        "\n",
        "Delete a student\n",
        "\n",
        "Exit the program\n",
        "\n",
        "The system should be menu-driven and keep running until the user chooses to exit.\n"
      ],
      "metadata": {
        "id": "GWV1L-OFD0m3"
      }
    },
    {
      "cell_type": "code",
      "source": [
        "# Initialize empty dictionary to store students\n",
        "# Format: students[roll] = {\"name\": name, \"marks\": marks}\n",
        "students = {}\n",
        "\n",
        "while True:\n",
        "    # Menu for user\n",
        "    action = int(input(\n",
        "        \"\\n\\tStudent Management System\\n\"\n",
        "        \"Press 1 to Add a student\\n\"\n",
        "        \"Press 2 to Display all students\\n\"\n",
        "        \"Press 3 to Update a student\\n\"\n",
        "        \"Press 4 to Search a student\\n\"\n",
        "        \"Press 5 to Delete a student\\n\"\n",
        "        \"Press 6 to Exit\\n\"\n",
        "    ))\n",
        "\n",
        "    # 1. Add Student\n",
        "    if action == 1:\n",
        "        roll = int(input(\"Enter roll number: \"))\n",
        "        if roll in students:\n",
        "            print(\"Student already exists!\")\n",
        "        else:\n",
        "            name = input(\"Enter name: \")\n",
        "            marks = int(input(\"Enter marks: \"))\n",
        "            students[roll] = {\"name\": name, \"marks\": marks}  # Save student in dict\n",
        "\n",
        "    # 2. Display All Students\n",
        "    elif action == 2:\n",
        "        print(\"Roll No\\tName\\tMarks\")\n",
        "        for i, j in students.items():\n",
        "            print(i, \"\\t\", j[\"name\"], \"\\t\", j[\"marks\"])\n",
        "\n",
        "    # 3. Update Student\n",
        "    elif action == 3:\n",
        "        roll = int(input(\"Enter roll number to update: \"))\n",
        "        if roll in students:\n",
        "            name = input(\"Enter new name: \")\n",
        "            marks = int(input(\"Enter new marks: \"))\n",
        "            students[roll][\"name\"] = name\n",
        "            students[roll][\"marks\"] = marks\n",
        "        else:\n",
        "            print(\"Student does not exist!\")\n",
        "\n",
        "    # 4. Search Student\n",
        "    elif action == 4:\n",
        "        roll = int(input(\"Enter roll number to search: \"))\n",
        "        if roll in students:\n",
        "            print(\"Name:\", students[roll][\"name\"], \", Marks:\", students[roll][\"marks\"])\n",
        "        else:\n",
        "            print(\"Student not found!\")\n",
        "\n",
        "    # 5. Delete Student\n",
        "    elif action == 5:\n",
        "        roll = int(input(\"Enter roll number to delete: \"))\n",
        "        if roll in students:\n",
        "            del students[roll]\n",
        "            print(\"Student deleted successfully.\")\n",
        "        else:\n",
        "            print(\"Student not found!\")\n",
        "\n",
        "    # 6. Exit Program\n",
        "    elif action == 6:\n",
        "        print(\"Exiting Student Management System...\")\n",
        "        break\n",
        "\n",
        "    # Wrong Option\n",
        "    else:\n",
        "        print(\"Invalid choice! Please try again.\")\n"
      ],
      "metadata": {
        "colab": {
          "base_uri": "https://localhost:8080/"
        },
        "id": "TZkkHZd0CK1s",
        "outputId": "2983fad7-a43b-4fc0-a913-3bd73acceb11"
      },
      "execution_count": null,
      "outputs": [
        {
          "output_type": "stream",
          "name": "stdout",
          "text": [
            "\tStudent Managment System\n",
            "Press 1 to add a student\n",
            "Press 2 to Display all students\n",
            "Press 3 to update a student\n",
            "Press 4 to search a student\n",
            "Press 5 to delete a student\n",
            "Press 6 to exit 1\n",
            "Enter your roll2\n",
            "Enter your nameali\n",
            "Enter your marks89\n",
            "\tStudent Managment System\n",
            "Press 1 to add a student\n",
            "Press 2 to Display all students\n",
            "Press 3 to update a student\n",
            "Press 4 to search a student\n",
            "Press 5 to delete a student\n",
            "Press 6 to exit 2\n",
            "roll no\tname\tmarks\n",
            "2 \t ali \t 89\n",
            "\tStudent Managment System\n",
            "Press 1 to add a student\n",
            "Press 2 to Display all students\n",
            "Press 3 to update a student\n",
            "Press 4 to search a student\n",
            "Press 5 to delete a student\n",
            "Press 6 to exit 6\n",
            "exit\n"
          ]
        }
      ]
    },
    {
      "cell_type": "code",
      "source": [],
      "metadata": {
        "id": "kssImQmYFlzl"
      },
      "execution_count": null,
      "outputs": []
    }
  ]
}