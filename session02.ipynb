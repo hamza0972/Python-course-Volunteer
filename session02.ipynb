{
  "nbformat": 4,
  "nbformat_minor": 0,
  "metadata": {
    "colab": {
      "provenance": [],
      "authorship_tag": "ABX9TyPt4Uf3Jz+CJahS1Y2Xcfgw",
      "include_colab_link": true
    },
    "kernelspec": {
      "name": "python3",
      "display_name": "Python 3"
    },
    "language_info": {
      "name": "python"
    }
  },
  "cells": [
    {
      "cell_type": "markdown",
      "metadata": {
        "id": "view-in-github",
        "colab_type": "text"
      },
      "source": [
        "<a href=\"https://colab.research.google.com/github/hamza0972/Python-course-Volunteer/blob/main/session02.ipynb\" target=\"_parent\"><img src=\"https://colab.research.google.com/assets/colab-badge.svg\" alt=\"Open In Colab\"/></a>"
      ]
    },
    {
      "cell_type": "code",
      "execution_count": null,
      "metadata": {
        "colab": {
          "base_uri": "https://localhost:8080/"
        },
        "id": "vo_XleFUcaG0",
        "outputId": "a6e2dbd2-388a-4f36-8985-ce872b2240ca"
      },
      "outputs": [
        {
          "output_type": "stream",
          "name": "stdout",
          "text": [
            "Pakistan\n"
          ]
        }
      ],
      "source": [
        "print(\"Pakistan\")"
      ]
    },
    {
      "cell_type": "code",
      "source": [
        "print('Hamza')"
      ],
      "metadata": {
        "colab": {
          "base_uri": "https://localhost:8080/"
        },
        "id": "m2wjA28ot-kp",
        "outputId": "71c85496-9bc0-48db-a4c1-203458df17b3"
      },
      "execution_count": null,
      "outputs": [
        {
          "output_type": "stream",
          "name": "stdout",
          "text": [
            "Hamza\n"
          ]
        }
      ]
    },
    {
      "cell_type": "code",
      "source": [
        "print(\"I am Hamza\")\n",
        "print(\"I am learing Python\")"
      ],
      "metadata": {
        "colab": {
          "base_uri": "https://localhost:8080/"
        },
        "id": "jnFqwdliuJkt",
        "outputId": "01536fbc-accb-4ef7-b739-e396f85b3164"
      },
      "execution_count": null,
      "outputs": [
        {
          "output_type": "stream",
          "name": "stdout",
          "text": [
            "I am Hamza\n",
            "I am learing Python\n"
          ]
        }
      ]
    },
    {
      "cell_type": "markdown",
      "source": [
        "use of \\n"
      ],
      "metadata": {
        "id": "uVC4nV255t7f"
      }
    },
    {
      "cell_type": "code",
      "source": [
        "print(\"I am Hamza\\nI am learning Python\")"
      ],
      "metadata": {
        "colab": {
          "base_uri": "https://localhost:8080/"
        },
        "id": "Tkfdq4jvuZrp",
        "outputId": "7c77bfcf-a80f-4f01-935e-87ccf8f0da82"
      },
      "execution_count": null,
      "outputs": [
        {
          "output_type": "stream",
          "name": "stdout",
          "text": [
            "I am Hamza\n",
            "I am learning Python\n"
          ]
        }
      ]
    },
    {
      "cell_type": "markdown",
      "source": [
        "use of \\t"
      ],
      "metadata": {
        "id": "MlB4Rf5L5wyV"
      }
    },
    {
      "cell_type": "code",
      "source": [
        "print(\"Hamza    Ahmad\")\n",
        "print(\"Hamza\\t\\tAli\")"
      ],
      "metadata": {
        "colab": {
          "base_uri": "https://localhost:8080/"
        },
        "id": "FjSjeymZu4Yt",
        "outputId": "5f95572a-32af-408e-e1e7-20101e3d9803"
      },
      "execution_count": null,
      "outputs": [
        {
          "output_type": "stream",
          "name": "stdout",
          "text": [
            "Hamza    Ahmad\n",
            "Hamza\t\tAli\n"
          ]
        }
      ]
    },
    {
      "cell_type": "code",
      "source": [
        "#use of ''' '''\n",
        "print('''\n",
        "Hamza    : '20'\n",
        "ali      : 10\n",
        "''')"
      ],
      "metadata": {
        "colab": {
          "base_uri": "https://localhost:8080/"
        },
        "id": "A6xaPsZavhIC",
        "outputId": "320ba6bc-000c-47d6-9a69-d60b999cd068"
      },
      "execution_count": null,
      "outputs": [
        {
          "output_type": "stream",
          "name": "stdout",
          "text": [
            "\n",
            "Hamza    : '20'\n",
            "ali      : 10\n",
            "\n"
          ]
        }
      ]
    },
    {
      "cell_type": "code",
      "source": [
        "#use of \"\"\" \"\"\"\n",
        "print(\"\"\"\n",
        "i am from \"Pakistan\"\n",
        "i am learning python\n",
        "\"\"\")"
      ],
      "metadata": {
        "colab": {
          "base_uri": "https://localhost:8080/"
        },
        "id": "MYJRJ68wwLUn",
        "outputId": "1926ebb8-b3e1-4ac4-881f-bb078ce135a2"
      },
      "execution_count": null,
      "outputs": [
        {
          "output_type": "stream",
          "name": "stdout",
          "text": [
            "\n",
            "i am from \"Pakistan\"\n",
            "i am learning python\n",
            "\n"
          ]
        }
      ]
    },
    {
      "cell_type": "code",
      "source": [
        "#use of \\'\\'\n",
        "print(\"I am \\'Muslim\\'\")"
      ],
      "metadata": {
        "colab": {
          "base_uri": "https://localhost:8080/"
        },
        "id": "YnT_Z64PwfJ_",
        "outputId": "3c75ea00-7f87-4843-a73f-cfa4ebf15c31"
      },
      "execution_count": null,
      "outputs": [
        {
          "output_type": "stream",
          "name": "stdout",
          "text": [
            "I am 'Muslim'\n"
          ]
        }
      ]
    },
    {
      "cell_type": "markdown",
      "source": [
        "why we don't use quotation directly in print()? It create bug"
      ],
      "metadata": {
        "id": "8JQZzMIJ6C4f"
      }
    },
    {
      "cell_type": "code",
      "source": [
        "# print('I live in 'Faisalabad'')"
      ],
      "metadata": {
        "id": "rLzch8hjxNe-"
      },
      "execution_count": null,
      "outputs": []
    },
    {
      "cell_type": "markdown",
      "source": [
        "add comments"
      ],
      "metadata": {
        "id": "gWgy7_X37KuO"
      }
    },
    {
      "cell_type": "code",
      "source": [
        "#print(\"Hamza\")"
      ],
      "metadata": {
        "id": "k9dijVXZ7LZY"
      },
      "execution_count": null,
      "outputs": []
    },
    {
      "cell_type": "code",
      "source": [
        "#add comments with ''' ''' it is the update in python (now it donot work)\n",
        "\n",
        "print(\"Hamza\")\n",
        "'''\n",
        "print(\"Ali\")\n",
        "here we print the name of the user\n",
        "'''"
      ],
      "metadata": {
        "colab": {
          "base_uri": "https://localhost:8080/",
          "height": 54
        },
        "id": "WROqfwmmxdpM",
        "outputId": "dea197ad-2b1b-422e-a5dd-1ccd702fa59a"
      },
      "execution_count": null,
      "outputs": [
        {
          "output_type": "stream",
          "name": "stdout",
          "text": [
            "Hamza\n"
          ]
        },
        {
          "output_type": "execute_result",
          "data": {
            "text/plain": [
              "'\\nprint(\"Ali\")\\nhere we print the name of the user\\n'"
            ],
            "application/vnd.google.colaboratory.intrinsic+json": {
              "type": "string"
            }
          },
          "metadata": {},
          "execution_count": 40
        }
      ]
    },
    {
      "cell_type": "markdown",
      "source": [
        "declare variable"
      ],
      "metadata": {
        "id": "v2USkJ1N6fua"
      }
    },
    {
      "cell_type": "code",
      "source": [
        "sentence=\"I am Muhammad Hamza. I am learing python. I live in Pakistan\"\n",
        "print(sentence)"
      ],
      "metadata": {
        "colab": {
          "base_uri": "https://localhost:8080/"
        },
        "id": "2so1MF4LzRyk",
        "outputId": "c412bc51-c029-4320-b63d-ceb464b1acef"
      },
      "execution_count": null,
      "outputs": [
        {
          "output_type": "stream",
          "name": "stdout",
          "text": [
            "I am Muhammad Hamza. I am learing python. I live in Pakistan\n"
          ]
        }
      ]
    },
    {
      "cell_type": "code",
      "source": [],
      "metadata": {
        "id": "66-flmNq7Tx4"
      },
      "execution_count": null,
      "outputs": []
    }
  ]
}