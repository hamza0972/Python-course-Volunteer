{
  "nbformat": 4,
  "nbformat_minor": 0,
  "metadata": {
    "colab": {
      "provenance": [],
      "authorship_tag": "ABX9TyM1KOv34YvjHbCB3BoE/giQ",
      "include_colab_link": true
    },
    "kernelspec": {
      "name": "python3",
      "display_name": "Python 3"
    },
    "language_info": {
      "name": "python"
    }
  },
  "cells": [
    {
      "cell_type": "markdown",
      "metadata": {
        "id": "view-in-github",
        "colab_type": "text"
      },
      "source": [
        "<a href=\"https://colab.research.google.com/github/hamza0972/Python-course-Volunteer/blob/main/session13.ipynb\" target=\"_parent\"><img src=\"https://colab.research.google.com/assets/colab-badge.svg\" alt=\"Open In Colab\"/></a>"
      ]
    },
    {
      "cell_type": "markdown",
      "source": [
        "#String built-in functions"
      ],
      "metadata": {
        "id": "XKxf4qzAfGYb"
      }
    },
    {
      "cell_type": "markdown",
      "source": [
        "Case conversion Methods"
      ],
      "metadata": {
        "id": "YN7GrrBfe_gR"
      }
    },
    {
      "cell_type": "code",
      "source": [
        "a=\"pyTHon pRograMiNg\"\n",
        "\n",
        "print(a.upper())                  # convert all the char in upper case\n",
        "print(a.lower())                  # convert all the char in lower case\n",
        "print(a.capitalize())             # convert first char in upper and remaining in lower case\n",
        "print(a.title())                  # convert first char of each word in upper and remaining all in lower case\n",
        "print(a.swapcase())               # swap the cases of all characters"
      ],
      "metadata": {
        "colab": {
          "base_uri": "https://localhost:8080/"
        },
        "id": "gaqBcGauvTDz",
        "outputId": "4a019f7b-eb94-406f-ae5c-4196d55b4a4b"
      },
      "execution_count": 1,
      "outputs": [
        {
          "output_type": "stream",
          "name": "stdout",
          "text": [
            "PYTHON PROGRAMING\n",
            "python programing\n",
            "Python programing\n",
            "Python Programing\n",
            "PYthON PrOGRAmInG\n"
          ]
        }
      ]
    },
    {
      "cell_type": "markdown",
      "source": [
        "Search and find methods"
      ],
      "metadata": {
        "id": "PunArLGIfxSJ"
      }
    },
    {
      "cell_type": "code",
      "source": [
        "new=\"python programing\"\n",
        "print(new.find(\"p\"))                     # find the index of character 'p'\n",
        "print(new.find(\"P\"))                     # return -1 bcz 'P' not found\n",
        "print(new.find(\"k\"))                     # return -1 bcz 'k' not found\n",
        "print(new.find(\"o\",3,15))                # find 'o' from index 3 to 14\n",
        "print(new.rfind(\"p\"))                    # find 'p' from right side\n",
        "print(new.rfind(\"n\",1,7))                # find 'n' from index 1 to 6 from right side\n",
        "print(new.rfind(\"n\",8,10))               # return -1 bcz 'n' is not found on index 8 to 9\n",
        "print(new.find(\"g\",11,16))               # return -1 bcz 'g' is not found on index 8 to 9\n",
        "print(new.index(\"n\"))                    # return index on 'n'\n",
        "# print(new.index(\"n\",10,14))            # return error bcz 'n' is not found on index 10 to 13\n",
        "print(new.rindex(\"o\",1,6))               # search 'o' from right side on index 1 to 5"
      ],
      "metadata": {
        "colab": {
          "base_uri": "https://localhost:8080/"
        },
        "id": "JrXi5_nn3n4i",
        "outputId": "605ef7a2-9cdb-427d-a5df-fb0ef815a6e5"
      },
      "execution_count": 9,
      "outputs": [
        {
          "output_type": "stream",
          "name": "stdout",
          "text": [
            "0\n",
            "-1\n",
            "-1\n",
            "4\n",
            "7\n",
            "5\n",
            "-1\n",
            "-1\n",
            "5\n",
            "4\n"
          ]
        }
      ]
    },
    {
      "cell_type": "code",
      "source": [
        "new=\"python programing\"\n",
        "print(new.startswith(\"p\"))                 # check whether the string starts with \"p\" or not\n",
        "print(new.startswith(\"pyt\"))               # check whether the string starts with \"pyt\" or not\n",
        "print(new.startswith(\"ptn\"))               # check whether the string starts with \"ptn\" or not\n",
        "print(new.startswith(\"p\",3,10))            # check from index 3 to 9 whether the string starts with \"p\" or not\n",
        "print(new.endswith(\"ing\"))                 # check whether the string ends with \"ing\" or not\n",
        "print(new.endswith(\"ning\"))                # check whether the string ends with \"ning\" or not\n",
        "print(new.endswith(\"ing\",2,6))             # check from index 2 to 5 whether the string ends with \"ing\" or not\n"
      ],
      "metadata": {
        "id": "WLguFMNH4i9W",
        "colab": {
          "base_uri": "https://localhost:8080/"
        },
        "outputId": "e24c1ede-172e-4ee1-9117-476c7a13c1dd"
      },
      "execution_count": 14,
      "outputs": [
        {
          "output_type": "stream",
          "name": "stdout",
          "text": [
            "True\n",
            "False\n",
            "False\n",
            "2\n",
            "1\n"
          ]
        }
      ]
    },
    {
      "cell_type": "code",
      "source": [
        "new=\"python programing\"\n",
        "print(new.count(\"p\"))                  # count 'p' in the string\n",
        "print(new.count(\"p\",1,16))             # count from index 1 to 15 \"p\" in the string"
      ],
      "metadata": {
        "colab": {
          "base_uri": "https://localhost:8080/"
        },
        "id": "01R2GB7mi7gj",
        "outputId": "1d4e7306-ad1c-4125-ad93-8416c10cdc03"
      },
      "execution_count": 15,
      "outputs": [
        {
          "output_type": "stream",
          "name": "stdout",
          "text": [
            "2\n",
            "1\n"
          ]
        }
      ]
    },
    {
      "cell_type": "markdown",
      "source": [
        "check methods (these methods return boolean (True/False))"
      ],
      "metadata": {
        "id": "dfkDGB3Wjskg"
      }
    },
    {
      "cell_type": "code",
      "source": [
        "print(\"7878\".isnumeric())              # if string contain all the characters from 0-9 then true\n",
        "print(\"78b8\".isnumeric())              # if string contain all the characters from 0-9 then true\n",
        "print(\"787sds8\".isnumeric())           # if string contain all the characters from 0-9 then true\n",
        "print(\"fhdhfd33\".isalpha())            # if string contain all the characters (alphabetic) then true\n",
        "print(\"fhhjADA\".isalpha())             # if string contain all the characters (alphabetic) then true\n",
        "print(\"78hjhASA\".isalnum())            # if string contain all the characters (alphabetic) or 0-9 then true\n",
        "print(\"78hjh###\".isalnum())            # if string contain all the characters (alphabetic) or 0-9 then true\n",
        "print(\"78\".isalnum())                  # if string contain all the characters from 0-9 then true\n",
        "print(\"343\".isdigit())                 # if string contain all the characters from 0-9 then true\n",
        "print(\"343\".isdecimal())               # if string contain all the characters from 0-9 then true\n",
        "print(\"Python Is Very Easy\".istitle()) # if first char of each word in string is upper all the remaining are lower then return True othewise False"
      ],
      "metadata": {
        "colab": {
          "base_uri": "https://localhost:8080/"
        },
        "id": "AADbx40h9Ebu",
        "outputId": "c7f45af3-f0a6-45ec-bbbe-87fdc5a17b19"
      },
      "execution_count": 28,
      "outputs": [
        {
          "output_type": "stream",
          "name": "stdout",
          "text": [
            "True\n",
            "False\n",
            "False\n",
            "False\n",
            "True\n",
            "True\n",
            "False\n",
            "True\n",
            "True\n",
            "True\n",
            "True\n"
          ]
        }
      ]
    },
    {
      "cell_type": "markdown",
      "source": [
        "Modification methods"
      ],
      "metadata": {
        "id": "i03-397BmtD7"
      }
    },
    {
      "cell_type": "code",
      "source": [
        "print(\"  Hamza  \".strip())             # remove the space from start and stop\n",
        "\n",
        "name=\"  #  #Hamza##\"\n",
        "print(name.strip(\"#\"))                 # remove '#' from both sides\n",
        "\n",
        "name=\"    Hamza   \"\n",
        "print(name.lstrip())                   # remove space from left side\n",
        "print(name.rstrip())                   # remove space from right side\n",
        "\n",
        "name=\"  #  #Hamza##\"\n",
        "print(name.rstrip('#'))                # remove '#' from right side"
      ],
      "metadata": {
        "colab": {
          "base_uri": "https://localhost:8080/"
        },
        "id": "STn8cVJa-d7A",
        "outputId": "de6f3c1d-176f-4c61-939e-34bc61b69394"
      },
      "execution_count": 31,
      "outputs": [
        {
          "output_type": "stream",
          "name": "stdout",
          "text": [
            "Hamza\n",
            "  #  #Hamza\n",
            "Hamza   \n",
            "    Hamza\n",
            "  #  #Hamza\n"
          ]
        }
      ]
    },
    {
      "cell_type": "code",
      "source": [
        "new=\"python programingooo\"\n",
        "print(new.replace(\"o\",\"P\"))                # replace 'o' with 'p'\n",
        "print(new.replace(\"o\",\"J\",3))              # replace first 3 'o' with 'J'"
      ],
      "metadata": {
        "colab": {
          "base_uri": "https://localhost:8080/"
        },
        "id": "behQB7T-AIBt",
        "outputId": "10d4d056-83d0-4ace-e00b-8509fa474842"
      },
      "execution_count": 36,
      "outputs": [
        {
          "output_type": "stream",
          "name": "stdout",
          "text": [
            "pythPn prPgramingPPP\n",
            "pythJn prJgramingJoo\n"
          ]
        }
      ]
    },
    {
      "cell_type": "markdown",
      "source": [
        "Split methods"
      ],
      "metadata": {
        "id": "3FJUjPu1ouHF"
      }
    },
    {
      "cell_type": "code",
      "source": [
        "sen=\"I am learning Python\"\n",
        "print(sen.split())                                                              # convert all the words in element of list\n",
        "print(type(sen.split()))                                                        # data type of this output is list\n",
        "print(sen.split(\"a\"))                                                           # split on each 'a'\n",
        "print(sen.split(\"a\",1))                                                         # split on first 'a'\n",
        "print(sen.rsplit(\"a\",1))                                                        # split on first 'a' from right side\n",
        "sent=\"I am learning Python\\nPython is very easy\\nIt is used in AI\"\n",
        "print(sent.split('\\n'))                                                         # split on each '\\n'\n",
        "print(sent.splitlines())                                                        # split on each '\\n' or line\n",
        "print(sent.splitlines(True))                                                    # also write '\\n'\n"
      ],
      "metadata": {
        "colab": {
          "base_uri": "https://localhost:8080/"
        },
        "id": "9xT2Fo6gCiS9",
        "outputId": "337bb34d-a22d-41cf-9bcd-ee3de3b6fda3"
      },
      "execution_count": 49,
      "outputs": [
        {
          "output_type": "stream",
          "name": "stdout",
          "text": [
            "['I', 'am', 'learning', 'Python']\n",
            "<class 'list'>\n",
            "['I ', 'm le', 'rning Python']\n",
            "['I ', 'm learning Python']\n",
            "['I am le', 'rning Python']\n",
            "['I am learning Python', 'Python is very easy', 'It is used in AI']\n",
            "['I am learning Python', 'Python is very easy', 'It is used in AI']\n",
            "['I am learning Python\\n', 'Python is very easy\\n', 'It is used in AI']\n"
          ]
        }
      ]
    },
    {
      "cell_type": "code",
      "source": [
        "name=\"Hamza\"\n",
        "print(name.partition(\"m\"))                                  # split in 3 elements\n",
        "print(type(name.partition(\"m\")))                            # return the output in tuple\n",
        "print(name.partition(\"a\"))                                  # split on first 'a'\n",
        "print(name.partition(\"H\"))                                  # split the targeted char in middle\n",
        "print(name.rpartition(\"a\"))                                 # split on first 'a' from right side"
      ],
      "metadata": {
        "colab": {
          "base_uri": "https://localhost:8080/"
        },
        "id": "YRzObLkfDccf",
        "outputId": "eb6abec9-7a91-4eb0-dce6-8853fcd19540"
      },
      "execution_count": 55,
      "outputs": [
        {
          "output_type": "stream",
          "name": "stdout",
          "text": [
            "('Ha', 'm', 'za')\n",
            "<class 'tuple'>\n",
            "('H', 'a', 'mza')\n",
            "('', 'H', 'amza')\n",
            "('Hamz', 'a', '')\n"
          ]
        }
      ]
    },
    {
      "cell_type": "code",
      "source": [
        "a=\"90\"\n",
        "print(a.zfill(3))           # Make the length of string 3 so, it will add one zero in start"
      ],
      "metadata": {
        "colab": {
          "base_uri": "https://localhost:8080/"
        },
        "id": "SH8EOFxmFxd6",
        "outputId": "aaa97a66-9303-4900-f894-606cbb595c96"
      },
      "execution_count": null,
      "outputs": [
        {
          "output_type": "stream",
          "name": "stdout",
          "text": [
            "090\n"
          ]
        }
      ]
    },
    {
      "cell_type": "code",
      "source": [],
      "metadata": {
        "id": "CCpwHbsXHVqZ"
      },
      "execution_count": null,
      "outputs": []
    }
  ]
}