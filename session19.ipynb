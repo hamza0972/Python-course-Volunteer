{
  "nbformat": 4,
  "nbformat_minor": 0,
  "metadata": {
    "colab": {
      "provenance": [],
      "authorship_tag": "ABX9TyMMgD1AOPjIHsHE+Z5Y6kCP",
      "include_colab_link": true
    },
    "kernelspec": {
      "name": "python3",
      "display_name": "Python 3"
    },
    "language_info": {
      "name": "python"
    }
  },
  "cells": [
    {
      "cell_type": "markdown",
      "metadata": {
        "id": "view-in-github",
        "colab_type": "text"
      },
      "source": [
        "<a href=\"https://colab.research.google.com/github/hamza0972/Python-course-Volunteer/blob/main/session19.ipynb\" target=\"_parent\"><img src=\"https://colab.research.google.com/assets/colab-badge.svg\" alt=\"Open In Colab\"/></a>"
      ]
    },
    {
      "cell_type": "markdown",
      "source": [
        "enumerate in set"
      ],
      "metadata": {
        "id": "hCjLGk2rYs87"
      }
    },
    {
      "cell_type": "code",
      "source": [
        "# Define two sets\n",
        "s1, s2 = {1, 2, 3, 4}, {3, 4, 5, 6, 7, 8}\n",
        "\n",
        "# Print set s1\n",
        "print(s1)   # Output: {1, 2, 3, 4} (order may vary because sets are unordered)\n",
        "\n",
        "# Example of using enumerate with a set\n",
        "\n",
        "for i, j in enumerate(s1):\n",
        "    print(i, j)       # i = index, j = element from s1\n",
        "    print(s1)         # prints entire set each time\n",
        "    print(type(s1))   # shows type 'set'\n",
        "\n"
      ],
      "metadata": {
        "colab": {
          "base_uri": "https://localhost:8080/"
        },
        "id": "hHzkJr7PFFMq",
        "outputId": "9270d36e-59c6-42ed-affd-01d8bc1a1c2c"
      },
      "execution_count": 2,
      "outputs": [
        {
          "output_type": "stream",
          "name": "stdout",
          "text": [
            "{1, 2, 3, 4}\n",
            "0 1\n",
            "{1, 2, 3, 4}\n",
            "<class 'set'>\n",
            "1 2\n",
            "{1, 2, 3, 4}\n",
            "<class 'set'>\n",
            "2 3\n",
            "{1, 2, 3, 4}\n",
            "<class 'set'>\n",
            "3 4\n",
            "{1, 2, 3, 4}\n",
            "<class 'set'>\n"
          ]
        }
      ]
    },
    {
      "cell_type": "markdown",
      "source": [
        "operations"
      ],
      "metadata": {
        "id": "MxQTRDZ24v_o"
      }
    },
    {
      "cell_type": "code",
      "source": [
        "# Define 2 sets\n",
        "s1, s2 = {1, 2, 3, 4, 5, 6}, {3, 4, 5, 6, 7, 8}\n",
        "\n",
        "# UNION: Elements that are in either s1 or s2\n",
        "print(\"union\", s1 | s2)\n",
        "print(s1.union(s2))\n",
        "\n",
        "# INTERSECTION: Elements common in both s1 and s2\n",
        "print(\"intersection\", s1 & s2)\n",
        "print(s1.intersection(s2))\n",
        "\n",
        "# DIFFERENCE: Elements in s1 but not in s2\n",
        "print(s1 - s2)\n",
        "print(s1.difference(s2))\n",
        "\n",
        "# SYMMETRIC DIFFERENCE: Elements in s1 or s2 but not in both\n",
        "print(s1 ^ s2)\n",
        "print(s1.symmetric_difference(s2))\n"
      ],
      "metadata": {
        "colab": {
          "base_uri": "https://localhost:8080/"
        },
        "id": "7BsVQRXJ4qK-",
        "outputId": "82384263-e937-45ea-e32b-e84b440a9a48"
      },
      "execution_count": 6,
      "outputs": [
        {
          "output_type": "stream",
          "name": "stdout",
          "text": [
            "union {1, 2, 3, 4, 5, 6, 7, 8}\n",
            "{1, 2, 3, 4, 5, 6, 7, 8}\n",
            "intersection {3, 4, 5, 6}\n",
            "{3, 4, 5, 6}\n",
            "{1, 2}\n",
            "{1, 2}\n",
            "{1, 2, 7, 8}\n",
            "{1, 2, 7, 8}\n"
          ]
        }
      ]
    },
    {
      "cell_type": "markdown",
      "source": [
        "copy()"
      ],
      "metadata": {
        "id": "AGPAwO125Exn"
      }
    },
    {
      "cell_type": "code",
      "source": [
        "# Create a set s2\n",
        "s2 = {1, 2, 3, 4}\n",
        "\n",
        "# Make a copy of s2 and store in 'new'\n",
        "new = s2.copy()\n",
        "\n",
        "# At this point:\n",
        "# s2 = {1, 2, 3, 4}\n",
        "# new = {1, 2, 3, 4}\n",
        "\n",
        "# Add an element (10) to s2\n",
        "s2.add(10)\n",
        "\n",
        "# Now s2 = {1, 2, 3, 4, 10}\n",
        "\n",
        "# Print updated s2\n",
        "print(s2)   # Output: {1, 2, 3, 4, 10}\n",
        "\n",
        "# Print 'new' (copy remains unchanged)\n",
        "print(new)  # Output: {1, 2, 3, 4}\n"
      ],
      "metadata": {
        "colab": {
          "base_uri": "https://localhost:8080/"
        },
        "id": "r4-VMaZZFoVU",
        "outputId": "778bfce1-3928-469f-9da3-65bc3e92fdc8"
      },
      "execution_count": null,
      "outputs": [
        {
          "output_type": "stream",
          "name": "stdout",
          "text": [
            "{1, 2, 3, 4, 10}\n",
            "{1, 2, 3, 4}\n"
          ]
        }
      ]
    },
    {
      "cell_type": "code",
      "source": [
        "# Create a set s2\n",
        "s2 = {1, 2, 3, 4}\n",
        "\n",
        "# Assign 'new' to reference the SAME set object as s2\n",
        "new = s2\n",
        "\n",
        "# Add element 10 to s2\n",
        "s2.add(10)\n",
        "\n",
        "# Now both 's2' and 'new' point to the same set in memory\n",
        "# So any change in one will reflect in the other\n",
        "\n",
        "print(s2)   # Output: {1, 2, 3, 4, 10}\n",
        "print(new)  # Output: {1, 2, 3, 4, 10}\n"
      ],
      "metadata": {
        "colab": {
          "base_uri": "https://localhost:8080/"
        },
        "id": "Sd6FcTDLIWC_",
        "outputId": "c2391445-d8aa-4286-beaf-e2fabe27e478"
      },
      "execution_count": null,
      "outputs": [
        {
          "output_type": "stream",
          "name": "stdout",
          "text": [
            "{1, 2, 3, 4, 10}\n",
            "{1, 2, 3, 4, 10}\n"
          ]
        }
      ]
    },
    {
      "cell_type": "markdown",
      "source": [
        "subset"
      ],
      "metadata": {
        "id": "bvMJSzDP5qB_"
      }
    },
    {
      "cell_type": "code",
      "source": [
        "# Define two sets\n",
        "s1 = {1, 2, 3, 4, 9, 5}\n",
        "s2 = {1, 2, 3, 4, 5}\n",
        "\n",
        "# Check if s1 is a subset of s2\n",
        "# The operator <= means: \"Are all elements of s1 also in s2?\"\n",
        "print(s1 <= s2)   # False, because 9 is in s1 but not in s2\n"
      ],
      "metadata": {
        "colab": {
          "base_uri": "https://localhost:8080/"
        },
        "id": "VOO6kX_JJNDd",
        "outputId": "d549259e-8056-4311-d69f-1409e5e70f34"
      },
      "execution_count": null,
      "outputs": [
        {
          "output_type": "stream",
          "name": "stdout",
          "text": [
            "False\n"
          ]
        }
      ]
    },
    {
      "cell_type": "code",
      "source": [
        "s1 = set()              # Create an empty set\n",
        "s2 = {1, 2, 3, 4, 5}    # Create a set with elements 1–5\n",
        "\n",
        "# Check if s1 is a subset of s2\n",
        "# Rule: An empty set is always a subset of any set\n",
        "print(s1 <= s2)   # Output: True\n"
      ],
      "metadata": {
        "colab": {
          "base_uri": "https://localhost:8080/"
        },
        "id": "SxdWDVoyJ5pw",
        "outputId": "25e973e0-eb41-4725-9917-eba70590040b"
      },
      "execution_count": null,
      "outputs": [
        {
          "output_type": "stream",
          "name": "stdout",
          "text": [
            "True\n"
          ]
        }
      ]
    },
    {
      "cell_type": "markdown",
      "source": [
        "Proper Subset"
      ],
      "metadata": {
        "id": "Rx-PKZPf6Mik"
      }
    },
    {
      "cell_type": "code",
      "source": [
        "# Define two sets\n",
        "s1 = {1, 2, 3, 4, 5}\n",
        "s2 = {1, 2, 3, 4, 5}\n",
        "\n",
        "# The operator < checks if s1 is a PROPER subset of s2\n",
        "# Meaning:\n",
        "#   1) All elements of s1 must be in s2\n",
        "#   2) And s1 must NOT be equal to s2 (must be strictly smaller)\n",
        "\n",
        "print(s1 < s2)   # False\n"
      ],
      "metadata": {
        "colab": {
          "base_uri": "https://localhost:8080/"
        },
        "id": "SMTrFBkfLUfl",
        "outputId": "09946cc2-5260-470e-da9b-f9ef3048597f"
      },
      "execution_count": 11,
      "outputs": [
        {
          "output_type": "stream",
          "name": "stdout",
          "text": [
            "False\n"
          ]
        }
      ]
    },
    {
      "cell_type": "code",
      "source": [
        "# Create an empty set\n",
        "s1 = set()\n",
        "\n",
        "# Create a non-empty set\n",
        "s2 = {1, 2, 3, 4, 5}\n",
        "\n",
        "# The operator < checks if s1 is a PROPER subset of s2\n",
        "# Rule for proper subset:\n",
        "#   1) All elements of s1 must be in s2\n",
        "#   2) s1 must NOT be equal to s2 (must be strictly smaller)\n",
        "\n",
        "print(s1 < s2)   # Output: True\n"
      ],
      "metadata": {
        "colab": {
          "base_uri": "https://localhost:8080/"
        },
        "id": "3Cek9ji0MAoB",
        "outputId": "6fc06725-1b07-456b-96d2-242c910ff832"
      },
      "execution_count": 12,
      "outputs": [
        {
          "output_type": "stream",
          "name": "stdout",
          "text": [
            "True\n"
          ]
        }
      ]
    },
    {
      "cell_type": "markdown",
      "source": [
        "Issuperset()"
      ],
      "metadata": {
        "id": "5mC6S47T6-9z"
      }
    },
    {
      "cell_type": "code",
      "source": [
        "# Define two sets\n",
        "s1 = {1, 2, 3}\n",
        "s2 = {1, 2, 3, 4, 5}\n",
        "\n",
        "# The operator >= checks if s1 is a SUPERSUBSET of s2\n",
        "# Meaning:\n",
        "#   1) All elements of s2 must be in s1\n",
        "#   2) s1 can be equal to s2 or larger\n",
        "\n",
        "print(s1 >= s2)   # Output: False\n"
      ],
      "metadata": {
        "colab": {
          "base_uri": "https://localhost:8080/"
        },
        "id": "LKGgPnoFMVSv",
        "outputId": "cefcfcc3-0490-4a91-ea03-6d6d5e8fba7c"
      },
      "execution_count": 13,
      "outputs": [
        {
          "output_type": "stream",
          "name": "stdout",
          "text": [
            "False\n"
          ]
        }
      ]
    },
    {
      "cell_type": "code",
      "source": [
        "# Define two sets\n",
        "s1 = {1, 2, 3, 4, 5, 6, 7}\n",
        "s2 = {1, 2, 3, 4, 5}\n",
        "\n",
        "# The operator >= checks if s1 is a SUPERSET of s2\n",
        "# Rule: All elements of s2 must be present in s1\n",
        "\n",
        "print(s1 >= s2)   # Output: True\n"
      ],
      "metadata": {
        "colab": {
          "base_uri": "https://localhost:8080/"
        },
        "id": "qtVu2QKGMlow",
        "outputId": "4b4e5d9a-414a-4b9a-98d6-65f3a12956f1"
      },
      "execution_count": 14,
      "outputs": [
        {
          "output_type": "stream",
          "name": "stdout",
          "text": [
            "True\n"
          ]
        }
      ]
    },
    {
      "cell_type": "markdown",
      "source": [
        "Proper Superset"
      ],
      "metadata": {
        "id": "bDZmX_s27krF"
      }
    },
    {
      "cell_type": "code",
      "source": [
        "# Define two sets\n",
        "s1 = {1, 2, 3, 4, 5, 6, 7}\n",
        "s2 = {1, 2, 3, 4, 5}\n",
        "\n",
        "# The operator > checks if s1 is a PROPER SUPERSET of s2\n",
        "# Rule:\n",
        "#   1) All elements of s2 must be in s1\n",
        "#   2) s1 must have at least one extra element not in s2\n",
        "\n",
        "print(s1 > s2)   # Output: True\n"
      ],
      "metadata": {
        "colab": {
          "base_uri": "https://localhost:8080/"
        },
        "id": "YuhlF-5cM37k",
        "outputId": "1ca32eb3-63fd-444f-8adf-a47684ca17f0"
      },
      "execution_count": 15,
      "outputs": [
        {
          "output_type": "stream",
          "name": "stdout",
          "text": [
            "True\n"
          ]
        }
      ]
    },
    {
      "cell_type": "markdown",
      "source": [
        "PROPER SUPERSET"
      ],
      "metadata": {
        "id": "4zPYJMcAAozz"
      }
    },
    {
      "cell_type": "code",
      "source": [
        "# Define two equal sets\n",
        "s1 = {1, 2, 3, 4, 5}\n",
        "s2 = {1, 2, 3, 4, 5}\n",
        "\n",
        "# The operator > checks if s1 is a PROPER SUPERSET of s2\n",
        "# Rule:\n",
        "#   1) All elements of s2 must be in s1\n",
        "#   2) s1 must have at least one EXTRA element not in s2\n",
        "\n",
        "print(s1 > s2)   # Output: False\n"
      ],
      "metadata": {
        "colab": {
          "base_uri": "https://localhost:8080/"
        },
        "id": "sTVrVyuDOIks",
        "outputId": "2585c6e8-36c0-405a-a463-d20efaa1e6cd"
      },
      "execution_count": 16,
      "outputs": [
        {
          "output_type": "stream",
          "name": "stdout",
          "text": [
            "False\n"
          ]
        }
      ]
    },
    {
      "cell_type": "markdown",
      "source": [
        "PROPER SUPERSET"
      ],
      "metadata": {
        "id": "l6sSCPooAmNp"
      }
    },
    {
      "cell_type": "code",
      "source": [
        "# Define two sets\n",
        "s1 = {1, 2, 3}\n",
        "s2 = {1, 2, 3, 4, 5}\n",
        "\n",
        "# The operator > checks if s1 is a PROPER SUPERSET of s2\n",
        "# Rule:\n",
        "#   1) All elements of s2 must be inside s1\n",
        "#   2) s1 must have at least one extra element\n",
        "\n",
        "print(s1 > s2)   # Output: False\n"
      ],
      "metadata": {
        "colab": {
          "base_uri": "https://localhost:8080/"
        },
        "id": "aenXnxwZOM6w",
        "outputId": "d7922c4b-95bb-4235-d6bb-17142a3c7568"
      },
      "execution_count": 17,
      "outputs": [
        {
          "output_type": "stream",
          "name": "stdout",
          "text": [
            "False\n"
          ]
        }
      ]
    },
    {
      "cell_type": "markdown",
      "source": [
        "disjoint set"
      ],
      "metadata": {
        "id": "m5wE68P5AfY8"
      }
    },
    {
      "cell_type": "code",
      "source": [
        "# Define two sets\n",
        "s1 = {7, 6}\n",
        "s2 = {1, 2, 3, 4, 5}\n",
        "\n",
        "# isdisjoint() returns True if the two sets have NO common elements\n",
        "print(s1.isdisjoint(s2))   # Output: True\n"
      ],
      "metadata": {
        "colab": {
          "base_uri": "https://localhost:8080/"
        },
        "id": "lbkDMaoEOaVV",
        "outputId": "fe58bf40-d749-4565-8028-f710333e3929"
      },
      "execution_count": 18,
      "outputs": [
        {
          "output_type": "stream",
          "name": "stdout",
          "text": [
            "True\n"
          ]
        }
      ]
    },
    {
      "cell_type": "markdown",
      "source": [
        "frozen set"
      ],
      "metadata": {
        "id": "S67_aJGqAdGg"
      }
    },
    {
      "cell_type": "code",
      "source": [
        "# Define a set\n",
        "s2 = {1, 2, 3, 4, 5}\n",
        "\n",
        "# Convert set into a frozenset (an immutable set)\n",
        "new = frozenset(s2)\n",
        "\n",
        "# Try to add an element to frozenset\n",
        "# new.add(9)   # This will cause an AttributeError\n",
        "\n",
        "print(new)\n"
      ],
      "metadata": {
        "id": "-KotnhDPO7tI",
        "colab": {
          "base_uri": "https://localhost:8080/"
        },
        "outputId": "daa598b9-044e-4881-a0b9-fa187029897b"
      },
      "execution_count": 21,
      "outputs": [
        {
          "output_type": "stream",
          "name": "stdout",
          "text": [
            "frozenset({1, 2, 3, 4, 5})\n"
          ]
        }
      ]
    },
    {
      "cell_type": "markdown",
      "source": [
        "access the element by index"
      ],
      "metadata": {
        "id": "CTg88F-UAZIW"
      }
    },
    {
      "cell_type": "code",
      "source": [
        "s2 = {1, 2, 3, 4, 5}\n",
        "\n",
        "\n",
        "# s2[3] = 'A'\n",
        "\n",
        "\n",
        "# This will give an error:\n",
        "# TypeError: 'set' object does not support item assignment\n",
        "# Reason: Sets are unordered and unindexed,\n",
        "# so we cannot access or modify elements by index.\n",
        "\n",
        "\n",
        "\n"
      ],
      "metadata": {
        "id": "rxlmnw7sP5N6"
      },
      "execution_count": 23,
      "outputs": []
    },
    {
      "cell_type": "markdown",
      "source": [
        "Write a Python program to check whether a given sentence is a pangram or not.\n",
        "\n",
        "A pangram is a sentence that contains all 26 letters of the English alphabet at least once.\n",
        "\n",
        "For example:\n",
        "\n",
        "✅ \"The quick brown fox jumps over the lazy dog\" is a pangram.\n",
        "\n",
        "❌ \"Hello world\" is not a pangram.\n"
      ],
      "metadata": {
        "id": "NEgwenH2_9HQ"
      }
    },
    {
      "cell_type": "code",
      "source": [
        "# Take input from user and convert it to lowercase\n",
        "s = input('Enter a string ').lower()\n",
        "\n",
        "# Convert the input string into a set of unique characters\n",
        "input_data = set(s)\n",
        "# print(input_data)   # Debug: shows all unique characters entered\n",
        "\n",
        "# Define a string containing all lowercase alphabets\n",
        "pangram = \"abcdefghijklmnopqrstuvwxyz\"\n",
        "\n",
        "# Convert the alphabet string into a set\n",
        "pangram_set = set(pangram)\n",
        "\n",
        "# Check if input_data contains ALL the alphabets (pangram_set)\n",
        "# Using >= means: input_data is a superset of pangram_set\n",
        "if (input_data >= pangram_set):\n",
        "    print(\"The given string is Pangram\")   # Contains all alphabets\n",
        "else:\n",
        "    print(\"The string is not Pangram\")     # Missing some alphabets\n"
      ],
      "metadata": {
        "colab": {
          "base_uri": "https://localhost:8080/"
        },
        "id": "io_9qAQhQcj9",
        "outputId": "cc339c87-fdc4-46f7-d95b-a4f9d57821b1"
      },
      "execution_count": 27,
      "outputs": [
        {
          "output_type": "stream",
          "name": "stdout",
          "text": [
            "Enter a string book\n",
            "The string is not Pangram\n"
          ]
        }
      ]
    },
    {
      "cell_type": "code",
      "source": [],
      "metadata": {
        "id": "wXhPECZmTcBx"
      },
      "execution_count": null,
      "outputs": []
    }
  ]
}