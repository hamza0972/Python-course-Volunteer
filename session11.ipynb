{
  "nbformat": 4,
  "nbformat_minor": 0,
  "metadata": {
    "colab": {
      "provenance": [],
      "authorship_tag": "ABX9TyOfyAa1deJ/eLzd3FYJKgBr",
      "include_colab_link": true
    },
    "kernelspec": {
      "name": "python3",
      "display_name": "Python 3"
    },
    "language_info": {
      "name": "python"
    }
  },
  "cells": [
    {
      "cell_type": "markdown",
      "metadata": {
        "id": "view-in-github",
        "colab_type": "text"
      },
      "source": [
        "<a href=\"https://colab.research.google.com/github/hamza0972/Python-course-Volunteer/blob/main/session11.ipynb\" target=\"_parent\"><img src=\"https://colab.research.google.com/assets/colab-badge.svg\" alt=\"Open In Colab\"/></a>"
      ]
    },
    {
      "cell_type": "markdown",
      "source": [
        "Take a string from the user. check if the string is empty or not"
      ],
      "metadata": {
        "id": "bay9-E2_DfZg"
      }
    },
    {
      "cell_type": "code",
      "source": [
        "# st=input(\"enter\")\n",
        "# if st==\"\":\n",
        "#   print(\"empty\")\n",
        "# else:\n",
        "#   print(\"not empty\")\n",
        "\n",
        "\n",
        "#take input from the user\n",
        "st=input(\"enter a string \")\n",
        "\n",
        "# check if the user entered something or not\n",
        "if st:\n",
        "  print(\"You entered\",st)\n",
        "else:\n",
        "  print(\"You entered nothing\")"
      ],
      "metadata": {
        "colab": {
          "base_uri": "https://localhost:8080/"
        },
        "id": "hBqlCpSLnOHf",
        "outputId": "228b0909-0343-487b-81f3-1b2ebe4970aa"
      },
      "execution_count": 122,
      "outputs": [
        {
          "output_type": "stream",
          "name": "stdout",
          "text": [
            "enter a string 89\n",
            "You entered 89\n"
          ]
        }
      ]
    },
    {
      "cell_type": "markdown",
      "source": [
        "Problem 5: Take a number from the user as input and check whether the number is positive, negative, or zero.\n",
        "\n",
        "If the number is positive:\n",
        "\n",
        "Determine whether it is even or odd.\n",
        "\n",
        "If even:\n",
        "\n",
        "Check whether it is divisible by 4 and divisible by 12.\n",
        "\n",
        "If yes, add 10 to the number and print the updated value.\n",
        "\n",
        "If odd:\n",
        "\n",
        "Multiply the number by 3 and print the updated value.\n",
        "\n",
        "Then check whether the new value is greater than 30 and print the result.\n",
        "\n",
        "If the number is negative:\n",
        "\n",
        "Determine whether it is even or odd.\n",
        "\n",
        "If even:\n",
        "\n",
        "Check whether it is less than -10 or greater than or equal to -10 and print the result.\n",
        "\n",
        "If odd:\n",
        "\n",
        "Multiply the number by 2 and print the updated value.\n",
        "\n",
        "If the number is zero, simply print: \"The number is zero\".\n",
        "\n",
        "Note: Print the number’s value and all intermediate results at each step."
      ],
      "metadata": {
        "id": "oN1W4gHjEEWY"
      }
    },
    {
      "cell_type": "code",
      "source": [
        "# take input from the user\n",
        "num=int(input(\"enter a number\"))\n",
        "# check if the number is positive\n",
        "if num>0:\n",
        "  print(\"positive\")\n",
        "#check if the number is even\n",
        "  if num%2==0:\n",
        "    print(\"even\")\n",
        "#check if the number is divisible by 4 and 12\n",
        "    if num%4==0 and num%12==0:\n",
        "      num+=10\n",
        "      print(\"updated value is\",num)\n",
        "# check if the number is odd\n",
        "  else:\n",
        "    print(\"odd\")\n",
        "    print(num*3)\n",
        "# check if the number is negative\n",
        "elif num<0:\n",
        "# check if the number is even\n",
        "  if num%2==0:\n",
        "    print(\"even\")\n",
        "# check if the number is less then -10\n",
        "    if num<-10:\n",
        "      print(\"less then -10\")\n",
        "# check if the number is greater then -10\n",
        "    elif num>-10:\n",
        "      print(\"greater then -10\")\n",
        "# check if the number is equal to -10\n",
        "    else:\n",
        "      print(\"equal to -10\")\n",
        "# check if the number is odd\n",
        "  else:\n",
        "    print(\"odd\")\n",
        "    print(num*2)\n",
        "# check if the number is equal to zero\n",
        "else:\n",
        "  print(\"the number is equal to 0\")"
      ],
      "metadata": {
        "colab": {
          "base_uri": "https://localhost:8080/"
        },
        "id": "6ngjZN1qnZ9v",
        "outputId": "1ac5786a-6cf4-4d95-98de-57e29e6bcc66"
      },
      "execution_count": 75,
      "outputs": [
        {
          "output_type": "stream",
          "name": "stdout",
          "text": [
            "enter a number36\n",
            "positive\n",
            "even\n",
            "updated value is 46\n"
          ]
        }
      ]
    },
    {
      "cell_type": "markdown",
      "source": [
        "#built in functions of int"
      ],
      "metadata": {
        "id": "tXquFITxFIgO"
      }
    },
    {
      "cell_type": "code",
      "source": [
        "print(bin(3))\n",
        "print(bin(567))"
      ],
      "metadata": {
        "colab": {
          "base_uri": "https://localhost:8080/"
        },
        "id": "7wc_OZYmqQUc",
        "outputId": "57ab8e42-df53-43e3-bbb4-8578f22fd65f"
      },
      "execution_count": 77,
      "outputs": [
        {
          "output_type": "stream",
          "name": "stdout",
          "text": [
            "0b11\n",
            "0b1000110111\n"
          ]
        }
      ]
    },
    {
      "cell_type": "code",
      "source": [
        "a=79\n",
        "bin_a=bin(a)\n",
        "\n",
        "print(type(bin_a))\n"
      ],
      "metadata": {
        "colab": {
          "base_uri": "https://localhost:8080/"
        },
        "id": "JCG-gq-vqp71",
        "outputId": "7052c526-146b-4966-a2a9-23728a6829c5"
      },
      "execution_count": 123,
      "outputs": [
        {
          "output_type": "stream",
          "name": "stdout",
          "text": [
            "<class 'str'>\n"
          ]
        }
      ]
    },
    {
      "cell_type": "code",
      "source": [
        "b=oct(a)\n",
        "print(b)\n",
        "print(type(b))"
      ],
      "metadata": {
        "colab": {
          "base_uri": "https://localhost:8080/"
        },
        "id": "sB4OI6qyFQqR",
        "outputId": "08012619-337b-42ed-fed7-9d892282956c"
      },
      "execution_count": 126,
      "outputs": [
        {
          "output_type": "stream",
          "name": "stdout",
          "text": [
            "0o117\n",
            "<class 'str'>\n"
          ]
        }
      ]
    },
    {
      "cell_type": "code",
      "source": [
        "a=7899\n",
        "print(hex(a))"
      ],
      "metadata": {
        "colab": {
          "base_uri": "https://localhost:8080/"
        },
        "id": "GEzg5iJvsN0I",
        "outputId": "5865f650-7266-4725-e546-055df9093c28"
      },
      "execution_count": 88,
      "outputs": [
        {
          "output_type": "stream",
          "name": "stdout",
          "text": [
            "0x1edb\n"
          ]
        }
      ]
    },
    {
      "cell_type": "code",
      "source": [
        "print(abs(-9))\n",
        "print(abs(9))"
      ],
      "metadata": {
        "colab": {
          "base_uri": "https://localhost:8080/"
        },
        "id": "2dvukyC3tpkN",
        "outputId": "b6a0f5bc-3ac8-4ac9-e5b3-dd0fcb4ce5f3"
      },
      "execution_count": 89,
      "outputs": [
        {
          "output_type": "stream",
          "name": "stdout",
          "text": [
            "9\n",
            "9\n"
          ]
        }
      ]
    },
    {
      "cell_type": "code",
      "source": [
        "print(divmod(45,4))"
      ],
      "metadata": {
        "colab": {
          "base_uri": "https://localhost:8080/"
        },
        "id": "xHw_-rpYulg3",
        "outputId": "4951a638-3589-4fec-d09e-855cf5505f2b"
      },
      "execution_count": 90,
      "outputs": [
        {
          "output_type": "stream",
          "name": "stdout",
          "text": [
            "(11, 1)\n"
          ]
        }
      ]
    },
    {
      "cell_type": "code",
      "source": [
        "value=90.667\n",
        "print(round(value,0))\n",
        "print(round(value,-1))\n",
        "print(round(value,2))\n",
        "print(round(value,3))"
      ],
      "metadata": {
        "colab": {
          "base_uri": "https://localhost:8080/"
        },
        "id": "dD3LVowQu-zG",
        "outputId": "a48fea3c-671d-45ee-aebe-3cbabe5bac3c"
      },
      "execution_count": 127,
      "outputs": [
        {
          "output_type": "stream",
          "name": "stdout",
          "text": [
            "91.0\n",
            "90.0\n",
            "90.67\n",
            "90.667\n"
          ]
        }
      ]
    },
    {
      "cell_type": "code",
      "source": [
        "print(pow(4.90,3))"
      ],
      "metadata": {
        "colab": {
          "base_uri": "https://localhost:8080/"
        },
        "id": "QwfcD4OivuXo",
        "outputId": "ad5f96f7-82bc-4ef8-8571-738b180aa632"
      },
      "execution_count": 98,
      "outputs": [
        {
          "output_type": "stream",
          "name": "stdout",
          "text": [
            "117.64900000000003\n"
          ]
        }
      ]
    },
    {
      "cell_type": "markdown",
      "source": [
        "# built in functions of float"
      ],
      "metadata": {
        "id": "txprZf3VFsJC"
      }
    },
    {
      "cell_type": "code",
      "source": [
        "print(abs(-90.67))"
      ],
      "metadata": {
        "colab": {
          "base_uri": "https://localhost:8080/"
        },
        "id": "Fex6AQq0wJae",
        "outputId": "f273ac82-fe4a-4931-f220-43033ca8eb64"
      },
      "execution_count": 99,
      "outputs": [
        {
          "output_type": "stream",
          "name": "stdout",
          "text": [
            "90.67\n"
          ]
        }
      ]
    },
    {
      "cell_type": "code",
      "source": [
        "print(divmod(24.8989,6))"
      ],
      "metadata": {
        "colab": {
          "base_uri": "https://localhost:8080/"
        },
        "id": "gIzJqzq_wXSN",
        "outputId": "42c336db-7a45-455e-b6b9-66b89343125f"
      },
      "execution_count": 102,
      "outputs": [
        {
          "output_type": "stream",
          "name": "stdout",
          "text": [
            "(4.0, 0.8989000000000011)\n"
          ]
        }
      ]
    },
    {
      "cell_type": "markdown",
      "source": [
        "#built in functions of complex"
      ],
      "metadata": {
        "id": "3sdHGj1SGVob"
      }
    },
    {
      "cell_type": "code",
      "source": [
        "a=8j\n",
        "print(a.real)\n",
        "print(a.imag)"
      ],
      "metadata": {
        "colab": {
          "base_uri": "https://localhost:8080/"
        },
        "id": "AQ9fyli0GoYB",
        "outputId": "c045b1be-9f7c-4b1e-db01-f00e61106723"
      },
      "execution_count": 135,
      "outputs": [
        {
          "output_type": "stream",
          "name": "stdout",
          "text": [
            "0.0\n",
            "8.0\n"
          ]
        }
      ]
    },
    {
      "cell_type": "code",
      "source": [
        "a=90+8j\n",
        "print(a.conjugate())\n"
      ],
      "metadata": {
        "colab": {
          "base_uri": "https://localhost:8080/"
        },
        "id": "xuBtdUArwdij",
        "outputId": "cd469680-093a-4b78-e529-7d237bc688a4"
      },
      "execution_count": 104,
      "outputs": [
        {
          "output_type": "stream",
          "name": "stdout",
          "text": [
            "(90-8j)\n"
          ]
        }
      ]
    },
    {
      "cell_type": "code",
      "source": [
        "b=-18j\n",
        "print(b.conjugate())\n",
        "# Since we didn’t specify a real part in the variable b.\n",
        "# so, Python shows it as -0 but in Python 0 and -0 are the same, so don’t worry about it"
      ],
      "metadata": {
        "colab": {
          "base_uri": "https://localhost:8080/"
        },
        "id": "2MGCD7i0xhdh",
        "outputId": "a2f2a745-a0ba-406b-d4cb-9cd7b41937e4"
      },
      "execution_count": 128,
      "outputs": [
        {
          "output_type": "stream",
          "name": "stdout",
          "text": [
            "(-0+18j)\n"
          ]
        }
      ]
    },
    {
      "cell_type": "code",
      "source": [
        "a=4+8j\n",
        "print(abs(a))\n",
        "\n",
        "#it will return the magnitude of a"
      ],
      "metadata": {
        "colab": {
          "base_uri": "https://localhost:8080/"
        },
        "id": "dv2y26_cx1mw",
        "outputId": "9ba37d6e-ff10-4d5e-fb91-e5ae51fe94ad"
      },
      "execution_count": 130,
      "outputs": [
        {
          "output_type": "stream",
          "name": "stdout",
          "text": [
            "8.94427190999916\n"
          ]
        }
      ]
    }
  ]
}