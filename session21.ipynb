{
  "nbformat": 4,
  "nbformat_minor": 0,
  "metadata": {
    "colab": {
      "provenance": [],
      "authorship_tag": "ABX9TyN9ls6W2WPTsw6qdCgWySrM",
      "include_colab_link": true
    },
    "kernelspec": {
      "name": "python3",
      "display_name": "Python 3"
    },
    "language_info": {
      "name": "python"
    }
  },
  "cells": [
    {
      "cell_type": "markdown",
      "metadata": {
        "id": "view-in-github",
        "colab_type": "text"
      },
      "source": [
        "<a href=\"https://colab.research.google.com/github/hamza0972/Python-course-Volunteer/blob/main/session21.ipynb\" target=\"_parent\"><img src=\"https://colab.research.google.com/assets/colab-badge.svg\" alt=\"Open In Colab\"/></a>"
      ]
    },
    {
      "cell_type": "markdown",
      "source": [
        "#Bitwise Operators"
      ],
      "metadata": {
        "id": "z1YOtwSfnq3o"
      }
    },
    {
      "cell_type": "markdown",
      "source": [
        "NOT"
      ],
      "metadata": {
        "id": "lphpzCqznvcW"
      }
    },
    {
      "cell_type": "code",
      "source": [
        "print(~9)       # The bitwise NOT (~) inverts all the bits of the number.\n",
        "                # 9 in binary (32-bit) = 00000000 00000000 00000000 00001001\n",
        "                # Applying ~ (flip all bits):\n",
        "                # Result = 11111111 11111111 11111111 11110110  (two’s complement)\n",
        "                # Which is equivalent to -10 in decimal.\n",
        "                # So output will be: -10\n",
        "\n",
        "print(~-20)     # -20 in binary (32-bit, two’s complement) =\n",
        "                # 11111111 11111111 11111111 11101100\n",
        "                # Applying ~ (flip all bits):\n",
        "                # Result = 00000000 00000000 00000000 00010011\n",
        "                # Which is equivalent to +19 in decimal.\n",
        "                # So if you uncomment, it will print: 19\n"
      ],
      "metadata": {
        "colab": {
          "base_uri": "https://localhost:8080/"
        },
        "id": "K_SXytPrmMx6",
        "outputId": "b2e0e60f-6ef6-483b-a09f-6815ed380274"
      },
      "execution_count": 1,
      "outputs": [
        {
          "output_type": "stream",
          "name": "stdout",
          "text": [
            "-10\n",
            "19\n"
          ]
        }
      ]
    },
    {
      "cell_type": "markdown",
      "source": [
        "Left Shift"
      ],
      "metadata": {
        "id": "tCB-N5aIn-uF"
      }
    },
    {
      "cell_type": "code",
      "source": [
        "print(-6 << 2)      # Bitwise left shift (<<) shifts bits to the left.\n",
        "                    # -6 in decimal is represented in binary using two’s complement.\n",
        "                    # Left shift by 2 means multiplying by 2^2 = 4.\n",
        "                    # So, -6 << 2 = -24 (because -6 * 4 = -24).\n",
        "\n",
        "print(bin(-6))      # Prints the binary representation of -6.\n",
        "                    # In Python, negative numbers are shown with a '-' sign\n",
        "                    # followed by the binary of the absolute value.\n",
        "                    # So output = '-0b110'\n"
      ],
      "metadata": {
        "colab": {
          "base_uri": "https://localhost:8080/"
        },
        "id": "jP0WZ97ysmpk",
        "outputId": "0d379ea6-989f-49d3-85ae-22d6b0b2d020"
      },
      "execution_count": 2,
      "outputs": [
        {
          "output_type": "stream",
          "name": "stdout",
          "text": [
            "-24\n",
            "-0b110\n"
          ]
        }
      ]
    },
    {
      "cell_type": "markdown",
      "source": [
        "#Tuple"
      ],
      "metadata": {
        "id": "dP-5NNmioE38"
      }
    },
    {
      "cell_type": "markdown",
      "source": [
        "count()"
      ],
      "metadata": {
        "id": "aIdRRn05oGev"
      }
    },
    {
      "cell_type": "code",
      "source": [
        "a = (1, 2, 3, 2, 3, 2)   # A tuple containing integers\n",
        "print(a.count(2))        # count(x) → returns the number of times 'x' appears in the tuple\n",
        "                         # Here, '2' occurs 3 times\n",
        "                         # Output: 3\n"
      ],
      "metadata": {
        "colab": {
          "base_uri": "https://localhost:8080/"
        },
        "id": "gQOlSarMuBH-",
        "outputId": "0fadbe48-2843-4660-a1da-d5a72bb5fdaf"
      },
      "execution_count": 3,
      "outputs": [
        {
          "output_type": "stream",
          "name": "stdout",
          "text": [
            "3\n"
          ]
        }
      ]
    },
    {
      "cell_type": "markdown",
      "source": [
        ".index()\n",
        "\n",
        "sum()\n",
        "\n",
        "sorted()\n",
        "\n",
        "any()\n",
        "\n",
        "all()"
      ],
      "metadata": {
        "id": "0yrynPTxodZL"
      }
    },
    {
      "cell_type": "code",
      "source": [
        "a = (1, 2, 3, 2, 3, 0)    # A tuple containing integers\n",
        "\n",
        "print(a.index(2, 2, 5))     # index(x, start, end) → returns the index of the first\n",
        "                            # occurrence of 'x' between positions start and end-1.\n",
        "                            # It will search for '2' between indices 2 and 4.\n",
        "                            # At index 3, we find '2', so output would be 3.\n",
        "\n",
        "print(sum(a))               # sum() → adds all elements of the tuple.\n",
        "                            # 1+2+3+2+3+0 = 11\n",
        "\n",
        "print(sorted(a))            # sorted() → returns a sorted list from the tuple.\n",
        "                            # Output: [0, 1, 2, 2, 3, 3]\n",
        "\n",
        "print(any(a))               # any() → returns True if at least one element is non-zero.\n",
        "                            # Since we have 1, 2, 3, etc. → Output: True\n",
        "\n",
        "print(all(a))               # all() → returns True if *all* elements are non-zero.\n",
        "                            # But here we have 0 in the tuple → Output: False\n"
      ],
      "metadata": {
        "colab": {
          "base_uri": "https://localhost:8080/"
        },
        "id": "Y8gKAlgGvGA_",
        "outputId": "407d0543-f800-43d3-d733-e91e3e2f36cc"
      },
      "execution_count": 4,
      "outputs": [
        {
          "output_type": "stream",
          "name": "stdout",
          "text": [
            "3\n",
            "11\n",
            "[0, 1, 2, 2, 3, 3]\n",
            "True\n",
            "False\n"
          ]
        }
      ]
    },
    {
      "cell_type": "markdown",
      "source": [
        "enumerate()"
      ],
      "metadata": {
        "id": "WCcH7qCMowjQ"
      }
    },
    {
      "cell_type": "code",
      "source": [
        "a = [1, 2, 3, 2, 45, 3]       # A list\n",
        "\n",
        "enu = enumerate(a)            # enumerate() returns an enumerate object\n",
        "                              # It generates pairs of (index, value)\n",
        "\n",
        "print(enu)                    # Just printing the object shows its type & memory location\n",
        "                              # e.g. <enumerate object at 0x0000021F...>\n",
        "\n",
        "print(type(enu))              # Output: <class 'enumerate'>\n",
        "\n",
        "print(list(enu))              # Converts the enumerate object into a list of tuples\n",
        "                              # [(0, 1), (1, 2), (2, 3), (3, 2), (4, 45), (5, 3)]\n",
        "\n",
        "print(set(enu))               # At this point, 'enu' is already exhausted by list(enu)\n",
        "                              # So set(enu) will be empty: set()\n"
      ],
      "metadata": {
        "colab": {
          "base_uri": "https://localhost:8080/"
        },
        "id": "uIagV9M-vRD9",
        "outputId": "fea2b181-a68d-4c48-da1f-8fc0f5c012be"
      },
      "execution_count": 6,
      "outputs": [
        {
          "output_type": "stream",
          "name": "stdout",
          "text": [
            "<enumerate object at 0x78dc76529800>\n",
            "<class 'enumerate'>\n",
            "[(0, 1), (1, 2), (2, 3), (3, 2), (4, 45), (5, 3)]\n",
            "set()\n"
          ]
        }
      ]
    },
    {
      "cell_type": "markdown",
      "source": [
        "iteration on tuple"
      ],
      "metadata": {
        "id": "hqrg9Z-fo3-4"
      }
    },
    {
      "cell_type": "code",
      "source": [
        "a = (1, 2, 3, 2, 3, 2)    # A tuple with 6 elements\n",
        "\n",
        "print(len(a))             # len() → returns the number of elements in the tuple\n",
        "                          # Output: 6\n",
        "\n",
        "\n",
        "# 1️⃣ Simple iteration → directly iterates over values\n",
        "\n",
        "# for i in a:\n",
        "    #print(i)              # Prints each element one by one\n",
        "                          # 1, 2, 3, 2, 3, 2\n",
        "\n",
        "\n",
        "# 2️⃣ Using enumerate() → gives both index and value\n",
        "\n",
        "# for index, value in enumerate(a):\n",
        "    # print(index, value)   # Prints index-value pairs\n",
        "                          # (0,1), (1,2), (2,3), (3,2), (4,3), (5,2)\n",
        "\n",
        "\n",
        "# 3️⃣ Using range() with indexing → access values by index\n",
        "\n",
        "# for i in range(len(a)):\n",
        "#     print(a[i])           # Prints each element by accessing tuple indices\n",
        "                          # 1, 2, 3, 2, 3, 2\n"
      ],
      "metadata": {
        "colab": {
          "base_uri": "https://localhost:8080/"
        },
        "id": "9QOPRyPqwb9c",
        "outputId": "7dee8803-d753-4ee9-f990-d0c4f8708575"
      },
      "execution_count": 8,
      "outputs": [
        {
          "output_type": "stream",
          "name": "stdout",
          "text": [
            "6\n"
          ]
        }
      ]
    },
    {
      "cell_type": "markdown",
      "source": [
        "nested tuple\n"
      ],
      "metadata": {
        "id": "-80Yxt9qpPF9"
      }
    },
    {
      "cell_type": "code",
      "source": [
        "new = ((2, 12, 34), (10,), (90, 23))   # A tuple containing other tuples (nested tuple)\n",
        "\n",
        "for i in new:          # Outer loop → iterates over each inner tuple\n",
        "    # print(i)         # If uncommented, prints the whole inner tuple\n",
        "                       # Example: (2, 12, 34), (10,), (90, 23)\n",
        "\n",
        "    for j in i:        # Inner loop → iterates over elements inside each tuple\n",
        "        print(j)       # Prints each individual element\n"
      ],
      "metadata": {
        "colab": {
          "base_uri": "https://localhost:8080/"
        },
        "id": "yAw5Dw0gxd49",
        "outputId": "5fdf5fbb-fdd4-4dec-e4f0-a02479916909"
      },
      "execution_count": 9,
      "outputs": [
        {
          "output_type": "stream",
          "name": "stdout",
          "text": [
            "2\n",
            "12\n",
            "34\n",
            "10\n",
            "90\n",
            "23\n"
          ]
        }
      ]
    },
    {
      "cell_type": "code",
      "source": [
        "# print(10,)            # A single value with a trailing comma makes it a tuple → (10,)\n",
        "\n",
        "\n",
        "a = 90,                 # Even without parentheses, the comma creates a tuple\n",
        "print(a)                # Output: (90,)\n",
        "\n",
        "print(type(a))          # Output: <class 'tuple'>\n"
      ],
      "metadata": {
        "colab": {
          "base_uri": "https://localhost:8080/"
        },
        "id": "LY5jHVgfzqXm",
        "outputId": "a3d08dac-2d87-4ca6-ecc8-ee35cb74c67a"
      },
      "execution_count": 10,
      "outputs": [
        {
          "output_type": "stream",
          "name": "stdout",
          "text": [
            "(90,)\n",
            "<class 'tuple'>\n"
          ]
        }
      ]
    },
    {
      "cell_type": "markdown",
      "source": [
        "tuple packing and unpacking"
      ],
      "metadata": {
        "id": "qh7zsYhkqKPS"
      }
    },
    {
      "cell_type": "code",
      "source": [
        "new = (123, 45, 34, 2)\n",
        "a, b, c, d = new          # Normal tuple unpacking\n",
        "print(b)                  # Output: 45\n",
        "\n",
        "\n",
        "new = (123, 45, 34, 2)\n",
        "\n",
        "a, b, *c = new            # Extended unpacking\n",
        "                          # a = 123\n",
        "                          # b = 45\n",
        "                          # c = [34, 2]   (collected into a list)\n",
        "\n",
        "print(a)                  # Output: 123\n",
        "\n",
        "# print(*b)               # ❌ ERROR: b = 45 (int is not iterable, cannot unpack)\n",
        "\n",
        "\n",
        "print(b)                  # Output: 45\n",
        "\n",
        "print(c)                  # Output: [34, 2]\n",
        "\n",
        "print(type(c))            # Output: <class 'list'>\n",
        "\n",
        "\n",
        "print(*c)                 # The * unpacks the list → prints: 34 2\n",
        "\n",
        "\n",
        "# print(type(*c))         # ❌ ERROR in real Python!\n",
        "                          # Because *c unpacks into two values: 34, 2\n",
        "                          # type() can only accept ONE argument.\n",
        "                          # So this raises: TypeError: type() takes 1 or 3 arguments\n"
      ],
      "metadata": {
        "colab": {
          "base_uri": "https://localhost:8080/"
        },
        "id": "StXZnEP90cO6",
        "outputId": "fb3d3a8b-3bd0-4b20-9310-cb7fc26dd63a"
      },
      "execution_count": 19,
      "outputs": [
        {
          "output_type": "stream",
          "name": "stdout",
          "text": [
            "45\n",
            "123\n",
            "45\n",
            "[34, 2]\n",
            "<class 'list'>\n",
            "34 2\n"
          ]
        }
      ]
    },
    {
      "cell_type": "markdown",
      "source": [
        "#Dictionary"
      ],
      "metadata": {
        "id": "30H5H9weqaMV"
      }
    },
    {
      "cell_type": "markdown",
      "source": [
        "empty dictionary"
      ],
      "metadata": {
        "id": "4nObOfj9qcWY"
      }
    },
    {
      "cell_type": "code",
      "source": [
        "data = {}\n",
        "print(data)              # Empty dictionary: {}\n",
        "print(type(data))        # <class 'dict'>\n",
        "\n",
        "print({1: \"Hamza\", 2: \"Ali\", 3: \"Zohaib\"})\n",
        "# Creates and prints a dictionary with keys 1, 2, 3\n",
        "# Output: {1: 'Hamza', 2: 'Ali', 3: 'Zohaib'}\n"
      ],
      "metadata": {
        "colab": {
          "base_uri": "https://localhost:8080/"
        },
        "id": "q9YX3ZaU02Zk",
        "outputId": "833ece7f-a9a4-4a4b-a0d5-fad4dc8d1f2c"
      },
      "execution_count": 21,
      "outputs": [
        {
          "output_type": "stream",
          "name": "stdout",
          "text": [
            "{}\n",
            "<class 'dict'>\n",
            "{1: 'Hamza', 2: 'Ali', 3: 'Zohaib'}\n"
          ]
        }
      ]
    },
    {
      "cell_type": "markdown",
      "source": [
        "accessing the elements"
      ],
      "metadata": {
        "id": "jRNh6wYEqngZ"
      }
    },
    {
      "cell_type": "code",
      "source": [
        "a = {\"Hamza\": 20,          # Dictionary with 3 key-value pairs\n",
        "     \"Ali\": 30,\n",
        "     \"Ahsan\": 20}\n",
        "\n",
        "print(a['Ali'])            # Access value using key \"Ali\"\n",
        "                           # Output: 30\n",
        "\n",
        "a[\"Ali\"] = 100             # Update the value of key \"Ali\" to 100\n",
        "\n",
        "print(a)                   # Prints updated dictionary:\n",
        "                           # {'Hamza': 20, 'Ali': 100, 'Ahsan': 20}\n"
      ],
      "metadata": {
        "colab": {
          "base_uri": "https://localhost:8080/"
        },
        "id": "SJp4VZYn2-G8",
        "outputId": "0a34fb69-64a0-41a6-d7a1-6795e9291340"
      },
      "execution_count": null,
      "outputs": [
        {
          "output_type": "stream",
          "name": "stdout",
          "text": [
            "{'Hamza': 20, 'Ali': 100, 'Ahsan': 20}\n"
          ]
        }
      ]
    },
    {
      "cell_type": "markdown",
      "source": [
        "nested dictionary"
      ],
      "metadata": {
        "id": "OqR7LZN-qxWp"
      }
    },
    {
      "cell_type": "code",
      "source": [
        "data = {\n",
        "    \"name\": {                   # \"name\" key maps to another dictionary (nested dict)\n",
        "        \"first\": \"Muhammad\",    # inner dictionary key \"first\"\n",
        "        \"last\": \"Hamza\"         # inner dictionary key \"last\"\n",
        "    }\n",
        "}\n",
        "\n",
        "print(data)                     # Prints the whole nested dictionary\n"
      ],
      "metadata": {
        "id": "wTeWvPKp4iew",
        "colab": {
          "base_uri": "https://localhost:8080/"
        },
        "outputId": "c43f5192-2c33-424e-b018-e4e387015163"
      },
      "execution_count": 23,
      "outputs": [
        {
          "output_type": "stream",
          "name": "stdout",
          "text": [
            "{'name': {'first': 'Muhammad', 'last': 'Hamza'}}\n"
          ]
        }
      ]
    },
    {
      "cell_type": "markdown",
      "source": [
        ".get()"
      ],
      "metadata": {
        "id": "28L1u82_rElF"
      }
    },
    {
      "cell_type": "code",
      "source": [
        "a = {\"Hamza\": 20,\n",
        "     \"Ali\": 30,\n",
        "     \"Ahsan\": 20}\n",
        "\n",
        "# print(a[\"ali\"])\n",
        "# ❌ This will raise a KeyError because \"ali\" (lowercase)\n",
        "# is not the same as \"Ali\" (dictionary keys are case-sensitive).\n",
        "\n",
        "\n",
        "print(a.get(\"ali\", \"This value is not found in the dictionary.\"))\n",
        "# ✅ .get(key, default) method:\n",
        "# - If the key exists → returns its value\n",
        "# - If the key does NOT exist → returns the provided default message\n",
        "# Here \"ali\" is not found, so it prints:\n",
        "# Output: This value is not found in the dictionary.\n"
      ],
      "metadata": {
        "colab": {
          "base_uri": "https://localhost:8080/"
        },
        "id": "vcL39JxO67Oh",
        "outputId": "f676e5f5-c369-4188-8554-d89316403411"
      },
      "execution_count": 24,
      "outputs": [
        {
          "output_type": "stream",
          "name": "stdout",
          "text": [
            "This value is not found in the dictionary.\n"
          ]
        }
      ]
    },
    {
      "cell_type": "markdown",
      "source": [
        ".popitem()\n",
        "\n",
        "del\n",
        "\n",
        ".pop()"
      ],
      "metadata": {
        "id": "lwTMRqN2rOVU"
      }
    },
    {
      "cell_type": "code",
      "source": [
        "a = {\"Hamza\": 20,\n",
        "     \"Ali\": 30,\n",
        "     \"Ahsan\": 20}\n",
        "\n",
        "a[\"Ahmad\"] = 80\n",
        "# Adds new key-value pair → \"Ahmad\": 80\n",
        "print(a)\n",
        "# {'Hamza': 20, 'Ali': 30, 'Ahsan': 20, 'Ahmad': 80}\n",
        "\n",
        "\n",
        "last = a.popitem()\n",
        "# Removes and returns the *last inserted* item → (\"Ahmad\", 80)\n",
        "print(a)\n",
        "# Dictionary after removal → {'Hamza': 20, 'Ali': 30, 'Ahsan': 20}\n",
        "\n",
        "print(type(last))\n",
        "# popitem() returns a tuple → <class 'tuple'>\n",
        "\n",
        "\n",
        "del a[\"Ali\"]\n",
        "# Deletes the key \"Ali\" completely\n",
        "print(a)\n",
        "# {'Hamza': 20, 'Ahsan': 20}\n",
        "\n",
        "\n",
        "# removed_item = a.pop(\"Ali\")\n",
        "# Would try to remove \"Ali\" and return its value,\n",
        "# BUT here \"Ali\" is already deleted above, so if uncommented → KeyError\n"
      ],
      "metadata": {
        "colab": {
          "base_uri": "https://localhost:8080/"
        },
        "id": "MG8JBoQl68zM",
        "outputId": "843e3811-3dc8-401e-e907-3d69062d12fb"
      },
      "execution_count": 27,
      "outputs": [
        {
          "output_type": "stream",
          "name": "stdout",
          "text": [
            "{'Hamza': 20, 'Ali': 30, 'Ahsan': 20, 'Ahmad': 80}\n",
            "{'Hamza': 20, 'Ali': 30, 'Ahsan': 20}\n",
            "<class 'tuple'>\n",
            "{'Hamza': 20, 'Ahsan': 20}\n"
          ]
        }
      ]
    },
    {
      "cell_type": "code",
      "source": [],
      "metadata": {
        "id": "SkYF2czX8C1t"
      },
      "execution_count": null,
      "outputs": []
    }
  ]
}