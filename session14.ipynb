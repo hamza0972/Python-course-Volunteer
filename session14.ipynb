{
  "nbformat": 4,
  "nbformat_minor": 0,
  "metadata": {
    "colab": {
      "provenance": [],
      "authorship_tag": "ABX9TyOs20ziGhL8S60CAUbuhlH3",
      "include_colab_link": true
    },
    "kernelspec": {
      "name": "python3",
      "display_name": "Python 3"
    },
    "language_info": {
      "name": "python"
    }
  },
  "cells": [
    {
      "cell_type": "markdown",
      "metadata": {
        "id": "view-in-github",
        "colab_type": "text"
      },
      "source": [
        "<a href=\"https://colab.research.google.com/github/hamza0972/Python-course-Volunteer/blob/main/session14.ipynb\" target=\"_parent\"><img src=\"https://colab.research.google.com/assets/colab-badge.svg\" alt=\"Open In Colab\"/></a>"
      ]
    },
    {
      "cell_type": "markdown",
      "source": [
        "Take a number n from the user as input and print the Fibonacci series up to n\n",
        "\n"
      ],
      "metadata": {
        "id": "cqqSy86_Zzb_"
      }
    },
    {
      "cell_type": "code",
      "execution_count": null,
      "metadata": {
        "colab": {
          "base_uri": "https://localhost:8080/"
        },
        "id": "Djap0ZAh_8Gj",
        "outputId": "edc048cd-8a22-4618-b8a0-0f4ea1761686"
      },
      "outputs": [
        {
          "output_type": "stream",
          "name": "stdout",
          "text": [
            "enter a number -78\n",
            "enter a valid number\n"
          ]
        }
      ],
      "source": [
        "num=int(input(\"enter a number \"))\n",
        "i=0\n",
        "\n",
        "first=0\n",
        "second=1\n",
        "\n",
        "if num<0:        # check for negative input\n",
        "  print(\"enter a valid number\")\n",
        "\n",
        "elif num==0:     # check for zero\n",
        "  print(first)\n",
        "\n",
        "elif num==1:     # check for 1\n",
        "  print(first)\n",
        "  print(second)\n",
        "\n",
        "else:            # check for other numbers\n",
        "  print(first)\n",
        "  print(second)\n",
        "  while i<num-2:\n",
        "    total=first+second\n",
        "    print(total)\n",
        "    first=second     # update the first varibkle\n",
        "    second=total     # update the second variable\n",
        "    i+=1"
      ]
    },
    {
      "cell_type": "code",
      "source": [
        "# name=\"Hamza\"\n",
        "# print(name[0])\n",
        "# name[0]=\"C\"\n",
        "# print(name)\n",
        "\n",
        "# it will return error bcz string is unmutable (unchangable) data type\n",
        "\n"
      ],
      "metadata": {
        "id": "YWPU3p2YC0b2"
      },
      "execution_count": null,
      "outputs": []
    },
    {
      "cell_type": "markdown",
      "source": [
        "isspace"
      ],
      "metadata": {
        "id": "bJTXo5DBbPKc"
      }
    },
    {
      "cell_type": "code",
      "source": [
        "print(\" \".isspace())\n",
        "print(\" b \".isspace())\n",
        "print(\"\\n\".isspace())\n",
        "print(\"\\t\".isspace())"
      ],
      "metadata": {
        "colab": {
          "base_uri": "https://localhost:8080/"
        },
        "id": "9WKaFaF0E-yV",
        "outputId": "b380ee6d-bc1b-43a1-80b8-b7b59c9a063d"
      },
      "execution_count": null,
      "outputs": [
        {
          "output_type": "stream",
          "name": "stdout",
          "text": [
            "True\n",
            "False\n",
            "True\n",
            "True\n"
          ]
        }
      ]
    },
    {
      "cell_type": "markdown",
      "source": [
        "is operator"
      ],
      "metadata": {
        "id": "spmoHKA7bW34"
      }
    },
    {
      "cell_type": "code",
      "source": [
        "a=\"Hamza\"\n",
        "print(id(a))          # return the memory address\n",
        "b=\"Hamza\"\n",
        "c=\"Ahmad\"\n",
        "print(id(b))           # return the memory address\n",
        "print(a is b)          # return True bcz the data is same and both varibles point to the same object in memory.\n",
        "print(a is c)      # return False bcz the data is different and both varibles point to the different objects in memory.\n",
        "a=5\n",
        "b=5\n",
        "c=6\n",
        "print(a is b)    # return True bcz the data is same and both varibles point to the same object in memory.\n",
        "print(a is c)\n",
        "\n",
        "\n",
        "l1=[1,2,3]\n",
        "l2=[1,2,3]\n",
        "print(l1 is l2)    # return False bcz both varibles point to the different objects in memory as list is unmutable.\n",
        "\n",
        "\n",
        "a=23\n",
        "b=90\n",
        "c=90\n",
        "print(a is not b)\n",
        "print(b is not c)\n",
        "\n",
        "a=-6\n",
        "b=-6\n",
        "print(a is b)    # return False bcz is is out of the range (-6<=n<=256)\n",
        "\n",
        "a=278\n",
        "b=278\n",
        "print(a is b)   # return False bcz is is out of the range (-6<=n<=256)\n"
      ],
      "metadata": {
        "colab": {
          "base_uri": "https://localhost:8080/"
        },
        "id": "keCeihH2G-D1",
        "outputId": "d97fea8e-833b-48ea-9200-f19f569d580b"
      },
      "execution_count": null,
      "outputs": [
        {
          "output_type": "stream",
          "name": "stdout",
          "text": [
            "136871188712544\n",
            "136871188712544\n",
            "True\n",
            "False\n",
            "True\n",
            "False\n",
            "False\n",
            "True\n",
            "False\n",
            "False\n",
            "False\n"
          ]
        }
      ]
    },
    {
      "cell_type": "markdown",
      "source": [
        "Slice in String"
      ],
      "metadata": {
        "id": "QS0IwSH7dMC5"
      }
    },
    {
      "cell_type": "code",
      "source": [
        "text=\"PythonPrograming\"\n",
        "# print(text[start:end:jump])   #syntax of slice\n",
        "\n",
        "print(text[0:5:1])               # Slices the string from index 0 to 4 (5 is excluded) with a step of 1\n",
        "print(text[0:5:2])               # step of 2\n",
        "print(text[0:5])                 # by default step=1, we can skip it\n",
        "print(text[:5:])                 # if we donot enter the start argument it will slice from 0\n",
        "a=text[0:15:4]\n",
        "print(a)                         # You can store the sliced sub string in a variable\n",
        "print(text[3::])                 # It will print characters from index 3 to last\n",
        "print(text[::-1])                # It will print all the characters in reverse order  (sort the string)\n",
        "print(text[::-2])                # It will print the characters in reverse order (sort the string) but with the jump of 2\n",
        "print(text[-10:-3:])             # it will print the characters from index -10 to -4"
      ],
      "metadata": {
        "colab": {
          "base_uri": "https://localhost:8080/"
        },
        "id": "9lKdAD8wHW8A",
        "outputId": "b02734e0-f132-4516-8025-bca29cfc969d"
      },
      "execution_count": null,
      "outputs": [
        {
          "output_type": "stream",
          "name": "stdout",
          "text": [
            "Pytho\n",
            "Pto\n",
            "giagrnhy\n",
            "Program\n"
          ]
        }
      ]
    },
    {
      "cell_type": "markdown",
      "source": [
        "Write a Python program to check the strength of a password based on multiple conditions.\n",
        "\n",
        "The program should:\n",
        "\n",
        "Take a given string as the password.\n",
        "\n",
        "Verify the following rules one by one:\n",
        "\n",
        "Length Check: Password must be at least 8 characters long.\n",
        "\n",
        "Uppercase Check: Password must contain at least one uppercase letter.\n",
        "\n",
        "Lowercase Check: Password must contain at least one lowercase letter.\n",
        "\n",
        "Digit Check: Password must contain at least one digit.\n",
        "\n",
        "Special Character Check: Password must contain at least one character from the set !@#$%^&*()_+-=[]{};:'\",.<>?/|\n"
      ],
      "metadata": {
        "id": "OJMQkBUUjZre"
      }
    },
    {
      "cell_type": "code",
      "source": [
        "# take input from the user\n",
        "pas=input(\"enter a password \")\n",
        "res=True\n",
        "\n",
        "# check length of the password\n",
        "if len(pas)>=8:\n",
        "  res*=True    # res=res*True   (update the result)\n",
        "else:\n",
        "  res*=False   # res=res*False   (update the result)\n",
        "\n",
        "# check whether the password has atleast one upper case character\n",
        "\n",
        "for i in pas:\n",
        "  if i.isupper():\n",
        "    res*=True    # (update the result)\n",
        "    break\n",
        "else:\n",
        "  res*=False     # (update the result)\n",
        "\n",
        "\n",
        "# check whether the password has atleast one lower case character\n",
        "\n",
        "for i in pas:\n",
        "  if i.islower():\n",
        "    res*=True  #  (update the result)\n",
        "    break\n",
        "else:\n",
        "  res*=False   #  (update the result)\n",
        "\n",
        "# check whether the password has atleast one numeric character\n",
        "\n",
        "for i in pas:\n",
        "  if i.isnumeric():\n",
        "    res*=True    #  (update the result)\n",
        "    break\n",
        "else:\n",
        "  res*=False    #  (update the result)\n",
        "\n",
        "# check whether the password has atleast one special character\n",
        "\n",
        "special=\"\"\"!@#$%^&*()_+-=[]{};:'\",.<>?/|\"\"\"\n",
        "for i in pas:\n",
        "  if i in special:\n",
        "    res*=True    #  (update the result)\n",
        "    break\n",
        "else:\n",
        "  res*=False    #  (update the result)\n",
        "\n",
        "if res:   # if res==True\n",
        "  print(\"Strong password\")\n",
        "else:   # res==False\n",
        "  print(\"weak password\")"
      ],
      "metadata": {
        "colab": {
          "base_uri": "https://localhost:8080/"
        },
        "id": "Nxn3O9laL5jT",
        "outputId": "2b73264d-1593-49fd-bce8-b445176fcaf8"
      },
      "execution_count": 3,
      "outputs": [
        {
          "output_type": "stream",
          "name": "stdout",
          "text": [
            "enter a password dsfghjkl435678!5678vbn\n",
            "weak password\n"
          ]
        }
      ]
    },
    {
      "cell_type": "code",
      "source": [],
      "metadata": {
        "id": "q03AVK2VRZTh"
      },
      "execution_count": null,
      "outputs": []
    }
  ]
}