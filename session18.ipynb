{
  "cells": [
    {
      "cell_type": "markdown",
      "metadata": {
        "id": "view-in-github",
        "colab_type": "text"
      },
      "source": [
        "<a href=\"https://colab.research.google.com/github/hamza0972/Python-course-Volunteer/blob/main/session18.ipynb\" target=\"_parent\"><img src=\"https://colab.research.google.com/assets/colab-badge.svg\" alt=\"Open In Colab\"/></a>"
      ]
    },
    {
      "cell_type": "markdown",
      "source": [
        "nested list Comprehension"
      ],
      "metadata": {
        "id": "UDsCo_P5l8l6"
      }
    },
    {
      "cell_type": "code",
      "execution_count": 1,
      "metadata": {
        "colab": {
          "base_uri": "https://localhost:8080/"
        },
        "id": "PlfK4oPe5sUF",
        "outputId": "9cf0409b-329f-490b-ceb0-e294f6145406"
      },
      "outputs": [
        {
          "output_type": "stream",
          "name": "stdout",
          "text": [
            "[2, 3, 4, 2, 2, 45, 34, 23, 45]\n"
          ]
        }
      ],
      "source": [
        "l1 = [[2,3,4],[2,2],[45,34,23,45]]\n",
        "\n",
        "# Normal way (nested loops):\n",
        "# for row in l1:          # iterate each sublist\n",
        "#   for ele in row:       # iterate each element in sublist\n",
        "#     print(ele)\n",
        "\n",
        "# Using list comprehension (flattening a 2D list into 1D):\n",
        "l2 = [x for row in l1 for x in row]\n",
        "\n",
        "print(l2)  # Output: [2, 3, 4, 2, 2, 45, 34, 23, 45]\n"
      ]
    },
    {
      "cell_type": "markdown",
      "source": [
        "Program – Grocery List Manager\n",
        "\n",
        "Question:\n",
        "\n",
        "Write a Python program that:\n",
        "\n",
        "Lets the user enter grocery items until they type \"done“\n",
        "\n",
        "Stores them in a list.\n",
        "\n",
        "Lets the user search for an item (case-insensitive).\n",
        "\n",
        "Displays the list in sorted order."
      ],
      "metadata": {
        "id": "4MpGafJCmTwD"
      }
    },
    {
      "cell_type": "code",
      "execution_count": 2,
      "metadata": {
        "colab": {
          "base_uri": "https://localhost:8080/"
        },
        "id": "ql2lP89v7GtP",
        "outputId": "2c06d1af-9ae6-43d0-d762-6808bbc0cfe8"
      },
      "outputs": [
        {
          "output_type": "stream",
          "name": "stdout",
          "text": [
            "Enter the grocery item     BANANa\n",
            "Enter the grocery item  Apple \n",
            "Enter the grocery item   Donem\n",
            "Enter the grocery item Done\n",
            "Enter an item to search! apple\n",
            "Yes apple is in the list\n",
            "1. apple\n",
            "2. banana\n",
            "3. donem\n"
          ]
        }
      ],
      "source": [
        "l1 = []   # Empty list to store grocery items\n",
        "\n",
        "while True:\n",
        "    # Ask the user to enter a grocery item (convert to lowercase, remove spaces)\n",
        "    item = input(\"Enter the grocery item \").lower().strip()\n",
        "\n",
        "    # If user types 'done', stop taking input and move to search + display\n",
        "    if item == 'done':\n",
        "        # Ask the user which item they want to search in the list\n",
        "        search = input(\"Enter an item to search! \").lower().strip()\n",
        "\n",
        "        # Check if the searched item exists in the grocery list\n",
        "        if search in l1:\n",
        "            print(f\"Yes {search} is in the list\")\n",
        "        else:\n",
        "            print(f\"{search} is not in the list\")\n",
        "\n",
        "        # Sort the list alphabetically\n",
        "        l1.sort()\n",
        "\n",
        "        # Print items with numbering using enumerate\n",
        "        for index, value in enumerate(l1):\n",
        "            print(f\"{index+1}. {value}\")\n",
        "\n",
        "        # Exit the loop after displaying the list\n",
        "        break\n",
        "    else:\n",
        "        # If the item is not 'done', add it to the grocery list\n",
        "        l1.append(item)\n"
      ]
    },
    {
      "cell_type": "markdown",
      "source": [
        "#Set"
      ],
      "metadata": {
        "id": "LFMIFtjomyp3"
      }
    },
    {
      "cell_type": "markdown",
      "source": [
        "Properties and characteristics"
      ],
      "metadata": {
        "id": "i0Mna_SInY5Z"
      }
    },
    {
      "cell_type": "code",
      "execution_count": 6,
      "metadata": {
        "colab": {
          "base_uri": "https://localhost:8080/"
        },
        "id": "R8hFms8c8uh6",
        "outputId": "decc2ffa-056a-4ed3-f1b8-26c4be5f7754"
      },
      "outputs": [
        {
          "output_type": "stream",
          "name": "stdout",
          "text": [
            "{1, 2, 3}\n",
            "<class 'set'>\n",
            "True\n",
            "{1, 2, 4, 'A'}\n",
            "{'k', 'o', 'B'}\n",
            "\n"
          ]
        }
      ],
      "source": [
        "# Creating sets\n",
        "set1 = {1, 2, 3}\n",
        "set2 = {2, 3, 1}\n",
        "\n",
        "print(set1)       # Sets are unordered → Output: {1, 2, 3}\n",
        "# print(set1[0])    # Error: sets are not indexable (no indexing like lists)\n",
        "\n",
        "# s1 = {}           # This actually creates an EMPTY DICTIONARY, not a set\n",
        "# print(type(s1))   # <class 'dict'>\n",
        "\n",
        "# Correct way to create an empty set:\n",
        "s1 = set()\n",
        "print(type(s1))   # <class 'set'>\n",
        "\n",
        "print(set1 == set2)  # True, because sets ignore order\n",
        "\n",
        "# Converting a list into a set (removes duplicates automatically)\n",
        "l1 = [1, 2, 4, 2, 'A']\n",
        "print(set(l1))    # Output: {1, 2, 4, 'A'}\n",
        "\n",
        "# Converting a string into a set (unique characters only)\n",
        "st = \"Book\"\n",
        "print(set(st))    # Output: {'o', 'B', 'k'} → order may vary\n",
        "\n",
        "print()  # Just prints a blank line\n"
      ]
    },
    {
      "cell_type": "markdown",
      "source": [
        "iteration"
      ],
      "metadata": {
        "id": "nLkesr1Cn7qR"
      }
    },
    {
      "cell_type": "code",
      "execution_count": 9,
      "metadata": {
        "id": "5mxEMCtG_HMU",
        "colab": {
          "base_uri": "https://localhost:8080/"
        },
        "outputId": "777c303e-ede8-4208-8ec2-bc2100c858ee"
      },
      "outputs": [
        {
          "output_type": "stream",
          "name": "stdout",
          "text": [
            "{1, 2, 3, (78+90j), 'A'}\n",
            "True\n",
            "0 1\n",
            "1 2\n",
            "2 3\n",
            "3 (78+90j)\n",
            "4 A\n"
          ]
        }
      ],
      "source": [
        "set1 = {1, 2, 3, 'A', 78+90j}   # A set can store integers, strings, and even complex numbers\n",
        "\n",
        "print(set1)      # Output: {1, 2, 3, 'A', (78+90j)} → order may vary\n",
        "\n",
        "# Membership test (checks if 'a' exists in the set)\n",
        "print('a' not in set1)          # True (because 'a' ≠ 'A', case-sensitive)\n",
        "\n",
        "# print(set1[1])   # Error: sets are unordered, so indexing is NOT allowed\n",
        "# set1[0] = 'A'    # Error: sets do not support item assignment\n",
        "\n",
        "# Loop with enumerate → i will be index (0,1,2...) but elements come in random order\n",
        "for i, j in enumerate(set1):\n",
        "    print(i,j)    # i is <class 'int'>\n",
        "\n",
        "# Trying to use while loop with indexing → Error (since sets are not indexable)\n",
        "# i = 0\n",
        "# while i < len(set1):\n",
        "#     print(set1[i])   # This will cause TypeError\n",
        "#     i += 1\n"
      ]
    },
    {
      "cell_type": "markdown",
      "source": [
        "builtin functions\n",
        "\n",
        "len\n",
        "\n",
        "max\n",
        "\n",
        "min\n",
        "\n",
        "sum\n",
        "\n",
        "sorted\n",
        "\n",
        "all\n",
        "\n",
        "any\n",
        "\n",
        "add\n",
        "\n",
        "update\n",
        "\n",
        "remove\n",
        "\n",
        "discard"
      ],
      "metadata": {
        "id": "JzxdoHrCn-y8"
      }
    },
    {
      "cell_type": "code",
      "source": [
        "# Different ways of creating sets\n",
        "set1 = {1,2,3,'A',78+90j}     # integers, string, complex numbers\n",
        "set1 = {1,2,3}                # integers only\n",
        "set1 = {'H','M','a','k'}      # strings only\n",
        "\n",
        "print(len(set1))   # Length of the set (unique items only)\n",
        "print(max(set1))   # Maximum element (works only if all are numbers or all are strings)\n",
        "print(min(set1))   # Minimum element (same condition as above)\n",
        "# print(sum(set1)) # error Sum of elements (only works with numbers)\n",
        "\n",
        "# Working with strings and sets\n",
        "s = \"Book\"\n",
        "print(sorted(s))   # Sorts characters: ['B', 'k', 'o', 'o']  sorted always return list\n",
        "\n",
        "\n",
        "set1 = {'H','M','a','k'}      # strings only\n",
        "s1 = {5,2,4,2,4,2}   # Duplicates removed automatically → {2,4,5}\n",
        "print(sorted(s1))               # Ascending order → [2,4,5]\n",
        "print(sorted(s1, reverse=True)) # Descending order → [5,4,2]\n",
        "\n",
        "# Sets can hold mixed data\n",
        "s1 = {'H','M','a','k'}\n",
        "\n",
        "# Sorting with custom key (convert all to strings first)\n",
        "print(sorted(s1, key=str.lower))\n",
        "sorted_list = sorted(s1, key=str.upper)\n",
        "print(sorted_list)\n",
        "\n",
        "# s1.sort()  Error: sets do not support .sort() because they are unordered\n",
        "\n",
        "# Checking truth values\n",
        "print(all(s1))   # False → because 0 is in the set (0 is considered False)\n",
        "print(any(s1))   # True  → because there are some truthy values like \"k\"\n",
        "\n",
        "s1 = {True, \"k\", 0, -9}\n",
        "\n",
        "# Adding single element\n",
        "s1.add(\"A\")\n",
        "\n",
        "# Adding multiple elements from another iterable\n",
        "s1.update([\"A\",\"B\"])        # add list items\n",
        "s1.update({1,2,3})          # add another set\n",
        "l1 = [\"Flower\"]\n",
        "s1.update(set(l1))          # convert list to set before updating\n",
        "print(s1)\n",
        "\n",
        "# Removing elements\n",
        "# s1.remove('K')   # KeyError (because 'K' not in set, case-sensitive)\n",
        "s1.discard('k')  # Removes 'k' safely if present, does nothing if not present\n",
        "s1.discard('K')    # No error, but nothing happens because 'K' not in set\n",
        "\n",
        "print(s1)          # Output depends on previous operations\n"
      ],
      "metadata": {
        "colab": {
          "base_uri": "https://localhost:8080/"
        },
        "id": "AnHzkkxZBn5q",
        "outputId": "b57745d9-bb55-4b78-9684-6675c2b203b5"
      },
      "execution_count": 23,
      "outputs": [
        {
          "output_type": "stream",
          "name": "stdout",
          "text": [
            "4\n",
            "k\n",
            "H\n",
            "['B', 'k', 'o', 'o']\n",
            "[2, 4, 5]\n",
            "[5, 4, 2]\n",
            "['a', 'H', 'k', 'M']\n",
            "['a', 'H', 'k', 'M']\n",
            "True\n",
            "True\n",
            "{0, True, 2, 3, 'B', 'k', -9, 'A', 'Flower'}\n",
            "{0, True, 2, 3, 'B', -9, 'A', 'Flower'}\n"
          ]
        }
      ]
    },
    {
      "cell_type": "markdown",
      "source": [
        "pop()\n",
        "\n",
        "clear()"
      ],
      "metadata": {
        "id": "3w7AnMTZp_Pl"
      }
    },
    {
      "cell_type": "code",
      "source": [
        "s1 = {True, \"k\", 0, -9}   # a set with mixed values\n",
        "\n",
        "# pop() → removes and returns a random element (since sets are unordered)\n",
        "removed = s1.pop()        # removes one item (which item? unpredictable!)\n",
        "print(s1)               # remaining set after popping\n",
        "print(removed)          # the removed element\n",
        "\n",
        "# clear() → removes all elements from the set (makes it empty)\n",
        "s1.clear()\n",
        "print(s1)                 # Output: set()\n"
      ],
      "metadata": {
        "colab": {
          "base_uri": "https://localhost:8080/"
        },
        "id": "xfHY5v0vDWv-",
        "outputId": "b251eb9c-6575-4de3-fff4-ed3e9b24a1aa"
      },
      "execution_count": 29,
      "outputs": [
        {
          "output_type": "stream",
          "name": "stdout",
          "text": [
            "{True, 'k', -9}\n",
            "0\n",
            "set()\n"
          ]
        }
      ]
    },
    {
      "cell_type": "code",
      "source": [],
      "metadata": {
        "id": "cQjOnIdnJ3ec"
      },
      "execution_count": 24,
      "outputs": []
    }
  ],
  "metadata": {
    "colab": {
      "provenance": [],
      "authorship_tag": "ABX9TyN6SYsqcnLsWivcb9kiuW2X",
      "include_colab_link": true
    },
    "kernelspec": {
      "display_name": "Python 3",
      "name": "python3"
    },
    "language_info": {
      "name": "python"
    }
  },
  "nbformat": 4,
  "nbformat_minor": 0
}